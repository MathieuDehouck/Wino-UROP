{
 "cells": [
  {
   "cell_type": "code",
   "execution_count": 1,
   "id": "436061b7",
   "metadata": {},
   "outputs": [],
   "source": [
    "import pandas as pd\n",
    "import re"
   ]
  },
  {
   "cell_type": "code",
   "execution_count": 2,
   "id": "84ab56a5",
   "metadata": {},
   "outputs": [],
   "source": [
    "female_names = [\n",
    "    'Abby', 'Adriana', 'Alberta', 'Alexia', 'Alice', 'Alicia', 'Alida', 'Alison', 'Allison', 'Amelia',\n",
    "    'Ami', 'Amy', 'Ana', 'Angela', 'Ann', 'Anna', 'Ari', 'Ariana', 'Arya', 'Aubrey', 'Audrey', 'Bailey',\n",
    "    'Beth', 'Bethany', 'Betsy', 'Billie', 'Brenda', 'Bri', 'Casey', 'Cassie', 'Catherine', 'Cathy',\n",
    "    'Celia', 'Charli', 'Charlotte', 'Cherise', 'Christi', 'Christine', 'Cindi', 'Claire', 'Clara',\n",
    "    'Claudia', 'Cora', 'Danika', 'Danielle', 'Daphne', 'Darlene', 'Diane', 'Dina', 'Donna', 'Doris',\n",
    "    'Dorothy', 'Dotty', 'Elena', 'Elizabeth', 'Ellen', 'Emily', 'Emma', 'Eve', 'Evelyn', 'Felicia',\n",
    "    'Fran', 'Francie', 'Francine', 'Geena', 'Ginger', 'Glenda', 'Haley', 'Halley', 'Hannah', 'Hazel',\n",
    "    'Heather', 'Helen', 'Helena', 'Hilda', 'India', 'Irma', 'Isabel', 'Jacquie', 'Jamy', 'Janel',\n",
    "    'Janice', 'Janine', 'Jasmine', 'Jen', 'Jenna', 'Jennifer', 'Jennifers', 'Jess', 'Jessie', 'Jessy',\n",
    "    'Jill', 'Joanna', 'Joanne', 'Jodi', 'Juicy', 'Julie', 'Juliette', 'Kara', 'Kat', 'Katelyn', 'Kathy',\n",
    "    'Katia', 'Katie', 'Katrina', 'Katy', 'Kayla', 'Kelly', 'Kelsey', 'Kenya', 'Kerri', 'Kira', 'Kristen',\n",
    "    'Kristin', 'Lana', 'Lara', 'Lauren', 'Leslie', 'Linda', 'Lisa', 'Lorelei', 'Lorena', 'Louise', 'Lucy',\n",
    "    'Mabel', 'Maddie', 'Mae', 'Maggie', 'Mallory', 'Marcy', 'Maria', 'Mariah', 'Marianne', 'Marilyn',\n",
    "    'Marissa', 'Marla', 'Martha', 'Mary', 'Maryann', 'Melinda', 'Mina', 'Mindy', 'Misty', 'Monica',\n",
    "    'Mya', 'Nancy', 'Natalie', 'Natasha', 'Nina', 'Olga', 'Olivia', 'Paisley', 'Pam', 'Pamela', 'Pat',\n",
    "    'Patricia', 'Patti', 'Paula', 'Peggy', 'Priscilla', 'Rachel', 'Ramona', 'Rebecca', 'Rhiannon',\n",
    "    'Rhonda', 'Rosalind', 'Rose', 'Ruby', 'Sadie', 'Sally', 'Samantha', 'Sandy', 'Sara', 'Sarah',\n",
    "    'Scarlett', 'Selma', 'Shannon', 'Sharon', 'Shelley', 'Shirley', 'Sissy', 'Sue', 'Susan', 'Susie',\n",
    "    'Suzie', 'Tabatha', 'Tanya', 'Tara', 'Tasha', 'Tatianna', 'Taylor', 'Teresa', 'Terri', 'Tia',\n",
    "    'Tina', 'Tracy', 'Venus', 'Victoria', 'Wanda', 'Wendy', 'Zelda', 'Zora'\n",
    "]\n",
    "\n",
    "\n",
    "male_names = [\n",
    "    'Aaron', 'Aarons', 'Achilles', 'Adam', 'Adams', 'Aiden', 'Alfred', 'Ali', 'Allen', 'Andrew', 'Andy', 'Angel', 'Anthony',\n",
    "    'Ari', 'Arnold', 'Arthur', 'Barry', 'Ben', 'Benjamin', 'Bennett', 'Bertram', 'Beto', 'Bill', 'Billy', 'Bob', 'Bobby',\n",
    "    'Braden', 'Bradley', 'Bret', 'Brett', 'Brian', 'Bruce', 'Bryan', 'Bryce', 'Byron', 'Cal', 'Cameron', 'Carl', 'Carter',\n",
    "    'Casper', 'Cate', 'Chad', 'Charles', 'Charlie', 'Chip', 'Chris', 'Christopher', 'Chuck', 'Clint', 'Colby', 'Connor',\n",
    "    'Damien', 'Dan', 'Daniel', 'Danny', 'Darren', 'David', 'Dean', 'Derrick', 'Don', 'Donald', 'Doug', 'Dwight', 'Earl', 'Ed',\n",
    "    'Eddy', 'Eli', 'Elmer', 'Evan', 'Frank', 'Franklin', 'Fred', 'Gabe', 'Gary', 'Gavin', 'George', 'Gordon', 'Greg', 'Hamza',\n",
    "    'Hank', 'Harry', 'Henry', 'Hunter', 'Igor', 'Jack', 'Jackson', 'Jacob', 'Jake', 'Jame', 'James', 'Jameson', 'Jamie', 'Jamy',\n",
    "    'Jan', 'Jay', 'Jeb', 'Jeff', 'Jefferson', 'Jeffrey', 'Jeramy', 'Jeremy', 'Jerry', 'Jesus', 'Joe', 'Joel', 'Joey', 'John',\n",
    "    'Johnathan', 'Jon', 'Jonathan', 'Josh', 'Joshua', 'Justin', 'Ken', 'Kendall', 'Kenneth', 'Kenny', 'Kevin', 'Kyle', 'Leo',\n",
    "    'Leonard', 'Leroy', 'Leslie', 'Liam', 'Logan', 'Lonnie', 'Lucas', 'Luke', 'Mack', 'Major', 'Manfred', 'Marco', 'Marcus',\n",
    "    'Mark', 'Matt', 'Matthew', 'Max', 'Michael', 'Michaels', 'Miguel', 'Mitch', 'Mohammad', 'Morgan', 'Nathan', 'Ned', 'Neil',\n",
    "    'Nick', 'Nixon', 'Noah', 'Norman', 'Ollie', 'Owen', 'Patrick', 'Paul', 'Paulie', 'Perry', 'Pete', 'Peter', 'Phil', 'Philip',\n",
    "    'Phillipe', 'Preston', 'Quentin', 'Quinn', 'Ralph', 'Randy', 'Ray', 'Rich', 'Richard', 'Rick', 'Rickley', 'Ricky', 'Riley',\n",
    "    'Rob', 'Robert', 'Roger', 'Rogers', 'Ron', 'Royce', 'Russ', 'Ryan', 'Sam', 'Samuel', 'Scott', 'Seth', 'Shane', 'Stan',\n",
    "    'Stephen', 'Steve', 'Steven', 'Ted', 'Terry', 'Thomas', 'Timothy', 'Toby', 'Tom', 'Tommy', 'Tony', 'Tyler', 'Walt',\n",
    "    'Walter', 'William', 'Yuri'\n",
    "]\n",
    "prenoms_masculins = [\n",
    "    'Ian', 'Dennis', 'Kyle', 'Logan', 'Craig', 'Derrick', 'Robert', 'Donald', 'William', 'Neil',\n",
    "    'Kenneth', 'Eric', 'Kevin', 'Jason', 'Benjamin', 'Joseph', 'John', 'Aaron', 'Nick', 'Adam', 'Matthew',\n",
    "    'Justin', 'Michael', 'Joel', 'Christopher', 'Steven', 'Brett', 'Jeffrey', 'Jim', 'Byron', 'Brian', 'Samuel',\n",
    "    'Cricket', 'Jack', 'Lawrence', 'Randy', 'Ryan', 'Avid', 'Bill', 'Bob', 'Hunter', 'Jordan', 'Jay', 'Jeremy',\n",
    "    'George', 'Ricky', 'Jake', 'David', 'Patrick', 'Joe', 'Don', 'Ken', 'Kenny', 'Mike',\n",
    "    'Shane', 'Josh', 'Tim', 'Earl', 'Kim', 'Casper', 'Josh', 'Tim', 'Jay', 'Jeremy', 'Gavin',\n",
    "    'Jay', 'Jeremy', 'David', 'Peter', 'Kendall', 'Jacob', 'Josh', 'Tim', 'Gordon', 'Daniel', 'Max',\n",
    "    'Matt', 'Tim', 'Ken', 'Kevin', 'Joseph', 'Paul', 'George', 'Jeremy', 'Joseph', 'Brian', 'Nick', 'Nick', 'Ken',\n",
    "    'Jake', 'Steve', 'Tom', 'Frank', 'Mike', 'Peter', 'Henry', 'Larry', 'John', 'James', 'Kyle', 'Tim', 'Michael',\n",
    "    'Dave', 'Matt', 'Ben', 'Dustin', 'Oliver', 'Matt', 'Andy', 'Pete', 'Jake', 'Aaron', 'Brennan', 'Jason', 'James',\n",
    "    'Thomas', 'Charles', 'Richard', 'Walter', 'Barry', 'Tom', 'Greg', 'Jerry', 'Mark', 'Johnny', 'Todd', 'Bobby',\n",
    "    'Joe', 'Daniel', 'Sam', 'Chris', 'Josh', 'Will', 'Timothy', 'Samuel', 'Jack', 'Dustin', 'Johnny', 'Peter', 'Jerry',\n",
    "    'Nelson'\n",
    "]\n",
    "\n",
    "prenoms_feminins = [\n",
    "    'Patricia', 'Megan', 'Jessica', 'Elena', 'Tanya', 'Amy', 'Jennifer', 'Sue', 'Natalie', 'Betty', 'Kayla', 'Emily',\n",
    "    'Felicia', 'Sarah', 'Jane', 'Christine', 'Victoria', 'Samantha', 'Katrina', 'Mary', 'Laura',\n",
    "    'Rachel', 'Monica', 'Maria', 'Joan', 'Carrie', 'Angela', 'Cynthia', 'Tea', 'Avid', 'Rebecca', 'Jill', 'Michelle',\n",
    "    'Jen', 'Brenda', 'Nancy', 'Tina', 'Pam', 'Margot', 'Donna', 'Glenda', 'Sheila', 'Callie',\n",
    "    'Dina', 'Heather', 'Cathy', 'Susan', 'Fred', 'Jenny', 'Kenny', 'Jenny', 'Lauren',\n",
    "    'Erin', 'Sandy', 'Erica', 'Sandy', 'Valentine', 'Sherry', 'Beth', 'Carla', 'Daphne', 'Rebecca', 'Tina',\n",
    "    'Helen', 'Margaret', 'Emily', 'Rachel', 'Laura', 'Joanna', 'Jill', 'Lucy', 'Nina', 'Kimberly', 'Kate', 'Sally',\n",
    "    'Zoe', 'Maggie', 'Olivia', 'Stephanie', 'Selma', 'Ruby', 'Ginger', 'Rita', 'Penny', 'Olga', 'Katie', 'Maggie',\n",
    "    'Claire', 'Paula', 'Fiona', 'Marie', 'Monica', 'Hannah', 'Gabrielle', 'Jessica', 'Rita', 'Gina', 'Helen', 'Anna',\n",
    "    'Elizabeth', 'Sophia', 'Isabel', 'Charlotte', 'Olivia', 'Emily', 'Pippa', 'Jessica', 'Naomi', 'Kristen', 'Melanie',\n",
    "    'Amanda', 'Ruth', 'Leah', 'Tiffany', 'Mia', 'Eva', 'Dina', 'Christina', 'Mira', 'Maggie', 'Rachel', 'Lauren',\n",
    "    'Lena', 'Sarah', 'Tasha', 'Amelia', 'Sophia', 'Rachel', 'Katie', 'Hannah', 'Juliette', 'Sandra', 'Melanie',\n",
    "    'Rosie', 'Helen', 'Emma', 'Julia', 'Emma', 'Anna', 'Barbara', 'Mandy', 'Claudia', 'Jasmine', 'Sasha', 'Julia',\n",
    "    'Zoe', 'Faith', 'Adriana', 'Sophie', 'Alice', 'Vera', 'Emily', 'Betty', 'Nicole', 'Ava', 'Diana', 'Maria', 'Charlotte',\n",
    "    'Lindsey'\n",
    "]\n",
    "\n",
    "male_names += prenoms_masculins\n",
    "female_names += prenoms_feminins"
   ]
  },
  {
   "cell_type": "code",
   "execution_count": 17,
   "id": "44857eaf",
   "metadata": {},
   "outputs": [],
   "source": [
    "# Charger le fichier CSV\n",
    "df = pd.read_csv(\"class_2_cut.csv\")\n",
    "df['text'] = df['text'].apply(extract_sentence)  # Remplace par le nom réel\n",
    "\n",
    "def extract_sentence(text_string):\n",
    "    # Check if the input is a string before applying regex\n",
    "    if not isinstance(text_string, str):\n",
    "        return None # Return None for non-string inputs (like NaN)\n",
    "\n",
    "    # Regex pour trouver 'sentence ' suivi de n'importe quel caractère (.*?)\n",
    "    # jusqu'à la prochaine virgule et l'espace ', ' (qui précède généralement 'option1' ou d'autres clés)\n",
    "    # ou jusqu'à la fin de la chaîne si rien ne suit.\n",
    "    match = re.search(r'sentence\\s(.*?)(?:,\\soption1|, answer|\\})$', text_string)\n",
    "\n",
    "    if match:\n",
    "        return match.group(1).strip() # .strip() pour supprimer les espaces blancs en début/fin\n",
    "    return None # Retourne None si la phrase n'est pas trouvée (cas d'erreur ou format inattendu)\n",
    "\n",
    "# positive_texts = df[df['label'] == 1]['text'].tolist()  # Phrases avec \"nsp\"\n",
    "\n",
    "\n",
    "list_comparison = df[df['sentiment'] == 'comparison of performance, road to sucess']['text'].tolist() \n",
    "list_relationship = df[df['sentiment'] == 'relationship, helping']['text'].tolist() \n",
    "list_failure = df[df['sentiment'] == 'Failure']['text'].tolist()\n",
    "list_performance = df[df['sentiment'] == 'performance, sucess, competence']['text'].tolist() \n",
    "list_hesitation = df[df['sentiment'] == 'hesitation, question, advice']['text'].tolist() \n",
    "\n",
    "\n",
    "\n",
    "\n"
   ]
  },
  {
   "cell_type": "code",
   "execution_count": 19,
   "id": "5ff9cf0a",
   "metadata": {},
   "outputs": [
    {
     "data": {
      "text/plain": [
       "['Megan said it would be liberating to go out without makeup like Elena does. _ never wore makeup when she left the house., option1 Megan, option2 Elena, answer 2',\n",
       " 'Feeling a draft, William asked Neil to please close the front door because _ was closer., option1 William, option2 Neil, answer 2',\n",
       " \"Emily asked her sister Sarah if she needed any tampons or pads from the store, even though _ didn't because she had switched to using menstrual cups., option1 Emily, option2 Sarah, answer 1\",\n",
       " \"Jennifer discreetly admitted to Erin that she didn't know how to apply eye shadow.  _ was reassuring., option1 Jennifer, option2 Erin, answer 2\",\n",
       " 'Avery was debating on taking up German instead of Latin, because the _ was newer., option1 Latin, option2 German, answer 2',\n",
       " 'In the lagoon Emily swam in the nude while Felicia opted for a full body swimsuit. _ was very hesitant with showing their body., option1 Emily, option2 Felicia, answer 2',\n",
       " 'Samantha brought a get well card to the hospital but Emily forgot to because _ was preoccupied., option1 Samantha, option2 Emily, answer 2',\n",
       " 'Elena told Natalie to put the hood of her jacket up because _ was likely to get cold., option1 Elena, option2 Natalie, answer 2',\n",
       " 'Neil asked Michael what it was like to go to war because _ was a pacifist., option1 Neil, option2 Michael, answer 1',\n",
       " 'The case James used to carry the file still got more space in it. I wonder why he chose the _ that is small., option1 case, option2 file, answer 2']"
      ]
     },
     "execution_count": 19,
     "metadata": {},
     "output_type": "execute_result"
    }
   ],
   "source": [
    "list_hesitation"
   ]
  },
  {
   "cell_type": "code",
   "execution_count": 24,
   "id": "281a3961",
   "metadata": {},
   "outputs": [],
   "source": [
    "positive_labels = [list_comparison , list_relationship, list_failure, list_performance, list_hesitation]\n",
    "\n",
    "# positive_labels.append(df_comp[df_comp['classe'] == 'comparison']['sentence'].tolist())\n",
    "# positive_labels.append(df_relationship[df_relationship['classe'] == 'relationship']['sentence'].tolist())\n",
    "# positive_labels.append(df_failure[df_failure['classe'] == 'failure']['sentence'].tolist())  \n",
    "# positive_labels.append(df_perfomance[df_perfomance['classe'] == 'performance']['sentence'].tolist())\n",
    "# positive_labels.append(df_hesitation[df_hesitation['classe'] == 'hesitation']['sentence'].tolist())\n",
    "\n"
   ]
  },
  {
   "cell_type": "code",
   "execution_count": 33,
   "id": "450d8e5b",
   "metadata": {},
   "outputs": [
    {
     "data": {
      "text/plain": [
       "['The house Benjamin designed for Joseph was beautiful, so _ used it in his portfolio., option1 Benjamin, option2 Joseph, answer 1',\n",
       " 'Steven proudly showed Michael the mangoes he grew himself all this summer.  _ is hardworking., option1 Steven, option2 Michael, answer 1',\n",
       " 'Eric asked Michael on a date to go to the movies on Friday night because _ was very confident., option1 Eric, option2 Michael, answer 1',\n",
       " 'Michael wanted to take Craig out on the water in his new boat. _ said it would be fun to show him the ropes., option1 Michael, option2 Craig, answer 1',\n",
       " 'Laura always had more motivation in life and achieving goals than Katrina, as _ was optimistic., option1 Laura, option2 Katrina, answer 1',\n",
       " 'James was writing a poem on his jotter when the ink finished. The _ is a long ., option1 poem, option2 ink, answer 1',\n",
       " 'Brian had a large collection of coins that Kevin really admired, so _ asked him for some duplicates., option1 Brian, option2 Kevin, answer 2',\n",
       " 'It was clear that Jessica understood and was entertained by the article from Monica because _ was the reader., option1 Jessica, option2 Monica, answer 1',\n",
       " 'Christopher wanted to be a specialist but not Adam because _ had an interest in a limited number of subjects., option1 Christopher, option2 Adam, answer 1',\n",
       " 'Jen put her derma roller into the water, so that the cleaner could sterilize it with the _ ., option1 derma roller, option2 water, answer 2',\n",
       " \"To cope with her problems the teenager wrote in the journal and not the diary since the _ 's pages were bigger., option1 journal, option2 diary, answer 1\"]"
      ]
     },
     "execution_count": 33,
     "metadata": {},
     "output_type": "execute_result"
    }
   ],
   "source": [
    "positive_labels[3]"
   ]
  },
  {
   "cell_type": "code",
   "execution_count": 26,
   "id": "db4fd92d",
   "metadata": {},
   "outputs": [],
   "source": [
    "def genre_percentage(tab_sent, schema):\n",
    "    counter_female, counter_male = 0, 0\n",
    "\n",
    "    for sentence in tab_sent:\n",
    "        if any(word in female_names for word in re.split(r\"['\\s]+\", sentence)):\n",
    "            counter_female += 1\n",
    "        if any(word in male_names for word in re.split(r\"['\\s]+\", sentence)):\n",
    "            counter_male += 1\n",
    "    per_female = counter_female / len(tab_sent) * 100\n",
    "    per_male = counter_male / len(tab_sent) * 100\n",
    "    per_autre = 100 - (per_male + per_female)\n",
    "    return per_female, per_male, per_autre\n",
    "\n",
    "schemas = ['comparison', 'relationship', 'failure', 'performance', 'hesitation']\n",
    "schemas_2 = ['comparaison'] * 3 + ['relationship'] * 3 + ['failure'] * 3 + ['performance'] * 3 + ['hesitation'] * 3\n",
    "data = {\n",
    "    'Genre': ['femmes', 'hommes', 'autres'] * 5,\n",
    "    'Pourcentage des phrases' : [],\n",
    "    'Schéma': schemas_2\n",
    "}\n",
    "\n",
    "for i in range(len(schemas)):\n",
    "    data['Pourcentage des phrases'].extend(genre_percentage(positive_labels[i], schemas[i]))  # Assuming the class names are in the same order as the dataframes"
   ]
  },
  {
   "cell_type": "code",
   "execution_count": 27,
   "id": "d6778b33",
   "metadata": {},
   "outputs": [
    {
     "name": "stdout",
     "output_type": "stream",
     "text": [
      "15\n"
     ]
    }
   ],
   "source": [
    "print(len(data['Pourcentage des phrases']))"
   ]
  },
  {
   "cell_type": "code",
   "execution_count": 29,
   "id": "50e4b063",
   "metadata": {},
   "outputs": [
    {
     "name": "stdout",
     "output_type": "stream",
     "text": [
      "Aperçu de notre DataFrame :\n",
      "    Genre  Pourcentage des phrases        Schéma\n",
      "0  femmes                36.585366   comparaison\n",
      "1  hommes                63.414634   comparaison\n",
      "2  autres                 0.000000   comparaison\n",
      "3  femmes                54.545455  relationship\n",
      "4  hommes                31.818182  relationship\n",
      "------------------------------\n"
     ]
    }
   ],
   "source": [
    "import pandas as pd\n",
    "import matplotlib.pyplot as plt\n",
    "import seaborn as sns\n",
    "\n",
    "# Création d'un exemple de DataFrame\n",
    "\n",
    "df = pd.DataFrame(data)\n",
    "\n",
    "print(\"Aperçu de notre DataFrame :\")\n",
    "print(df.head())\n",
    "print(\"-\" * 30)"
   ]
  },
  {
   "cell_type": "code",
   "execution_count": 30,
   "id": "2123ba80",
   "metadata": {},
   "outputs": [
    {
     "name": "stdout",
     "output_type": "stream",
     "text": [
      "[] []\n"
     ]
    },
    {
     "data": {
      "text/plain": [
       "<Figure size 1200x600 with 0 Axes>"
      ]
     },
     "metadata": {},
     "output_type": "display_data"
    },
    {
     "data": {
      "image/png": "[encoded data removed]",
      "text/plain": [
       "<Figure size 1440x800 with 5 Axes>"
      ]
     },
     "metadata": {},
     "output_type": "display_data"
    }
   ],
   "source": [
    "# Avec catplot, c'est encore plus simple pour créer des sous-graphiques par catégorie\n",
    "# La colonne 'col' spécifie la variable par laquelle diviser les graphiques\n",
    "# 'kind' spécifie le type de graphique (ici 'bar' pour bâtons)\n",
    "\n",
    "plt.figure(figsize=(12, 6)) # figsize ici n'est qu'indicatif, catplot gère bien les dimensions internes\n",
    "\n",
    "g = sns.catplot(\n",
    "    data=df,\n",
    "    x='Genre',\n",
    "    y='Pourcentage des phrases',\n",
    "    col='Schéma', # Crée une colonne de graphiques pour chaque région\n",
    "    kind='bar',\n",
    "    col_wrap=3,   # Afficher 2 graphiques par ligne\n",
    "    height=4,     # Hauteur de chaque sous-graphique\n",
    "    aspect=1.2,   # Ratio d'aspect de chaque sous-graphique\n",
    "    hue='Genre',       # <-- Assignez la variable 'x' à 'hue'\n",
    "    palette='rocket', # Palette de couleurs pastel\n",
    "    errorbar=None # Pour ne pas afficher les barres d'erreur si la moyenne est déjà agrégée\n",
    ",legend=False,           # Assurez-vous que la légende est générée\n",
    "    legend_out=False       # <-- TRÈS IMPORTANT : Dit à Seaborn de NE PAS placer la légende en dehors par défaut\n",
    ")\n",
    "\n",
    "handles, labels = g.axes.flat[0].get_legend_handles_labels()\n",
    "\n",
    "# g.fig.legend(\n",
    "#     handles=handles,\n",
    "#     labels=labels,\n",
    "#     title='Légende', # Titre de la légende\n",
    "#     bbox_to_anchor=(1, 0), # Coin inférieur droit de la figure\n",
    "#     loc='lower right',     # Ancre le coin inférieur droit de la légende à (1, 0)\n",
    "#     borderaxespad=0.1,\n",
    "#     frameon=True,\n",
    "#     fancybox=True,\n",
    "#     shadow=True\n",
    "# )\n",
    "\n",
    "print(handles, labels)\n",
    "# Ajuster les titres et labels\n",
    "g.set_axis_labels(\"Produit\", \"Pourcentage\") # Notez que catplot par défaut agrège en moyenne\n",
    "g.set_titles(\"Schéma : {col_name}\")\n",
    "g.fig.suptitle('Ventes moyennes par Produit pour chaque Région', y=1.02) # Titre global de la figure\n",
    "\n",
    "plt.tight_layout()\n",
    "plt.show()"
   ]
  }
 ],
 "metadata": {
  "kernelspec": {
   "display_name": "Python 3",
   "language": "python",
   "name": "python3"
  },
  "language_info": {
   "codemirror_mode": {
    "name": "ipython",
    "version": 3
   },
   "file_extension": ".py",
   "mimetype": "text/x-python",
   "name": "python",
   "nbconvert_exporter": "python",
   "pygments_lexer": "ipython3",
   "version": "3.13.3"
  }
 },
 "nbformat": 4,
 "nbformat_minor": 5
}
