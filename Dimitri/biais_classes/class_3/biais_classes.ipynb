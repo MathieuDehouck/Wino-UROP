{
 "cells": [
  {
   "cell_type": "code",
   "execution_count": 3,
   "id": "436061b7",
   "metadata": {},
   "outputs": [],
   "source": [
    "import pandas as pd\n",
    "import re"
   ]
  },
  {
   "cell_type": "code",
   "execution_count": 4,
   "id": "84ab56a5",
   "metadata": {},
   "outputs": [],
   "source": [
    "female_names = [\n",
    "    'Abby', 'Adriana', 'Alberta', 'Alexia', 'Alice', 'Alicia', 'Alida', 'Alison', 'Allison', 'Amelia',\n",
    "    'Ami', 'Amy', 'Ana', 'Angela', 'Ann', 'Anna', 'Ari', 'Ariana', 'Arya', 'Aubrey', 'Audrey', 'Bailey',\n",
    "    'Beth', 'Bethany', 'Betsy', 'Billie', 'Brenda', 'Bri', 'Casey', 'Cassie', 'Catherine', 'Cathy',\n",
    "    'Celia', 'Charli', 'Charlotte', 'Cherise', 'Christi', 'Christine', 'Cindi', 'Claire', 'Clara',\n",
    "    'Claudia', 'Cora', 'Danika', 'Danielle', 'Daphne', 'Darlene', 'Diane', 'Dina', 'Donna', 'Doris',\n",
    "    'Dorothy', 'Dotty', 'Elena', 'Elizabeth', 'Ellen', 'Emily', 'Emma', 'Eve', 'Evelyn', 'Felicia',\n",
    "    'Fran', 'Francie', 'Francine', 'Geena', 'Ginger', 'Glenda', 'Haley', 'Halley', 'Hannah', 'Hazel',\n",
    "    'Heather', 'Helen', 'Helena', 'Hilda', 'India', 'Irma', 'Isabel', 'Jacquie', 'Jamy', 'Janel',\n",
    "    'Janice', 'Janine', 'Jasmine', 'Jen', 'Jenna', 'Jennifer', 'Jennifers', 'Jess', 'Jessie', 'Jessy',\n",
    "    'Jill', 'Joanna', 'Joanne', 'Jodi', 'Juicy', 'Julie', 'Juliette', 'Kara', 'Kat', 'Katelyn', 'Kathy',\n",
    "    'Katia', 'Katie', 'Katrina', 'Katy', 'Kayla', 'Kelly', 'Kelsey', 'Kenya', 'Kerri', 'Kira', 'Kristen',\n",
    "    'Kristin', 'Lana', 'Lara', 'Lauren', 'Leslie', 'Linda', 'Lisa', 'Lorelei', 'Lorena', 'Louise', 'Lucy',\n",
    "    'Mabel', 'Maddie', 'Mae', 'Maggie', 'Mallory', 'Marcy', 'Maria', 'Mariah', 'Marianne', 'Marilyn',\n",
    "    'Marissa', 'Marla', 'Martha', 'Mary', 'Maryann', 'Melinda', 'Mina', 'Mindy', 'Misty', 'Monica',\n",
    "    'Mya', 'Nancy', 'Natalie', 'Natasha', 'Nina', 'Olga', 'Olivia', 'Paisley', 'Pam', 'Pamela', 'Pat',\n",
    "    'Patricia', 'Patti', 'Paula', 'Peggy', 'Priscilla', 'Rachel', 'Ramona', 'Rebecca', 'Rhiannon',\n",
    "    'Rhonda', 'Rosalind', 'Rose', 'Ruby', 'Sadie', 'Sally', 'Samantha', 'Sandy', 'Sara', 'Sarah',\n",
    "    'Scarlett', 'Selma', 'Shannon', 'Sharon', 'Shelley', 'Shirley', 'Sissy', 'Sue', 'Susan', 'Susie',\n",
    "    'Suzie', 'Tabatha', 'Tanya', 'Tara', 'Tasha', 'Tatianna', 'Taylor', 'Teresa', 'Terri', 'Tia',\n",
    "    'Tina', 'Tracy', 'Venus', 'Victoria', 'Wanda', 'Wendy', 'Zelda', 'Zora'\n",
    "]\n",
    "\n",
    "\n",
    "male_names = [\n",
    "    'Aaron', 'Aarons', 'Achilles', 'Adam', 'Adams', 'Aiden', 'Alfred', 'Ali', 'Allen', 'Andrew', 'Andy', 'Angel', 'Anthony',\n",
    "    'Ari', 'Arnold', 'Arthur', 'Barry', 'Ben', 'Benjamin', 'Bennett', 'Bertram', 'Beto', 'Bill', 'Billy', 'Bob', 'Bobby',\n",
    "    'Braden', 'Bradley', 'Bret', 'Brett', 'Brian', 'Bruce', 'Bryan', 'Bryce', 'Byron', 'Cal', 'Cameron', 'Carl', 'Carter',\n",
    "    'Casper', 'Cate', 'Chad', 'Charles', 'Charlie', 'Chip', 'Chris', 'Christopher', 'Chuck', 'Clint', 'Colby', 'Connor',\n",
    "    'Damien', 'Dan', 'Daniel', 'Danny', 'Darren', 'David', 'Dean', 'Derrick', 'Don', 'Donald', 'Doug', 'Dwight', 'Earl', 'Ed',\n",
    "    'Eddy', 'Eli', 'Elmer', 'Evan', 'Frank', 'Franklin', 'Fred', 'Gabe', 'Gary', 'Gavin', 'George', 'Gordon', 'Greg', 'Hamza',\n",
    "    'Hank', 'Harry', 'Henry', 'Hunter', 'Igor', 'Jack', 'Jackson', 'Jacob', 'Jake', 'Jame', 'James', 'Jameson', 'Jamie', 'Jamy',\n",
    "    'Jan', 'Jay', 'Jeb', 'Jeff', 'Jefferson', 'Jeffrey', 'Jeramy', 'Jeremy', 'Jerry', 'Jesus', 'Joe', 'Joel', 'Joey', 'John',\n",
    "    'Johnathan', 'Jon', 'Jonathan', 'Josh', 'Joshua', 'Justin', 'Ken', 'Kendall', 'Kenneth', 'Kenny', 'Kevin', 'Kyle', 'Leo',\n",
    "    'Leonard', 'Leroy', 'Leslie', 'Liam', 'Logan', 'Lonnie', 'Lucas', 'Luke', 'Mack', 'Major', 'Manfred', 'Marco', 'Marcus',\n",
    "    'Mark', 'Matt', 'Matthew', 'Max', 'Michael', 'Michaels', 'Miguel', 'Mitch', 'Mohammad', 'Morgan', 'Nathan', 'Ned', 'Neil',\n",
    "    'Nick', 'Nixon', 'Noah', 'Norman', 'Ollie', 'Owen', 'Patrick', 'Paul', 'Paulie', 'Perry', 'Pete', 'Peter', 'Phil', 'Philip',\n",
    "    'Phillipe', 'Preston', 'Quentin', 'Quinn', 'Ralph', 'Randy', 'Ray', 'Rich', 'Richard', 'Rick', 'Rickley', 'Ricky', 'Riley',\n",
    "    'Rob', 'Robert', 'Roger', 'Rogers', 'Ron', 'Royce', 'Russ', 'Ryan', 'Sam', 'Samuel', 'Scott', 'Seth', 'Shane', 'Stan',\n",
    "    'Stephen', 'Steve', 'Steven', 'Ted', 'Terry', 'Thomas', 'Timothy', 'Toby', 'Tom', 'Tommy', 'Tony', 'Tyler', 'Walt',\n",
    "    'Walter', 'William', 'Yuri'\n",
    "]\n",
    "prenoms_masculins = [\n",
    "    'Ian', 'Dennis', 'Kyle', 'Logan', 'Craig', 'Derrick', 'Robert', 'Donald', 'William', 'Neil',\n",
    "    'Kenneth', 'Eric', 'Kevin', 'Jason', 'Benjamin', 'Joseph', 'John', 'Aaron', 'Nick', 'Adam', 'Matthew',\n",
    "    'Justin', 'Michael', 'Joel', 'Christopher', 'Steven', 'Brett', 'Jeffrey', 'Jim', 'Byron', 'Brian', 'Samuel',\n",
    "    'Cricket', 'Jack', 'Lawrence', 'Randy', 'Ryan', 'Avid', 'Bill', 'Bob', 'Hunter', 'Jordan', 'Jay', 'Jeremy',\n",
    "    'George', 'Ricky', 'Jake', 'David', 'Patrick', 'Joe', 'Don', 'Ken', 'Kenny', 'Mike',\n",
    "    'Shane', 'Josh', 'Tim', 'Earl', 'Kim', 'Casper', 'Josh', 'Tim', 'Jay', 'Jeremy', 'Gavin',\n",
    "    'Jay', 'Jeremy', 'David', 'Peter', 'Kendall', 'Jacob', 'Josh', 'Tim', 'Gordon', 'Daniel', 'Max',\n",
    "    'Matt', 'Tim', 'Ken', 'Kevin', 'Joseph', 'Paul', 'George', 'Jeremy', 'Joseph', 'Brian', 'Nick', 'Nick', 'Ken',\n",
    "    'Jake', 'Steve', 'Tom', 'Frank', 'Mike', 'Peter', 'Henry', 'Larry', 'John', 'James', 'Kyle', 'Tim', 'Michael',\n",
    "    'Dave', 'Matt', 'Ben', 'Dustin', 'Oliver', 'Matt', 'Andy', 'Pete', 'Jake', 'Aaron', 'Brennan', 'Jason', 'James',\n",
    "    'Thomas', 'Charles', 'Richard', 'Walter', 'Barry', 'Tom', 'Greg', 'Jerry', 'Mark', 'Johnny', 'Todd', 'Bobby',\n",
    "    'Joe', 'Daniel', 'Sam', 'Chris', 'Josh', 'Will', 'Timothy', 'Samuel', 'Jack', 'Dustin', 'Johnny', 'Peter', 'Jerry',\n",
    "    'Nelson', 'he'\n",
    "]\n",
    "\n",
    "prenoms_feminins = [\n",
    "    'Patricia', 'Megan', 'Jessica', 'Elena', 'Tanya', 'Amy', 'Jennifer', 'Sue', 'Natalie', 'Betty', 'Kayla', 'Emily',\n",
    "    'Felicia', 'Sarah', 'Jane', 'Christine', 'Victoria', 'Samantha', 'Katrina', 'Mary', 'Laura',\n",
    "    'Rachel', 'Monica', 'Maria', 'Joan', 'Carrie', 'Angela', 'Cynthia', 'Tea', 'Avid', 'Rebecca', 'Jill', 'Michelle',\n",
    "    'Jen', 'Brenda', 'Nancy', 'Tina', 'Pam', 'Margot', 'Donna', 'Glenda', 'Sheila', 'Callie',\n",
    "    'Dina', 'Heather', 'Cathy', 'Susan', 'Fred', 'Jenny', 'Kenny', 'Jenny', 'Lauren',\n",
    "    'Erin', 'Sandy', 'Erica', 'Sandy', 'Valentine', 'Sherry', 'Beth', 'Carla', 'Daphne', 'Rebecca', 'Tina',\n",
    "    'Helen', 'Margaret', 'Emily', 'Rachel', 'Laura', 'Joanna', 'Jill', 'Lucy', 'Nina', 'Kimberly', 'Kate', 'Sally',\n",
    "    'Zoe', 'Maggie', 'Olivia', 'Stephanie', 'Selma', 'Ruby', 'Ginger', 'Rita', 'Penny', 'Olga', 'Katie', 'Maggie',\n",
    "    'Claire', 'Paula', 'Fiona', 'Marie', 'Monica', 'Hannah', 'Gabrielle', 'Jessica', 'Rita', 'Gina', 'Helen', 'Anna',\n",
    "    'Elizabeth', 'Sophia', 'Isabel', 'Charlotte', 'Olivia', 'Emily', 'Pippa', 'Jessica', 'Naomi', 'Kristen', 'Melanie',\n",
    "    'Amanda', 'Ruth', 'Leah', 'Tiffany', 'Mia', 'Eva', 'Dina', 'Christina', 'Mira', 'Maggie', 'Rachel', 'Lauren',\n",
    "    'Lena', 'Sarah', 'Tasha', 'Amelia', 'Sophia', 'Rachel', 'Katie', 'Hannah', 'Juliette', 'Sandra', 'Melanie',\n",
    "    'Rosie', 'Helen', 'Emma', 'Julia', 'Emma', 'Anna', 'Barbara', 'Mandy', 'Claudia', 'Jasmine', 'Sasha', 'Julia',\n",
    "    'Zoe', 'Faith', 'Adriana', 'Sophie', 'Alice', 'Vera', 'Emily', 'Betty', 'Nicole', 'Ava', 'Diana', 'Maria', 'Charlotte',\n",
    "    'Lindsey', \"she\"\n",
    "]\n",
    "\n",
    "male_names += prenoms_masculins\n",
    "female_names += prenoms_feminins"
   ]
  },
  {
   "cell_type": "code",
   "execution_count": 5,
   "id": "44857eaf",
   "metadata": {},
   "outputs": [],
   "source": [
    "# Charger le fichier CSV\n",
    "df_sickness = pd.read_csv(r\"C:\\Users\\DELL\\Documents\\GitHub\\Wino-UROP\\Dimitri\\Classifieur\\Class_3\\df_pred_sickness.csv\")\n",
    " # Remplace par le nom réel\n",
    "\n",
    "positive_labels = []\n",
    "\n",
    "positive_labels.append(df_sickness[df_sickness['classe'] == 'ask']['sentence'].tolist())\n"
   ]
  },
  {
   "cell_type": "code",
   "execution_count": 6,
   "id": "cd447b43",
   "metadata": {},
   "outputs": [
    {
     "data": {
      "text/plain": [
       "[[\"Handling emergencies was never very difficult for Kevin but it was for Nelson because _ wasn't able to remain calm under pressure.\",\n",
       "  'Elena had a horrendous coughing fit from the pollen, unlike Tanya , since _ was immune to allergies.',\n",
       "  'Elena had a horrendous coughing fit from the pollen, unlike Tanya , since _ was susceptible to allergies.',\n",
       "  'Kevin is far more physically versatile than Nick, because _ is an injured athlete in bed.',\n",
       "  'Ben played soccer and bowling every week. However, it was easy for him to play in the _ game because he hurt his arm.',\n",
       "  'Ben played soccer and bowling every week. However, it was difficult for him to play in the _ game because he hurt his arm.',\n",
       "  'Since Benjamin ate unhealthy desserts far more frequently than Brett, _ had strong will power.',\n",
       "  'Since Benjamin ate unhealthy desserts far more frequently than Brett, _ had weak will power.',\n",
       "  'Matthew made sure to use an oil lubricant when expanding his piercing, unlike Jeffrey, so the painful experience from _ made a lot of sense.',\n",
       "  'Samantha brought a get well card to the hospital but Emily forgot to because _ was preoccupied.',\n",
       "  'Samantha brought a get well card to the hospital but Emily forgot to because _ was thoughtful.',\n",
       "  'The lawsuit bankrupted the company, causing Megan to be let go from their job while Mary was promoted. _ felt depressed and hopeless.',\n",
       "  'Come over here and take a look at my scalp today  Natalie told Katrina, _ needs a second opinion.',\n",
       "  'The stomach of Neil was rumbling, but Samuel seemed fine, due to _ being hungry.',\n",
       "  'The stomach of Neil was rumbling, but Samuel seemed fine, due to _ being satiated.',\n",
       "  'After Logan contracted the chickenpox from Joseph so _ spent the day sending nice texts about it.',\n",
       "  'After Logan contracted the chickenpox from Joseph so _ spent the day sending mean texts about it.',\n",
       "  'In an effort to control kennel cough, Emily sent Maria to get the medication but _ was busy examining the animals.',\n",
       "  'In an effort to control kennel cough, Emily sent Maria to get the medication because _ was busy examining the animals.',\n",
       "  'The medical exam for the broken arm was longer than the exam on the heart because the _ was a serious problem.',\n",
       "  'The medical exam for the broken arm was shorter than the exam on the heart because the _ was a serious problem.',\n",
       "  'Christopher wanted to be a specialist but not Adam because _ had an interest in a limited number of subjects.',\n",
       "  'Christopher wanted to be a specialist but not Adam because _ had an interest in a many number of subjects.',\n",
       "  'The node on the head needed medication applied to its area because the _ was swollen.',\n",
       "  'The node on the head needed medication applied to its area because the _ would contract it.',\n",
       "  'Matthew offered to help write a fitness plan for Christopher because _ was out of shape.',\n",
       "  'Matthew offered to help write a fitness plan for Christopher because _ was a personal trainer.',\n",
       "  'Rebecca was invited to a concert by Maria, then _ had to get permission to attend from their parents.',\n",
       "  \"My knee joint is more injured than my ankle joint so I'm trying not to put too much stress on the _ if I can help it.\",\n",
       "  'Hunter was suicidal and Robert responded for the reason that _ had never been in this critical situation.',\n",
       "  'Hunter was suicidal and Robert responded for the reason that _ had previously been in this critical situation.',\n",
       "  \"Adam had to schedule a visit a dermatologist but Joseph didn't because _ had bad skin.\",\n",
       "  \"Adam had to schedule a visit a dermatologist but Joseph didn't because _ had good skin.\",\n",
       "  'Jessica often experiences severe nausea, Victoria does not therefore _ does not ride roller coasters.',\n",
       "  'Jessica often experiences severe nausea, Victoria does not therefore _ often rides big roller coasters.',\n",
       "  \"Jason's leg was more sore than his arm was because he warmed up the _ before exercising.\",\n",
       "  \"Jason's leg was more sore than his arm was although he warmed up the _ before exercising.\",\n",
       "  'Matthew spent the weekend watching a baby while Benjamin was on vacation, and _ made sure their vacation was relaxing.',\n",
       "  'Matthew spent the weekend watching a baby while Benjamin was on vacation, and _ made sure the baby was fed.',\n",
       "  'Craig volunteered to help the dyslexic students at the school while Joel avoided them, since _ struggled with reading.',\n",
       "  \"Ian did not see the tumor on Brett's leg, because _ was only receiving an eye exam.\",\n",
       "  \"Ian did not see the tumor on Brett's leg, because _ was only performing an eye exam.\",\n",
       "  'Eating sweets was a big problem for Carrie but not for Rebecca, thats why _ has a small waistline.',\n",
       "  'Eating sweets was a big problem for Carrie but not for Rebecca, thats why _ has a large waistline.',\n",
       "  \"Megan inserted an IV into Sarah's arm once they were admitted to the hospital, because _ was a nurse.\",\n",
       "  \"Megan inserted an IV into Sarah's arm once they were admitted to the hospital, because _ was dehydrated.\",\n",
       "  'Brett was more prepared to be a parent than Aaron because _ had spent a lot of time with children.',\n",
       "  'Brett was more prepared to be a parent than Aaron because _ had spent very little time with children.',\n",
       "  'Michael discovered Craig was a respected doctor so _ was asked many health related questions.',\n",
       "  'Michael discovered Craig was a respected doctor so _ asked him many health related questions.',\n",
       "  \"Ryan ran over Ian's guinea pig with his car, causing _ to feel a great deal of pain.\",\n",
       "  \"Ryan ran over Ian's guinea pig with his car, causing _ to feel a great deal of guilt.\",\n",
       "  'Natalie helped Monica to get into a treatment program, after _ told of her drug addiction.',\n",
       "  'Natalie helped Monica to get into a treatment program, after _ heard of her drug addiction.',\n",
       "  'Nelson went to the doctors office without Dennis because _ had to change his prescription.',\n",
       "  'Hangovers are really bad, but they are not as bad as migraines, because the _ are gone quick.',\n",
       "  'Hangovers are really bad, but they are not as bad as migraines, because the _ last awhile.',\n",
       "  'The disease was very contagious. His clothes and homes had to be burned. The _ were ragged.',\n",
       "  'The disease was very contagious. His clothes and homes had to be burned. The _ were huge.',\n",
       "  'Carrie needed to be vigilant about her bone health which Natalie worries about since _ is concerned.',\n",
       "  'Carrie needed to be vigilant about her bone health which Natalie worries about since _ is elderly.']]"
      ]
     },
     "execution_count": 6,
     "metadata": {},
     "output_type": "execute_result"
    }
   ],
   "source": [
    "positive_labels"
   ]
  },
  {
   "cell_type": "code",
   "execution_count": 9,
   "id": "db4fd92d",
   "metadata": {},
   "outputs": [],
   "source": [
    "def genre_percentage(tab_sent, schema):\n",
    "    counter_female, counter_male, counter_autre = 0,0, 0\n",
    "\n",
    "    for sentence in tab_sent:\n",
    "        f = any(word in female_names for word in re.split(r\"['\\s]+\", sentence))\n",
    "        m = any(word in male_names for word in re.split(r\"['\\s]+\", sentence))\n",
    "        if f:\n",
    "            counter_female += 1\n",
    "        if m:\n",
    "            counter_male += 1\n",
    "        if not(f) and not(m):\n",
    "            counter_autre += 1\n",
    "    per_female = counter_female / len(tab_sent) * 100\n",
    "    per_male = counter_male / len(tab_sent) * 100\n",
    "    per_autre = counter_autre / len(tab_sent) * 100\n",
    "    return per_female, per_male, per_autre\n",
    "\n",
    "schemas = ['sickness']\n",
    "schemas_2 = ['sickness'] * 3 #+ ['chores'] * 3+ ['failure'] * 3 + ['success']*3   ['ask' ] *3 + ['hesitation'] * 3 +['friendship'] * 3 + ['family'] *3 + ['DIY'] *3 + ['wealth'] *3 +\n",
    "data = {\n",
    "    'Genre': ['femmes', 'hommes', 'autres'] * 1,\n",
    "    'Pourcentage des phrases' : [],\n",
    "    'Schéma': schemas_2\n",
    "}\n",
    "\n",
    "for i in range(len(schemas)):\n",
    "    data['Pourcentage des phrases'].extend(genre_percentage(positive_labels[i], schemas[i]))  # Assuming the class names are in the same order as the dataframes"
   ]
  },
  {
   "cell_type": "code",
   "execution_count": 12,
   "id": "d6778b33",
   "metadata": {},
   "outputs": [
    {
     "data": {
      "text/plain": [
       "['sickness', 'sickness', 'sickness']"
      ]
     },
     "execution_count": 12,
     "metadata": {},
     "output_type": "execute_result"
    }
   ],
   "source": [
    "schemas_2"
   ]
  },
  {
   "cell_type": "code",
   "execution_count": 10,
   "id": "50e4b063",
   "metadata": {},
   "outputs": [
    {
     "name": "stdout",
     "output_type": "stream",
     "text": [
      "Aperçu de notre DataFrame :\n",
      "    Genre  Pourcentage des phrases    Schéma\n",
      "0  femmes                31.147541  sickness\n",
      "1  hommes                54.098361  sickness\n",
      "2  autres                14.754098  sickness\n",
      "------------------------------\n"
     ]
    }
   ],
   "source": [
    "import pandas as pd\n",
    "import matplotlib.pyplot as plt\n",
    "import seaborn as sns\n",
    "\n",
    "# Création d'un exemple de DataFrame\n",
    "\n",
    "df = pd.DataFrame(data)\n",
    "\n",
    "print(\"Aperçu de notre DataFrame :\")\n",
    "print(df.head())\n",
    "print(\"-\" * 30)"
   ]
  },
  {
   "cell_type": "code",
   "execution_count": 11,
   "id": "2123ba80",
   "metadata": {},
   "outputs": [
    {
     "name": "stdout",
     "output_type": "stream",
     "text": [
      "[] []\n"
     ]
    },
    {
     "data": {
      "text/plain": [
       "<Figure size 1200x600 with 0 Axes>"
      ]
     },
     "metadata": {},
     "output_type": "display_data"
    },
    {
     "data": {
      "image/png": "[encoded data removed]",
      "text/plain": [
       "<Figure size 1440x400 with 1 Axes>"
      ]
     },
     "metadata": {},
     "output_type": "display_data"
    }
   ],
   "source": [
    "# Avec catplot, c'est encore plus simple pour créer des sous-graphiques par catégorie\n",
    "# La colonne 'col' spécifie la variable par laquelle diviser les graphiques\n",
    "# 'kind' spécifie le type de graphique (ici 'bar' pour bâtons)\n",
    "\n",
    "plt.figure(figsize=(12, 6)) # figsize ici n'est qu'indicatif, catplot gère bien les dimensions internes\n",
    "\n",
    "g = sns.catplot(\n",
    "    data=df,\n",
    "    x='Genre',\n",
    "    y='Pourcentage des phrases',\n",
    "    col='Schéma', # Crée une colonne de graphiques pour chaque région\n",
    "    kind='bar',\n",
    "    col_wrap=3,   # Afficher 2 graphiques par ligne\n",
    "    height=4,     # Hauteur de chaque sous-graphique\n",
    "    aspect=1.2,   # Ratio d'aspect de chaque sous-graphique\n",
    "    hue='Genre',       # <-- Assignez la variable 'x' à 'hue'\n",
    "    palette='rocket', # Palette de couleurs pastel\n",
    "    errorbar=None # Pour ne pas afficher les barres d'erreur si la moyenne est déjà agrégée\n",
    ",legend=False,           # Assurez-vous que la légende est générée\n",
    "    legend_out=False       # <-- TRÈS IMPORTANT : Dit à Seaborn de NE PAS placer la légende en dehors par défaut\n",
    ")\n",
    "\n",
    "handles, labels = g.axes.flat[0].get_legend_handles_labels()\n",
    "\n",
    "# g.fig.legend(\n",
    "#     handles=handles,\n",
    "#     labels=labels,\n",
    "#     title='Légende', # Titre de la légende\n",
    "#     bbox_to_anchor=(1, 0), # Coin inférieur droit de la figure\n",
    "#     loc='lower right',     # Ancre le coin inférieur droit de la légende à (1, 0)\n",
    "#     borderaxespad=0.1,\n",
    "#     frameon=True,\n",
    "#     fancybox=True,\n",
    "#     shadow=True\n",
    "# )\n",
    "\n",
    "print(handles, labels)\n",
    "# Ajuster les titres et labels\n",
    "g.set_axis_labels(\"\", \"Pourcentage\") # Notez que catplot par défaut agrège en moyenne\n",
    "g.set_titles(\"Schéma : {col_name}\")\n",
    "g.fig.suptitle('', y=1.02) # Titre global de la figure\n",
    "\n",
    "plt.tight_layout()\n",
    "plt.show()"
   ]
  }
 ],
 "metadata": {
  "kernelspec": {
   "display_name": "Python 3",
   "language": "python",
   "name": "python3"
  },
  "language_info": {
   "codemirror_mode": {
    "name": "ipython",
    "version": 3
   },
   "file_extension": ".py",
   "mimetype": "text/x-python",
   "name": "python",
   "nbconvert_exporter": "python",
   "pygments_lexer": "ipython3",
   "version": "3.13.3"
  }
 },
 "nbformat": 4,
 "nbformat_minor": 5
}
