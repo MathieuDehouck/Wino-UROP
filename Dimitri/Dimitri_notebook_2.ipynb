{
  "cells": [
    {
      "cell_type": "markdown",
      "id": "403112b0",
      "metadata": {
        "id": "403112b0"
      },
      "source": [
        "# Classification"
      ]
    },
    {
      "cell_type": "code",
      "execution_count": null,
      "id": "544f27ba",
      "metadata": {
        "id": "544f27ba"
      },
      "outputs": [],
      "source": [
        "entrainer modèle pour classifier :\n",
        "    -classification personelle\n",
        "- associer les phrases à des cas féminins masculins ou neutre (classes)\n",
        "ensuite : effacer les noms et voir si ça marche tjr\n",
        "    => test de prédiction\n",
        "\n",
        "- prendre des sujets : ex : faire un régime\n",
        "    voir les thématiques associées à des femmes\n",
        "    quand je fait la détection, ne pas utiliser les noms propres différents (NOM1)\n",
        "\n",
        "    ensuite, inverser nom féminin et masculin et tester la réussite du schéma winogrande\n",
        "    1 nom féminin, masculin  ou les 2\n",
        "\n",
        "environ 200-400 annotation\n",
        "éventuellement utiliser des recherches de mots (pas trop généraux et plusieurs)\n",
        "\n",
        "utiliser : sklearn => word embeding (BERT)\n",
        "\n",
        "ensuite : validation croisée , couper le corpus en pluseurs morceaux et faire le test plusieurs fois, car on manque de données\n",
        "=> k fold\n",
        "\n",
        "faire des stats sur les sous ensemble d'annotation\n",
        "\n",
        "prendre RoBerta finetuné sur winograde et lui proposer de items non biaisé à résoudre et comparer les scores avecdes items biaisés\n",
        "\n",
        "pour bert: faire en sorte que ça donne bien les embedding"
      ]
    },
    {
      "cell_type": "code",
      "execution_count": null,
      "id": "dfc5b035",
      "metadata": {
        "id": "dfc5b035",
        "outputId": "ffeea12e-1720-4a37-f9df-c409b12ce698",
        "scrolled": true
      },
      "outputs": [
        {
          "name": "stdout",
          "output_type": "stream",
          "text": [
            "1.2.1\n"
          ]
        }
      ],
      "source": [
        "import sklearn\n",
        "print(sklearn.__version__)\n"
      ]
    },
    {
      "cell_type": "code",
      "execution_count": 29,
      "id": "394321ef",
      "metadata": {
        "colab": {
          "base_uri": "https://localhost:8080/"
        },
        "id": "394321ef",
        "outputId": "17b346ca-1eca-41af-86b5-01cff269c2fa"
      },
      "outputs": [
        {
          "name": "stdout",
          "output_type": "stream",
          "text": [
            "Accuracy : 1.0\n"
          ]
        }
      ],
      "source": [
        "from transformers import AutoTokenizer, AutoModel\n",
        "import torch\n",
        "from sklearn.linear_model import LogisticRegression\n",
        "from sklearn.model_selection import train_test_split\n",
        "from sklearn.metrics import accuracy_score\n",
        "import numpy as np\n",
        "\n",
        "# === 1. Chargement du modèle CamemBERT ===\n",
        "tokenizer = AutoTokenizer.from_pretrained(\"camembert-base\")\n",
        "model = AutoModel.from_pretrained(\"camembert-base\")\n",
        "\n",
        "# === 2. Fonction pour encoder un texte en embedding BERT ===\n",
        "def get_bert_embedding(text):\n",
        "    inputs = tokenizer(text, return_tensors=\"pt\", truncation=True, padding=True)\n",
        "    with torch.no_grad():\n",
        "        outputs = model(**inputs)\n",
        "    # Moyenne des embeddings de tous les tokens\n",
        "    return outputs.last_hidden_state.mean(dim=1).squeeze().numpy()\n",
        "\n",
        "# === 3. Données d'exemple ===\n",
        "X_texts = [\n",
        "    \"Le chat est mignon\", \"Le chien aboie\", \"Le soleil brille\", \"Il pleut aujourd'hui\", \"J'aime le chocolat\",\n",
        "    \"Le chat dort\", \"Le chien court\", \"Le ciel est bleu\", \"Il neige dehors\", \"Je mange une pomme\"\n",
        "]\n",
        "\n",
        "y = [0, 0, 1, 1, 0, 0, 0, 1, 1, 0]\n",
        "\n",
        "# === 4. Transformer les textes en embeddings ===\n",
        "X_embed = [get_bert_embedding(text) for text in X_texts]\n",
        "X_embed_np = np.vstack(X_embed)\n",
        "\n",
        "# === 5. Utilisation dans scikit-learn ===\n",
        "X_train, X_test, y_train, y_test = train_test_split(X_embed_np, y, test_size=0.2, random_state=42)\n",
        "\n",
        "clf = LogisticRegression(max_iter = 1000)\n",
        "clf.fit(X_train, y_train)\n",
        "\n",
        "y_pred = clf.predict(X_test)\n",
        "print(\"Accuracy :\", accuracy_score(y_test, y_pred))\n",
        "\n",
        "\n"
      ]
    },
    {
      "cell_type": "code",
      "execution_count": 36,
      "id": "41WLaGAJ1llb",
      "metadata": {
        "colab": {
          "base_uri": "https://localhost:8080/"
        },
        "id": "41WLaGAJ1llb",
        "outputId": "b1818002-1bda-4105-bc49-d5ab25248b4f"
      },
      "outputs": [
        {
          "name": "stdout",
          "output_type": "stream",
          "text": [
            "(2, 768)\n"
          ]
        }
      ],
      "source": [
        "print(X_test.shape)\n"
      ]
    },
    {
      "cell_type": "code",
      "execution_count": 38,
      "id": "8O5qGaWx1paD",
      "metadata": {
        "colab": {
          "base_uri": "https://localhost:8080/"
        },
        "id": "8O5qGaWx1paD",
        "outputId": "e57fa851-c82f-4496-c6e2-a725966c47c9"
      },
      "outputs": [
        {
          "data": {
            "text/plain": [
              "(1, 768)"
            ]
          },
          "execution_count": 38,
          "metadata": {},
          "output_type": "execute_result"
        }
      ],
      "source": [
        "get_bert_embedding(\"njknjzeflzfnzlfznnfzfi\").reshape(1, -1).shape"
      ]
    },
    {
      "cell_type": "code",
      "execution_count": 30,
      "id": "TDCmCMzXvhOc",
      "metadata": {
        "colab": {
          "base_uri": "https://localhost:8080/"
        },
        "id": "TDCmCMzXvhOc",
        "outputId": "bf38ba0a-56d5-49d0-f03a-42e13d3bc844"
      },
      "outputs": [
        {
          "name": "stdout",
          "output_type": "stream",
          "text": [
            "[1]\n"
          ]
        }
      ],
      "source": [
        "y2 = clf.predict(get_bert_embedding(\"njknjzeflzfnzlfznnfzfi\").reshape(1, -1))\n",
        "print(y2)"
      ]
    },
    {
      "cell_type": "code",
      "execution_count": null,
      "id": "12f2c2a3",
      "metadata": {
        "id": "12f2c2a3",
        "outputId": "ea7d9750-8741-4a07-df6e-f8ba71a255e9",
        "scrolled": true
      },
      "outputs": [
        {
          "name": "stdout",
          "output_type": "stream",
          "text": [
            "KFold(n_splits=2, random_state=None, shuffle=False)\n",
            "Fold 0:\n",
            "  Train: index=[2 3]\n",
            "  Test:  index=[0 1]\n",
            "Fold 1:\n",
            "  Train: index=[0 1]\n",
            "  Test:  index=[2 3]\n"
          ]
        }
      ],
      "source": [
        "import numpy as np\n",
        "from sklearn.model_selection import KFold\n",
        "X = np.array([[1, 2], [3, 4], [1, 2], [3, 4]])\n",
        "y = np.array([1, 2, 3, 4])\n",
        "kf = KFold(n_splits=2)\n",
        "kf.get_n_splits(X)\n",
        "print(kf)\n",
        "for i, (train_index, test_index) in enumerate(kf.split(X)):\n",
        "    print(f\"Fold {i}:\")\n",
        "    print(f\"  Train: index={train_index}\")\n",
        "    print(f\"  Test:  index={test_index}\")"
      ]
    },
    {
      "cell_type": "code",
      "execution_count": null,
      "id": "00f3c1f6",
      "metadata": {
        "id": "00f3c1f6"
      },
      "outputs": [],
      "source": [
        "sport\n",
        "caring\n",
        "wealth\n",
        "advice\n",
        "\n",
        "hesitation, question, advice\n",
        "performance, sucess, competence\n",
        "Failure\n",
        "comparison of performance, road to sucess\n",
        "relationship, helping\n",
        "\n",
        "aussi : comptabiliser her/his pour les femmes/h"
      ]
    },
    {
      "cell_type": "code",
      "execution_count": null,
      "id": "99c63474",
      "metadata": {
        "id": "99c63474",
        "outputId": "8af08e09-15c0-48b4-b6c5-9258f82eefe2"
      },
      "outputs": [
        {
          "name": "stdout",
          "output_type": "stream",
          "text": [
            "1279 lignes conservées dans 'train_cut.txt'.\n"
          ]
        }
      ],
      "source": [
        "# Nom du fichier source et du fichier de sortie\n",
        "fichier_entree = \"train.txt\"\n",
        "fichier_sortie = \"train_cut.txt\"\n",
        "\n",
        "# Lecture du fichier et filtrage\n",
        "with open(fichier_entree, \"r\", encoding=\"utf-8\") as f_in:\n",
        "    lignes = f_in.readlines()\n",
        "\n",
        "# Garder une ligne sur deux\n",
        "lignes_filtrees = lignes[::2]  # [::2] = toutes les 2 lignes en partant de 0\n",
        "\n",
        "# Écriture du résultat dans un nouveau fichier\n",
        "with open(fichier_sortie, \"w\", encoding=\"utf-8\") as f_out:\n",
        "    f_out.writelines(lignes_filtrees)\n",
        "\n",
        "print(f\"{len(lignes_filtrees)} lignes conservées dans '{fichier_sortie}'.\")\n"
      ]
    },
    {
      "cell_type": "code",
      "execution_count": 2,
      "id": "Us8P1SNadWPs",
      "metadata": {
        "colab": {
          "base_uri": "https://localhost:8080/",
          "height": 73
        },
        "id": "Us8P1SNadWPs",
        "outputId": "50d4a59b-5b2a-4d5d-ee3c-8873ce56cd35"
      },
      "outputs": [
        {
          "data": {
            "text/html": [
              "\n",
              "     <input type=\"file\" id=\"files-c544045b-8a21-41a6-be67-d3727a6ee681\" name=\"files[]\" multiple disabled\n",
              "        style=\"border:none\" />\n",
              "     <output id=\"result-c544045b-8a21-41a6-be67-d3727a6ee681\">\n",
              "      Upload widget is only available when the cell has been executed in the\n",
              "      current browser session. Please rerun this cell to enable.\n",
              "      </output>\n",
              "      <script>// Copyright 2017 Google LLC\n",
              "//\n",
              "// Licensed under the Apache License, Version 2.0 (the \"License\");\n",
              "// you may not use this file except in compliance with the License.\n",
              "// You may obtain a copy of the License at\n",
              "//\n",
              "//      http://www.apache.org/licenses/LICENSE-2.0\n",
              "//\n",
              "// Unless required by applicable law or agreed to in writing, software\n",
              "// distributed under the License is distributed on an \"AS IS\" BASIS,\n",
              "// WITHOUT WARRANTIES OR CONDITIONS OF ANY KIND, either express or implied.\n",
              "// See the License for the specific language governing permissions and\n",
              "// limitations under the License.\n",
              "\n",
              "/**\n",
              " * @fileoverview Helpers for google.colab Python module.\n",
              " */\n",
              "(function(scope) {\n",
              "function span(text, styleAttributes = {}) {\n",
              "  const element = document.createElement('span');\n",
              "  element.textContent = text;\n",
              "  for (const key of Object.keys(styleAttributes)) {\n",
              "    element.style[key] = styleAttributes[key];\n",
              "  }\n",
              "  return element;\n",
              "}\n",
              "\n",
              "// Max number of bytes which will be uploaded at a time.\n",
              "const MAX_PAYLOAD_SIZE = 100 * 1024;\n",
              "\n",
              "function _uploadFiles(inputId, outputId) {\n",
              "  const steps = uploadFilesStep(inputId, outputId);\n",
              "  const outputElement = document.getElementById(outputId);\n",
              "  // Cache steps on the outputElement to make it available for the next call\n",
              "  // to uploadFilesContinue from Python.\n",
              "  outputElement.steps = steps;\n",
              "\n",
              "  return _uploadFilesContinue(outputId);\n",
              "}\n",
              "\n",
              "// This is roughly an async generator (not supported in the browser yet),\n",
              "// where there are multiple asynchronous steps and the Python side is going\n",
              "// to poll for completion of each step.\n",
              "// This uses a Promise to block the python side on completion of each step,\n",
              "// then passes the result of the previous step as the input to the next step.\n",
              "function _uploadFilesContinue(outputId) {\n",
              "  const outputElement = document.getElementById(outputId);\n",
              "  const steps = outputElement.steps;\n",
              "\n",
              "  const next = steps.next(outputElement.lastPromiseValue);\n",
              "  return Promise.resolve(next.value.promise).then((value) => {\n",
              "    // Cache the last promise value to make it available to the next\n",
              "    // step of the generator.\n",
              "    outputElement.lastPromiseValue = value;\n",
              "    return next.value.response;\n",
              "  });\n",
              "}\n",
              "\n",
              "/**\n",
              " * Generator function which is called between each async step of the upload\n",
              " * process.\n",
              " * @param {string} inputId Element ID of the input file picker element.\n",
              " * @param {string} outputId Element ID of the output display.\n",
              " * @return {!Iterable<!Object>} Iterable of next steps.\n",
              " */\n",
              "function* uploadFilesStep(inputId, outputId) {\n",
              "  const inputElement = document.getElementById(inputId);\n",
              "  inputElement.disabled = false;\n",
              "\n",
              "  const outputElement = document.getElementById(outputId);\n",
              "  outputElement.innerHTML = '';\n",
              "\n",
              "  const pickedPromise = new Promise((resolve) => {\n",
              "    inputElement.addEventListener('change', (e) => {\n",
              "      resolve(e.target.files);\n",
              "    });\n",
              "  });\n",
              "\n",
              "  const cancel = document.createElement('button');\n",
              "  inputElement.parentElement.appendChild(cancel);\n",
              "  cancel.textContent = 'Cancel upload';\n",
              "  const cancelPromise = new Promise((resolve) => {\n",
              "    cancel.onclick = () => {\n",
              "      resolve(null);\n",
              "    };\n",
              "  });\n",
              "\n",
              "  // Wait for the user to pick the files.\n",
              "  const files = yield {\n",
              "    promise: Promise.race([pickedPromise, cancelPromise]),\n",
              "    response: {\n",
              "      action: 'starting',\n",
              "    }\n",
              "  };\n",
              "\n",
              "  cancel.remove();\n",
              "\n",
              "  // Disable the input element since further picks are not allowed.\n",
              "  inputElement.disabled = true;\n",
              "\n",
              "  if (!files) {\n",
              "    return {\n",
              "      response: {\n",
              "        action: 'complete',\n",
              "      }\n",
              "    };\n",
              "  }\n",
              "\n",
              "  for (const file of files) {\n",
              "    const li = document.createElement('li');\n",
              "    li.append(span(file.name, {fontWeight: 'bold'}));\n",
              "    li.append(span(\n",
              "        `(${file.type || 'n/a'}) - ${file.size} bytes, ` +\n",
              "        `last modified: ${\n",
              "            file.lastModifiedDate ? file.lastModifiedDate.toLocaleDateString() :\n",
              "                                    'n/a'} - `));\n",
              "    const percent = span('0% done');\n",
              "    li.appendChild(percent);\n",
              "\n",
              "    outputElement.appendChild(li);\n",
              "\n",
              "    const fileDataPromise = new Promise((resolve) => {\n",
              "      const reader = new FileReader();\n",
              "      reader.onload = (e) => {\n",
              "        resolve(e.target.result);\n",
              "      };\n",
              "      reader.readAsArrayBuffer(file);\n",
              "    });\n",
              "    // Wait for the data to be ready.\n",
              "    let fileData = yield {\n",
              "      promise: fileDataPromise,\n",
              "      response: {\n",
              "        action: 'continue',\n",
              "      }\n",
              "    };\n",
              "\n",
              "    // Use a chunked sending to avoid message size limits. See b/62115660.\n",
              "    let position = 0;\n",
              "    do {\n",
              "      const length = Math.min(fileData.byteLength - position, MAX_PAYLOAD_SIZE);\n",
              "      const chunk = new Uint8Array(fileData, position, length);\n",
              "      position += length;\n",
              "\n",
              "      const base64 = btoa(String.fromCharCode.apply(null, chunk));\n",
              "      yield {\n",
              "        response: {\n",
              "          action: 'append',\n",
              "          file: file.name,\n",
              "          data: base64,\n",
              "        },\n",
              "      };\n",
              "\n",
              "      let percentDone = fileData.byteLength === 0 ?\n",
              "          100 :\n",
              "          Math.round((position / fileData.byteLength) * 100);\n",
              "      percent.textContent = `${percentDone}% done`;\n",
              "\n",
              "    } while (position < fileData.byteLength);\n",
              "  }\n",
              "\n",
              "  // All done.\n",
              "  yield {\n",
              "    response: {\n",
              "      action: 'complete',\n",
              "    }\n",
              "  };\n",
              "}\n",
              "\n",
              "scope.google = scope.google || {};\n",
              "scope.google.colab = scope.google.colab || {};\n",
              "scope.google.colab._files = {\n",
              "  _uploadFiles,\n",
              "  _uploadFilesContinue,\n",
              "};\n",
              "})(self);\n",
              "</script> "
            ],
            "text/plain": [
              "<IPython.core.display.HTML object>"
            ]
          },
          "metadata": {},
          "output_type": "display_data"
        },
        {
          "name": "stdout",
          "output_type": "stream",
          "text": [
            "Saving class_2.csv to class_2.csv\n"
          ]
        }
      ],
      "source": [
        "from google.colab import files\n",
        "uploaded = files.upload()\n",
        "\n",
        "# Le code va vous inviter à choisir un fichier depuis votre ordinateur\n",
        "# Une fois le fichier téléchargé, il sera disponible dans le répertoire temporaire de Colab."
      ]
    },
    {
      "cell_type": "code",
      "execution_count": 3,
      "id": "254b1704",
      "metadata": {
        "id": "254b1704"
      },
      "outputs": [],
      "source": [
        "import pandas as pd\n",
        "import re\n",
        "\n",
        "# Chargement de ton fichier CSV (si tu l'as en CSV)\n",
        "df = pd.read_csv('class_2.csv')\n",
        "\n",
        "# Exemple avec les colonnes en question\n",
        "liste_2D = []\n",
        "\n",
        "for _, row in df.iterrows():\n",
        "    text = row['text']\n",
        "    sentiment = row['sentiment']\n",
        "\n",
        "    # Extraction avec regex\n",
        "    qid_match = re.search(r'qID\\s([^\\s,]+)', text)\n",
        "    sentence_match = re.search(r'sentence\\s(.*?),\\soption1', text)\n",
        "    answer_match = re.search(r'answer\\s?(\\d+)', text)\n",
        "\n",
        "    if qid_match and sentence_match and answer_match:\n",
        "        qid = qid_match.group(1).strip()\n",
        "        sentence = sentence_match.group(1).strip()\n",
        "        answer = answer_match.group(1).strip()\n",
        "\n",
        "        liste_2D.append([qid, sentence, answer, sentiment])\n",
        "\n"
      ]
    },
    {
      "cell_type": "code",
      "execution_count": null,
      "id": "0b6f7e6b",
      "metadata": {
        "collapsed": true,
        "id": "0b6f7e6b",
        "outputId": "9dc575d3-26f6-4516-8642-f06e11451cd4"
      },
      "outputs": [
        {
          "name": "stdout",
          "output_type": "stream",
          "text": [
            "[['3QHITW7OYO7Q6B6ISU2UMJB84ZLAQE-2', \"Ian volunteered to eat Dennis's menudo after already having a bowl because _ despised eating intestine.\", '2', 'other'], ['3XWUWJ18TLO2DDRXF83QWLKRJ29UU4-1', 'He never comes to my home, but I always go to his house because the _ is smaller.', '1', 'comparison of performance, road to sucess'], ['3D5G8J4N5CI2K40F4RZLF9OG2CKVTH-2', \"Kyle doesn't wear leg warmers to bed, while Logan almost always does. _ is more likely to live in a colder climate.\", '2', 'other'], ['3DW3BNF1GHG4SV9KHVCQWF4L0K98VE-2', 'The GPS and map helped me navigate home.  I got lost when the _ got turned upside down.', '2', 'Failure'], ['3DTJ4WT8BFTH45NSFTZT1T1BND3ZEV-2', 'Emily looked up and saw Patricia racing by overhead, as _ was on the ramp .', '2', 'other'], ['304QEQWKZRY6EBUR5DPX06S39IH0OJ-2', 'The treasury workers took the gold bars off of the trolley and stacked them in the safe until the _ was empty.', '2', 'other'], ['36FFXPMSTB2HPB0N3LWI6YRLWWHHOX-1', 'He thought he had time to take the scenic route to the store, but the _ was under construction.', '1', 'Failure'], ['37SOB9Z0SUBUPIQRB8ROANMHJ463L8-2', 'She remembered how annoying it is to dust her wood chair so she bought a plastic table instead.  Cleaning the _ is quick.', '2', 'other'], ['3D1UCPY6GINZAB68HJIK5I0BYMV83E-2', 'To overcome behavioural bias, we need to focus more on changing the conscious actions instead of the unconscious actions because the _ actions are voluntary.', '2', 'comparison of performance, road to sucess'], ['3R5LWXWHR2MQJOJ4K61W4B6CS5OGXO-2', 'Megan has a lot less money than Jessica because _ just bought the winning lottery ticket.', '2', 'comparison of performance, road to sucess'], ['3NRZ1LDP7W4677DB493437C7D3WZP2-2', 'I picked up a bag of peanuts and raisins for a snack. I wanted a sweeter snack out so I stored the _ for now.', '2', 'other'], ['3X55NP42EOE5ME6IJ28VZ67STRW3P5-1', 'Craig really loves to clean all the time but Derrick does not because _ is very neat.', '1', 'comparison of performance, road to sucess'], ['3JHB4BPSFMNRVHVKKM0UIMOWRR29QT-1', 'Dennis gave his hammer to Robert so he could hammer the nails. _ had plenty of hammers.', '1', 'other'], ['3DGDV62G7O7G1WAZF2UQGW20SY82PG-2', 'The party was more interesting and uplifing than the funeral because the _ was rigid.', '2', 'comparison of performance, road to sucess'], ['3VW0145YLYAAMPBUU78QY9UMP3VMJ1-2', 'The geese prefer to nest in the fields rather than the forests because in the _ predators are more hidden.', '2', 'other'], ['3IWA71V4TKUOMVUY8TSASKTOZ3UX63-2', 'The plant took up too much room in the urn, because the _ was small.', '2', 'other'], ['3M7OI89LVYMLP8KWXZKNM9K59J76CX-1', 'I installed a new bird house outside above the ground, but had to prop it up higher away from my cat since the _ was too low.', '1', 'other'], ['3INZSNUD80OICJS8V2IAQPTPKLFD95-2', 'I prefer spa to the pool and I find the cold water in the _  not relaxing at the end of the day.', '2', 'other'], ['3B9J25CZ27R56VH0OAZQFC45F2ESCA-2', 'Megan said it would be liberating to go out without makeup like Elena does. _ never wore makeup when she left the house.', '2', 'hesitation, question, advice'], ['38G0E1M85OJHKHF44WPVK5AIL6SUV4-1', 'Donald was richer than Leslie was because companies had found oil on the property of _ .', '1', 'comparison of performance, road to sucess'], ['3THR0FZ95R7JB7JDU6BGYQKRCK0OLW-2', 'Feeling a draft, William asked Neil to please close the front door because _ was closer.', '2', 'hesitation, question, advice'], ['3SV8KD29L4Q5WGGVRHYW7QQ8EEZZKB-2', 'Lindsey loved the taste of duck but Megan liked chicken better. _ ordered the kung pao chicken for dinner.', '2', 'other'], ['3RSBJ6YZEE4XBF9H8V8I3DF7F0UFOM-2', 'Elena would grab their inventory in the back of the store for Megan to sell each time because _ was a loyal customer.', '2', 'other'], ['3TCFMTM8HEMDK4RXU0J0F0K2KZI21L-2', 'Kenneth asked Dennis what time the dance was being held, but _ had forgotten.', '2', 'Failure'], ['3S4TINXCC217YYX13TMMKNON1TXBOG-1', 'Eric was teaching all of the proper stretches to Neil, because _ was using them to get paid.', '1', 'other'], ['36MUZ9VAE8GE14IWNBAWA1I8ZL8DE5-2', \"When buying a home, Patricia doesn't have as much money to spend as Tanya, so _ buys a 5 bedroom house.\", '2', 'comparison of performance, road to sucess'], ['3E9ZFLPWOYQPLQQSQWPZXPVKJR3IXG-2', \"I wanted to buy small tweezer to fit in my wristlet, but they still didn't fit. The _ were too small.\", '2', 'other'], ['3PCPFX4U40OL22NQ3AOM0KMZ1FFFQD-1', 'Handling emergencies was never very difficult for Kevin but it was for Nelson because _ could remain calm under pressure.', '1', 'comparison of performance, road to sucess'], ['3P4C70TRMTVVJU2F6NY8THBPLKALGF-1', \"Emily asked her sister Sarah if she needed any tampons or pads from the store, even though _ didn't because she had switched to using menstrual cups.\", '1', 'hesitation, question, advice'], ['3R6RZGK0XHQY1QZ9EXMKNQGVHU3YV6-2', 'Elena had a horrendous coughing fit from the pollen, unlike Tanya , since _ was immune to allergies.', '2', 'Failure'], ['3HJ1EVZS2OHQYRMXWUCK4177UA4R37-1', 'Rebecca picked up Amy to carpool to work every day, so _ asked for some gas money.', '1', 'other'], ['3BDORL6HKKBEBRIGPNNLX4B158XCRH-2', \"Jennifer discreetly admitted to Erin that she didn't know how to apply eye shadow.  _ was reassuring.\", '2', 'hesitation, question, advice'], ['34D9ZRXCYT8HDGK24W3Z9HEIG7ISAG-1', 'The employees threw a party and drank so much alcohol that they could not go into work the next day. The _ was loud.', '1', 'Failure'], ['39WSF6KUV2JQBCAETMCCTX6ZAD1OEF-2', 'Once in Poland, Dennis enjoyed the trip more than Jason because _ had a shallow understanding of the Polish language.', '2', 'comparison of performance, road to sucess'], ['3CMV9YRYP5F5AWSGETJBQU35DCRLJJ-1', 'The house Benjamin designed for Joseph was beautiful, so _ used it in his portfolio.', '1', 'performance, sucess, competence'], ['3YLTXLH3DF4KGMDHYNXX3082HG2HPN-2', 'John poured the entire bowl of fish into the hot pan on the stove until the _ was full.', '2', 'other'], ['3L1EFR8WWVJU4S5B66P06NKJLV1F9S-2', 'Sue wanted to practice meditation so she went to the gym with her class but the _ was too busy.', '2', 'Failure'], ['3MDKGGG61QL2BPM7JLFDBJK9SLJ6TJ-2', 'Natalie thinks emeralds are beautiful gems but Betty does not. _ bought a necklace featuring a big diamond.', '2', 'other'], ['3XEIP58NL21VABXKWFMXEORVWA4ZLI-1', 'Aaron hung his hunting rifle over the hearth after the most recent trip ended up with Benjamin making the fatal shot.  _ was happy for him.', '1', 'other'], ['3K3G488TR26T05U1XYBDE8VMH5FQ5S-2', 'Kevin is far more physically versatile than Nick, because _ is an injured athlete in bed.', '2', 'comparison of performance, road to sucess'], ['3DQYSJDTYL9D5LO6UDZ8CAXSMH5XES-1', 'Adam put handwash only clothes in the washer but Aaron washed them by hand as _ was lazy.', '1', 'comparison of performance, road to sucess'], ['3QGHA0EA0JY09I7WAH1W9JD0AKWWBC-2', \"Kyle loves the flavor of apricots but Matthew likes plums better. _ couldn't wait for plum season.\", '2', 'other'], ['3RTFSSG7T84CMRT81UQQNM95RWELWX-2', 'Derrick was unable to stay focused at work unlike Justin, because _ had a fun job.', '2', 'comparison of performance, road to sucess'], ['3Z33IC0JC0K460SUMNI4WBZWKULV9S-2', 'Avery was debating on taking up German instead of Latin, because the _ was newer.', '2', 'hesitation, question, advice'], ['31JUPBOORN21WQXQ3RAK966J43ML8G-2', 'Kayla dated many more people at once than Betty, because _ was in an open relationship.', '2', 'relationship, helping'], ['3WKGUBL7SZK0DPAOROK7SUQE73EL4A-1', 'Steven proudly showed Michael the mangoes he grew himself all this summer.  _ is hardworking.', '1', 'performance, sucess, competence'], ['3QGTX7BCHRGH8MUZ4S6QXZVYAK4Z5U-1', 'The letter that Joel has written is being read by Adam, so _ is the writer.', '1', 'other'], ['3P4ZBJFX2XH5GOIJZHZSK7STICEFW3-1', 'Kyle was more comfortable speaking in front of large groups than Nick, because _ had taken public speaking courses in college.', '1', 'comparison of performance, road to sucess'], ['34OWYT6U3WFZKU8UNGJLHM92CQ3I9S-2', 'In the lagoon Emily swam in the nude while Felicia opted for a full body swimsuit. _ was very hesitant with showing their body.', '2', 'hesitation, question, advice'], ['33K3E8REWWTWWKEFHAD8K016GUUX8H-2', \"Sarah Jane's watch smashed when the book hit it since the _ was too strong.\", '2', 'other'], ['3WPCIUYH1A61WY1MT8NRHPU19DUTDY-1', 'Joseph had to have well manicured nails for work, but not Kevin, because _ worked at a bank.', '1', 'other'], ['3XAOZ9UYR1596CSPG9L13G6DTFDQ10-2', 'While out playing golf, Dennis fell in the mud, but Christopher kept their balance because _ had spiked shoes on.', '2', 'comparison of performance, road to sucess'], ['3G9UA71JVX86VB3EAZI17PL5KCMJ7G-2', \"I couldn't control the moisture like I controlled the rain, because the _ was coming in at one spot.\", '2', 'Failure'], ['3R6RZGK0XHQY1QZ9EXMKNQGWJ4SVYG-1', 'Leslie was fascinated with collecting new shoes compared to Derrick, because _ loved fashion trends.', '1', 'other'], ['3SU800BH886PF9JNIXVLEIBA4ORQU4-2', 'Jessica thought Sandstorm was the greatest song ever written but Patricia hated it. _ bought a ticket to the jazz concert.', '2', 'other'], ['3EHVO81VN5JHZUUFDLM724Q4E0O1HV-2', 'Bill poured the entire bowl of cheese snack into his mouth until the _ was empty.', '2', 'other'], ['3126F2F5F818WCMF8MPRIXBPP0LEPF-2', 'Ben played soccer and bowling every week. However, it was easy for him to play in the _ game because he hurt his arm.', '2', 'Failure'], ['3J94SKDEKINZBWQWSC5TE9ONT9BD5S-1', 'Nick had a bigger dog than Craig because _ fed their dog much more food.', '1', 'comparison of performance, road to sucess'], ['33CLA8O0MI9LE32QGPDM5AW4X5DRFU-1', 'There was more shade in the yard of Christine than there was in the yard of Victoria because _ had more plants.', '1', 'comparison of performance, road to sucess'], ['3OND0WXMHYTVDKNY97TM1MX6R3AHE7-2', 'Kyle loves chocolate and candy and Steven loves pickles and lemons. _ loves sour foods.', '2', 'other'], ['3MA5N0ATTC912LBQGUEP8MWQ2XXKWJ-2', 'Since Benjamin ate unhealthy desserts far more frequently than Brett, _ had strong will power.', '2', 'comparison of performance, road to sucess'], ['3QHITW7OYO7Q6B6ISU2UMJB89I2AQ2-1', 'Eric asked Michael on a date to go to the movies on Friday night because _ was very confident.', '1', 'performance, sucess, competence'], ['3M4KL7H8KVL125AYH2V35D1E5OH167-2', 'Amy hated the smell of bleach, but still Kayla used it all the time to clean so _ tries to use it less.', '2', 'other'], ['3R5OYNIC2C7ALV4CYHEMHJBQSB1PTB-2', 'Eric looked at Neil in shock and started to react violently because _ lied to him.', '2', 'other'], ['3PN6H8C9R4OWH22DN8WAMK49Q47DAW-2', 'Matthew made sure to use an oil lubricant when expanding his piercing, unlike Jeffrey, so the painful experience from _ made a lot of sense.', '2', 'comparison of performance, road to sucess'], ['3XWUWJ18TN4H72Q4Z6FQOJ8Z7XHUU9-2', 'Samantha brought a get well card to the hospital but Emily forgot to because _ was preoccupied.', '2', 'hesitation, question, advice'], ['3ZXNP4Z39TZCQ1REDKUEN4YXNY17L9-2', \"Jessica took off the gloves and gave them to Katrina because _ 's hands were cold.\", '2', 'relationship, helping'], ['306W7JMRYYWPJHBECELQV3AESDU8BA-2', 'The lawsuit bankrupted the company, causing Megan to be let go from their job while Mary was promoted. _ felt relieved and elated.', '2', 'comparison of performance, road to sucess'], ['3YZ7A3YHR77K7A8L90CI16YWOEW5S8-1', \"John's certification was less important that Jim's degree because the _ was from a minor University.\", '1', 'comparison of performance, road to sucess'], ['3ZG552ORAOI80562LCFPEMFR4LT2VU-2', 'They opted not to go to the dance but to the movie instead, the _ seemed like a proper destination for their date.', '2', 'relationship, helping'], ['3D0LPO3EADD3B6QCDL06SYMNLVWOY8-1', 'The thermostat showed that it was twenty degrees cooler downstairs than it was upstairs, so Byron stayed in the _ because he was hot.', '1', 'other'], ['3NZ1E5QA61FLQORJYEQNBHOVJVI5BM-1', 'Michael wanted to take Craig out on the water in his new boat. _ said it would be fun to show him the ropes.', '1', 'performance, sucess, competence'], ['3LAZVA75NIPYGWYY02HBRWXADAS2O8-2', 'Come over here and take a look at my scalp today  Natalie told Katrina, _ hates providing her  opinion.', '2', 'other'], ['3421H3BM9CVA9UR7PWGLLLCBE2HJ9Y-1', 'The sushi rotted on the counter unless it was put in the cooler, as the _ exposed it to contamination.', '1', 'other'], ['3WRBLBQ2GTMIMYDTHUCPVXJ2JTP0GS-1', 'The contract could not be drafted at the business during that day because the _ was too small to care about.', '1', 'other'], ['3I7KR83SNCR5KEXP7HGXM0COUXGK9A-1', 'Laura always had more motivation in life and achieving goals than Katrina, as _ was optimistic.', '1', 'performance, sucess, competence'], ['3MZ3TAMYTLL5OU4GHXJ7879WIBGRIT-2', 'Ben had to either stop eating chocolates or nuts. He chose to stop eating the _ because they were savory.', '2', 'other'], ['3909MD9T21VBZOWSEH5MY1LUCSHFE2-1', 'James was looking if there is any space to put the book into the shelf. The _ is small.', '1', 'other'], ['3SNR5F7R947V9FYIFPB71YYMSK9EIS-1', 'James was writing a poem on his jotter when the ink finished. The _ is a long .', '1', 'performance, sucess, competence'], ['34F34TZU7WXKFL71KPP6J0GOJZ2J2X-2', 'The couple drank wine out of glasses instead of mugs, because the _ were clean.', '2', 'other'], ['37PGLWGSJVKYVFQSBBMAZTBQBYPKIX-1', 'Dividing the candy was more difficult than dividing the apples because every kid wanted the _ .', '1', 'other'], ['3O4VWC1GEW49033KOP3B2ALGKZ73J0-1', \"Brian wanted to be a home based administrative assistant and Kenneth didn't because _ liked staying at home.\", '1', 'other'], ['3B6F54KMR2A6P38VOFY66IX6ND11SG-2', 'Brian had a large collection of coins that Kevin really admired, so _ asked him for some duplicates.', '2', 'performance, sucess, competence'], ['3APP19WN73SD09Z8JJS64YTSV1P6GK-2', 'William forgot about all the times when Ian saved them, despite how _ was generally self-sacrificing.', '2', 'relationship, helping'], ['3CMIQF80GP44DYTMMFXIYCXU1CV6QO-2', \"Katrina's being taught how to speak Korean by Felicia, so _ was most likely born in Korea.\", '2', 'relationship, helping'], ['3HEA4ZVWVF0J18AAX4ZA8VO39BB55O-2', \"Jason denied Ian's passport application because _ did not provide the correct paperwork in time.\", '2', 'Failure'], ['32L724R85LIKCHO145FI3C9HHSMIPK-2', 'I wanted a combination of Vanilla and tea tree essence scents but it smelled like Vanilla because the _ essence was too weak.', '2', 'other'], ['3LN50BUKPXP1W7VE96OVNQPINZBPLG-2', \"I'd rather play on a soccer team than be a kicker on a foot ball team since the _ ball is harder to kick.\", '2', 'other'], ['3I4E7AFQ2KXEZK1E3492KNPEER2TJB-1', 'Kyle thought the temperature was too warm while William thought it was too cold, so _ turned the heat down.', '1', 'other'], ['3PIOQ99R7YKPIN7OI7R4IQSX6RPUNM-2', 'William wanted an egg for breakfast, but Kevin ate the last one, so _ had to give them cereal.', '2', 'Failure'], ['3LN3BXKGC29BUOEEA15A2SS5J15WGU-2', 'The woman sprayed cleaner on the mirror but skipped the countertop because the _ was clean.', '2', 'other'], ['3JY0Q5X05LKFX2OEVW1SGP6IQKYGGF-2', 'Justin wrote a paragraph in his planner every day unlike Matthew because _ was disorganized.', '2', 'comparison of performance, road to sucess'], ['3UOMW19E6D4P64KISGAIU365DNSC5H-2', 'The children could only count the number of balls in one jar and not the beans in the other because the _ were too numerous.', '2', 'Failure'], ['33W1NHWFYHJ4ZZ6ILQCO8HD4XV4TZX-1', 'Erin is known an an entrepreneur while Victoria is only an employee because _ owns a business.', '1', 'comparison of performance, road to sucess'], ['30Y6N4AHYPUOGJOUPJIWHATJQ9LDRW-2', 'Since _ arrived at work later Dennis would eat their lunch before Adam in the break room at their job.', '2', 'other'], ['3ZFRE2BDQ9CBGGF2Q0DLXKYAANVZXH-1', 'The stomach of Neil was rumbling, but Samuel seemed fine, due to _ being hungry.', '1', 'other'], ['3MDWE879UJG4RBTV1434NXTX5R0B9I-2', 'After Logan contracted the chickenpox from Joseph so _ spent the day sending nice texts about it.', '2', 'Failure'], ['31ANT7FQN80GNCVYE8OJ5U3LQEB5HV-1', 'The man wanted to put the luggage in the house but the _ was too small.', '1', 'Failure'], ['3MDWE879UJG4RBTV1434NXTX5T39BN-2', 'The experience was totally unforgettable for Betty but not Samantha because _ had dreaded it for months.', '2', 'other'], ['3YGYP13643NCWKEEYB8Z5DTLS2KNR6-1', 'Kyle got a new cell phone and showed it to Leslie because _ was happy about the new phone.', '1', 'other'], ['3YLPJ8OXXARA78QKP5ZVVM9A3A94X6-1', 'When one experiences cramps they can get into a warm bath or use a heating pad, but the _ is more of an inconvenience.', '1', 'other'], ['3ZQX1VYFTD392B0NGJQC1NAD4V4O8S-1', \"Neil agreed to help wash Adam's large dog, and _ was very eager to help.\", '1', 'relationship, helping'], ['3L60IFZKF5W7XUE0Z81SMPUKLT4HHD-2', 'Cricket is a favorite past time of Lindsey, while Rachel has never heard of it. _ is more likely to be American.', '2', 'other'], ['3K8CQCU3KGFH4GV0X5I5SC12KHZNW9-1', 'It was clear that Jessica understood and was entertained by the article from Monica because _ was the reader.', '1', 'performance, sucess, competence'], ['3W3RSPVVGU5EOC3AQSNPXWCGUI3ULI-2', 'In an effort to control kennel cough, Emily sent Maria to get the medication but _ was busy examining the animals.', '2', 'Failure'], ['3BC9H1KCYUAWMQ07K9FGHUB108VWY7-1', 'Jan poured the entire cup of lemon juice into the bowl bananas until the _ was empty.', '1', 'other'], ['3MQKOF1EE2MTOF5GODS24910D6FWDS-2', 'The insurance company blamed Leslie instead of Logan for the accident since _ had a green light.', '2', 'comparison of performance, road to sucess'], ['3N5YJ55YXG153ETQC2ADIPG345GANC-1', 'The chef decided to store the food in the container but the _ was too large.', '1', 'Failure'], ['3TFJJUELSHNX771VAX8KWW3TTFCC2V-1', 'My sister enjoyed writing on the blog more than in her journal, because the _ for everyone to see.', '1', 'relationship, helping'], ['3ODOP6T3AUY96SNN1GE25WFER5142X-1', \"Derrick spent the entire summer laying on the hot beach, while Jeffrey spent the summer indoors, so _ 's hair had more sun damage.\", '1', 'comparison of performance, road to sucess'], ['3NQUW096N8MG4KF7SHSY10P3IVT9L5-1', 'This menu was very eclectic. They served everything from  a three tiered burger to sushi to omeletes. The _ was juicy.', '1', 'other'], ['3VGET1QSZ0XD7646X0PG4HR4W9E7W9-2', 'the statistics show many females compared to the males are being born everyday, the _ are few.', '2', 'other'], ['3TCFMTM8HG2SETQ4EYV07Y8BFL721Y-2', \"Robert made the choice to buy Neil's house, so _ had a lot more money in the bank afterwards.\", '2', 'other'], ['3RWB1RTQDL16H0BVFHFRIL3C3XW8PT-2', 'The medical exam for the broken arm was longer than the exam on the heart because the _ was a serious problem.', '2', 'Failure'], ['3ACRLU860NC6SIL5PH7QND603EIEB1-2', 'When opening up about their crushes, Kenneth sighed at Jeffrey because _ forgot who their crush was.', '2', 'relationship, helping'], ['3R6RZGK0XHQY1QZ9EXMKNQGWI2FVYY-1', 'Jack loved math and disliked social sciences, so when deciding to take sociology or math that semester, the counselor entered the _ because Jack was receptive to it.', '1', 'other'], ['3WUVMVA7OB1ZK379FQL7DCNC925ZAW-1', 'Christopher wanted to be a specialist but not Adam because _ had an interest in a limited number of subjects.', '1', 'performance, sucess, competence'], ['3S37Y8CWIAEVI8LUF039T3V2T04W4N-2', 'Megan enjoyed summer while Felicia did not.   _  spent much time indoors.', '2', 'other'], ['3OEWW2KGQLP0DVVLHPDSFDCN5IJDO8-2', 'John could not remove the wallpaper attached to the wall with a glue without the wallpaper tearing apart. The _ is weak.', '2', 'Failure'], ['3VJ4PFXFJ35IY4DZ93MZWK8XC3SAUR-2', 'The counselor treated the child who suffered from abuse by giving her a teddy instead of a blanket because the _ was boring.', '2', 'relationship, helping'], ['38Z7YZ2SB5GK6IONOG67VFN0CNPIQ1-2', 'John cared for the pot while it was being transported in the box but it eventually got broken. The _ is hard.', '2', 'Failure'], ['3R5OYNIC2C7ALV4CYHEMHJBQSDLPTZ-1', 'Donald offered Leslie their last stick of  mint gum as _ had a minty breath already.', '1', 'relationship, helping'], ['3ZZAYRN1I6PS0VSBJH17SJ60DNOTOA-2', 'After Samuel won the cherry jam contest, Kyle still believed they should have won since _ sweetened with low calorie sweetener and the judges went by taste.', '2', 'comparison of performance, road to sucess'], ['3RKHNXPHGWUOAHMLLUZOQYBTHGGKUC-1', 'Felicia looked sad and disappointed after she asked Christine refused to be her girlfriend because _ liked her.', '1', 'relationship, helping'], ['30F94FBDNTYNBQ29ZA8LEXU9ZY4BTJ-1', 'Matthew wants to sell Kevin tickets to the football game because _ needs the money.', '1', 'other'], ['3TRB893CSLOW49DD2TXYACTOQQKG7W-2', 'Elena told Natalie to put the hood of her jacket up because _ was likely to get cold.', '2', 'hesitation, question, advice'], ['30Y6N4AHYRA3A8N19HUW98HSF1TDRY-1', 'Lawrence made a bowl at the pottery store and Randy accidentally broke it. _ decided to make another.', '1', 'Failure'], ['35F6NGNVMAX09EZJMTW59V8EHIR7TU-1', 'The node on the head needed medication applied to its area because the _ was swollen.', '1', 'Failure'], ['3Y3CZJSZ9KRTC691AD0DJY5RDO45RP-1', 'Sue traditionally donated old clothes to her favorite charity but in recent years has just written them checks as the _ were better received.', '1', 'relationship, helping'], ['3KI0JD2ZU3WU7GO7QGOCYLG0X3C670-2', 'Matthew offered to help write a fitness plan for Christopher because _ was out of shape.', '2', 'relationship, helping'], ['3QO7EE372Q1AJAAHI6EQ9SJMFJ1QB0-1', 'The waves destroyed the garage but left the house intact because the _ was so close to the shore.', '1', 'other'], ['3Z56AA6EK4YYYUWNAOE1P5PHYGD6ME-2', 'Katrina sells Maria a rug at the local flea market because _ is a customer.', '2', 'other'], ['3UUSLRKAUL1EY04FG5KQCT2JPT87D0-2', \"Joan's grandmother always wanted a hug and a kiss, but Joan preferred the _ because she was afraid of germs.\", '2', 'relationship, helping'], ['35ZRNT9RUIWN1EUH42VGA622O6G3OD-2', 'The library kept an enormous collection of novels but not comics because the _ were dull.', '2', 'other'], ['3DGDV62G7QNVVL96Z06Q8UQ9I1WP28-1', \"Carrie's store has more loyal customers than Patricia's store does because _ 's store is older.\", '1', 'comparison of performance, road to sucess'], ['3N2YPY1GI6WL1WJBUYYQOP07687EVK-1', \"Christine didn't pass the lie detection test that Jessica did because _ had something to hide.\", '1', 'Failure'], ['3DW3BNF1GJWJMK8R1TOQODSUPG9V83-1', 'Carrie faced the fan away from Angela because _ was getting too warm in the kitchen.', '1', 'other'], ['3OZ4VAIBEXDTCC538Z9HL5DZBHAJVJ-1', \"The winter made Jason's hands dry, but not Leslie's, since _ always forgot to moisturize at night.\", '1', 'comparison of performance, road to sucess'], ['3SU800BH86QALKKGYZJLMKN2B7IQUL-2', 'Because Carrie lost a bet to Cynthia over the basketball game, _ spent hours having the cleaning done for them.', '2', 'Failure'], ['3S4TINXCC0LS49YUJVAMSP0ECY1BOK-2', 'I would rather listen to the radio than watch the TV at night since I find the _ disruptive.', '2', 'other'], ['3OLZC0DJ8LTCBQK4AF0H12M7R93VIR-1', 'Randy started his own business while Ryan worked for someone else so _ had self-employment taxes.', '1', 'comparison of performance, road to sucess'], ['3NI0WFPPIBUGP5ON5H33J66DPUU60Y-2', 'Her boyfriend regretted buying her a jacket and got her a new hat instead, as he knew she thought the _ was a perfect match for her wardrobe.', '2', 'relationship, helping'], ['3OID399FXG5RDTJLYOI20LF0NKKDF9-2', 'Monica wanted to use a vacuum to clean the floor, but Victoria wanted to use a broom. _ cleaned the floor much slower.', '2', 'other'], ['31ANT7FQN80GNCVYE8OJ5U3LQG1H51-1', \"I used several sprays to get rid of the bedbugs but they didn't work, because the _ were powerless.\", '1', 'Failure'], ['3O0M2G5VC8GK6C8MMPTHFJNRVLL49F-1', 'Monica enjoyed watching Western films while Natalie enjoyed romantic ones more because _ grew up on a farm.', '1', 'other'], ['3V8JSVE8Y04HZFDNJ7XANMS9HPVYEB-1', 'There were more books at the library than at the bookstore because the _ was bigger.', '1', 'other'], ['3WRBLBQ2GR63S9EMXW0P3ZVTPV4G0C-2', 'Drawing was a talent of Sarah but not Carrie so _ was always eager to see her artwork .', '2', 'comparison of performance, road to sucess'], ['3RZS0FBRWK8TZE21CVJWS9BMZ6JPC3-2', 'Emily spent a lot of money on their smartphone but Rachel bought a cheap one because _ was very dowdy.', '2', 'comparison of performance, road to sucess'], ['3ACRLU860PSLM7KC9FJQFBU9XUOBEF-2', 'Tea and coffee should be drunk out of different vessels, cups and mugs respectively. Coffee is usually served in the _ , with milk and sometimes sugar.', '2', 'other'], ['32PT7WK7DOTBR62ZYRT0RAEC9NDD3U-1', 'Neil asked Michael what it was like to go to war because _ was a pacifist.', '1', 'hesitation, question, advice'], ['3UEDKCTP9X416V9WSKID84LHXNJ7K4-2', 'I went into the mine looking for diamonds but all I found was quartz and topaz.  I settled on the _ because it was almost clear.', '2', 'other'], ['3D3B8GE892PR1GVY0B95QJAEY279P0-2', \"The chef thinks it's more healthy to eat apples than beets, so he hates putting the _ in his smoothies.\", '2', 'other'], ['37VE3DA4YUFICSC7FIFW8G3DVYNHB5-1', 'Jennifer was at risk of encountering a shark during their swim, but Emily was not, because _ swam in the ocean.', '1', 'other'], ['3EQVJH0T40JI8E6OF46H8A9Z6IJHTM-1', 'The documents contained in the files could not fit properly. The _ were too small.', '1', 'other'], ['35ZRNT9RUIWN1EUH42VGA622JTGO33-1', 'Avid bookworms, Lawrence read fiction while Jason read non-fiction. _ liked to escape into an imaginary world.', '1', 'other'], ['3P888QFVX3SF8F0J2D7CNEVDYXFOQK-1', 'Mary only wore stripes to work and not plaids because the _ made her look sloppy.', '1', 'other'], ['3IZVJEBJ6CYDRQUD9BGVP59Y6LBZ6I-2', 'The bumper on the car shone brighter than the handle on the car because the _ was dirtier.', '2', 'other'], ['3ECKRY5B1SATKAPEBCPKM8Z4GNJZIE-2', 'Ian is making a pool party for Neil and needs to raise pH in a pool, so _ could safely enjoy party.', '2', 'other'], ['302U8RURJ1F4PRVV7VD96AIOD98VNK-2', 'While Billie brought a pencil, I brought a pen to the realtoru2019s office. I gave Billie my pen and she gladly used the _ to sign the document.', '2', 'relationship, helping'], ['3C8QQOM6JRF9FL8AWBYBETO62IMLI1-1', 'No one was able to enjoy the story and we started to listen to the music. The _ is boring.', '1', 'other'], ['37VUR2VJ6C35CBI6BRK6JBHXRC41CQ-2', \"The teeth of Katrina are more yellow than Laura's due to _ drinking mostly water all the time.\", '2', 'comparison of performance, road to sucess'], ['3P4C70TRMTVVJU2F6NY8THBPLQ7LGO-1', 'It was necessary to hit the iron with the sledgehammer after the _ got heated.', '1', 'other'], ['3I7SHAD35OAWWJ9ZDWVTNHDLMYLM77-2', \"Kevin didn't consider the costs when they bought the house from Derrick, so _ was rid of the money pit.\", '2', 'other'], ['371DNNCG440PF35VC0CBVXG033L8TY-2', 'Robert helped create an internet viral video sensation of Kyle when _ danced in video.', '2', 'relationship, helping'], ['3DZKABX2ZKJLYNY4I54VQZOCEQLCVG-2', 'Rebecca invited Maria to a concert, then _ had to get permission to attend from their parents.', '2', 'relationship, helping'], ['30P8I9JKOIJL5DQIJX5NKVUUTHCV58-2', 'Betty was able to hold the pigeon longer than Angela because _ is scared of birds.', '2', 'comparison of performance, road to sucess'], ['38XPGNCKHVEI3JLPPQYD71COMD44VV-2', 'Nick gets jock itch a lot, while Jason has never even worn a jock strap. _ is the artist.', '2', 'comparison of performance, road to sucess'], ['39AYGO6AFFI4GCHNMPT12KEH8NL6NF-2', 'The theraband that Jill purchased for herself would not fit around her leg, the _ was too wide.', '2', 'Failure'], ['3IVKZBIBJ2NWN3SGA2DRQ31MTY2SHD-2', 'James could not get the bag closed because of the clothe in it. The _ is small.', '2', 'Failure'], ['3HJ1EVZS2QX5SGL4GSOKWZVGPWV3RY-2', 'Michelle made her biscuits with shortening and no butter at all, because she thought the _ made them taste lighter.', '2', 'other'], ['3TLFH2L6Y9METO36WJ3AL63XH3TT2G-1', \"Dennis has been away on vacation, while Nelson stayed home so the lettuce in _ 's fridge was rotten.\", '1', 'comparison of performance, road to sucess'], ['3V0TR1NRVA0JH6JKUXVHJGA3DQC4A6-2', 'Jen put her derma roller into the water, so that the cleaner could sterilize it with the _ .', '2', 'performance, sucess, competence'], ['32LAQ1JNTB327PBFZ1PGJNMXOF2TU1-2', 'The case James used to carry the file still got more space in it. I wonder why he chose the _ that is small.', '2', 'hesitation, question, advice'], ['31JUPBOORN21WQXQ3RAK966J43N8L4-1', 'Learning to play a glockenspiel was instinctual for Derrick but not Adam because _ is arty.', '1', 'comparison of performance, road to sucess'], ['3VI0PC2ZA0YEB1028PE49KFFKM0XO6-2', \"My knee joint is less injured than my ankle joint so I'm trying not to put too much stress on the _ if I can help it.\", '2', 'Failure'], ['3XABXM4AJ3JRHCCAFUUGIQTM9XA8QL-2', \"Donald didn't like to keep clean the way Matthew did, so _ tended to smell nice.\", '2', 'comparison of performance, road to sucess'], ['3PKJ68EHDNUOUBAJ3ASD64MQ8GSHJH-1', 'The man realized he had gotten the lens for his glasses instead of his camera, the _ lens was much thicker.', '1', 'Failure'], ['3CZH926SIES118Z3U0937XO2MY24EM-1', 'Sunday afternoon Laura made some buttermilk biscuits for Victoria, and _ made quick work of making them.', '1', 'relationship, helping'], ['3GKAWYFRAR7IYV7MWPQ74DHCD8SDP4-1', \"To cope with her problems the teenager wrote in the journal and not the diary since the _ 's pages were bigger.\", '1', 'performance, sucess, competence'], ['3G9UA71JVVSR1M47Q161FRXWUFWJ7L-2', 'Bob tore his shirt that was a night shirt. He decided to get a tuxedo shirt because the _ is new.', '2', 'other'], ['37NXA7GVST4Z72T3BKLU1KQRKNOLVZ-1', 'Hunter was suicidal and Robert responded for the reason that _ had never been in this critical situation.', '1', 'comparison of performance, road to sucess'], ['37VHPF5VYC18TM3KQEHL6NGWAZ08CP-2', 'Rachel included Tanya in her YouTube video, but _ was furious because she had failed to obtain permission.', '2', 'Failure'], ['3421H3BM9CVA9UR7PWGLLLCADYY9JU-1', 'A conductor on the train Felicia has been for years today Elena will present them with a award _ is being honored.', '1', 'other'], ['34XASH8KLS0L2PDZ9IPAN346MHFMPG-1', 'The police could escort the prisoner to the gate but not to the cell, as entry to _ was permitted .', '1', 'other'], ['3LOJFQ4BOXD2TFBZZZ9ZGY75VD8DKC-1', 'When Brenda coated her wood panels with varnish, the concrete surface beneath got stained. The varnish protected and beautified the _ .', '1', 'other'], ['3E22YV8GG14CQIZS1LSA8K5Y3PJPN6-1', 'John was eager to put his fish in the new fish tank on a table but the _ was too delicate.', '1', 'Failure'], ['33KGGVH24UFELKUUIP4T5QEY2RB1XU-1', \"The tea was hurting Ben's teeth, though the coffee was not because the _ was loaded with sugar.\", '1', 'Failure'], ['3D0LPO3EABXOHHR5TNO600YFX6WOYN-1', 'He preferred to clean with the soap instead of the body wash, because the _ left him feeling itchy.', '1', 'other'], ['3UEDKCTP9X416V9WSKID84LHXTQK70-1', 'Katrina loaned their jacket to Carrie during the cold night, although _ was feeling cold themselves.', '1', 'relationship, helping'], ['3HO4MYYR12MHB21WJQ5NGF6BB5EU6Y-1', \"Adam had to schedule a visit a dermatologist but Joseph didn't because _ had bad skin.\", '1', 'other'], ['3LOJFQ4BOXD2TFBZZZ9ZGY75VBGKDN-2', 'Nancy preferred to eat popcorn rather than candy at the movies because the _ is sweet.', '2', 'other'], ['36JW4WBR06I8P9ONKK1SR6UYAUBHFF-2', 'The project meant Emily collaborated with Victoria, who was not excited. _ hated working with others.', '2', 'relationship, helping'], ['3EAWOID6MTVMA64HMRZB30Y3HPJV06-2', 'While Maria rode the bus to work, Megan rode a motorcycle because _ had an unexpired license.', '2', 'comparison of performance, road to sucess'], ['3IQ9O0AYW8DXYYGF5K020KYNW0UTI8-1', 'Steven only had one ear but Jeffrey had two. This meant that _ was very lopsided.', '1', 'comparison of performance, road to sucess'], ['3NZ1E5QA6ZZ6WZSCEGENJJ0NQJ8B5I-2', 'Kevin repaired the wooden  furniture for Kyle last week since _ was an expert carpenter.', '2', 'relationship, helping'], ['3TLFH2L6Y9METO36WJ3AL63XCGGT2O-2', \"Eric thought the clothes looked very nice but Kevin did not agree. _ didn't buy the clothes.\", '2', 'other'], ['38DCH97KHH01749MM0F7FIERULOJQA-1', 'Jessica often experiences severe nausea, Victoria does not therefore _ does not ride roller coasters.', '1', 'comparison of performance, road to sucess'], ['375VSR8FVYN6D9SX1ZJT000V3J3RZB-2', 'The system that Jeffrey used was amazing compared to Randy, because _ system was lower end.', '2', 'comparison of performance, road to sucess'], ['31JUPBOORPIGQFWXNPMK14USYAP8LZ-2', 'It took Jerry longer to shampoo his hair than his beard although the _ was bushy.', '2', nan], ['3WRKFXQBOB5ELVG2VSB1G32TGHMIYA-2', 'Have you ever been on  a nature walk Samantha asked Tanya , _ is giving a reply to a question.', '2', nan], ['3BA7SXOG1JOCZOS38B7GVIFIFGW8RP-1', 'Ben was choosing between a clothing business and a fitness business. He ended up opening the _ business because it was healthy.', '1', nan]]\n"
          ]
        }
      ],
      "source": [
        "print(liste_2D)"
      ]
    },
    {
      "cell_type": "code",
      "execution_count": 44,
      "id": "80777d72",
      "metadata": {
        "colab": {
          "base_uri": "https://localhost:8080/",
          "height": 339,
          "referenced_widgets": [
            "5975914735aa47f8968b2f399f07584a",
            "9a66dc672e124dc19d100775b88163ce",
            "182345cbbc9c471d9615d789c5d44faf",
            "f401b838642145ef97f44bf9c9a8edb2",
            "dff52e7f044f4510a0d20c01d1f4ed0d",
            "b1fa92f9d4fe4ae5999008ced0eb2316",
            "0629544e08cc45c495296c8a89049b1e",
            "7d80690387e2465db95e4bb056b498ab",
            "572c8b34cce249cca563e247ad348528",
            "78265cd1c2f44c28a6c76ae1de3ba122",
            "2337f07b79874a1394fe3e69b261d55c"
          ]
        },
        "id": "80777d72",
        "outputId": "d5468c6f-a4ef-41ec-c880-44cf19d7fb90",
        "scrolled": true
      },
      "outputs": [
        {
          "name": "stdout",
          "output_type": "stream",
          "text": [
            "GPU disponible ! Utilisation de : Tesla T4\n",
            "=== Démarrage du programme ===\n",
            "1. Chargement du tokenizer et du modèle CamemBERT...\n",
            "   Chargement terminé.\n",
            "2. Préparation des données d'exemple...\n",
            "   Nombre de textes à traiter : 201\n",
            "3. Début de la transformation des textes en embeddings BERT par lots (cela peut prendre du temps)...\n"
          ]
        },
        {
          "data": {
            "application/vnd.jupyter.widget-view+json": {
              "model_id": "5975914735aa47f8968b2f399f07584a",
              "version_major": 2,
              "version_minor": 0
            },
            "text/plain": [
              "Encodage des textes par lots:   0%|          | 0/4 [00:00<?, ?it/s]"
            ]
          },
          "metadata": {},
          "output_type": "display_data"
        },
        {
          "name": "stdout",
          "output_type": "stream",
          "text": [
            "   Transformation des embeddings terminée. Forme : (201, 768)\n",
            "4. Séparation des données en ensembles d'entraînement et de test...\n",
            "   Données séparées.\n",
            "5. Entraînement du modèle de régression logistique...\n",
            "   Modèle entraîné.\n",
            "6. Évaluation du modèle...\n",
            "Accuracy : 0.801980198019802\n",
            "   Évaluation terminée.\n",
            "=== Programme terminé ===\n"
          ]
        }
      ],
      "source": [
        "from transformers import AutoTokenizer, AutoModel\n",
        "import torch\n",
        "from sklearn.linear_model import LogisticRegression\n",
        "from sklearn.model_selection import train_test_split\n",
        "from sklearn.metrics import accuracy_score\n",
        "import numpy as np\n",
        "from tqdm.auto import tqdm # Utilisation de tqdm.auto pour une détection automatique dans Colab\n",
        "\n",
        "# --- Détection GPU/CPU et configuration du périphérique ---\n",
        "# Cette partie est essentielle pour que PyTorch sache où envoyer les calculs\n",
        "if torch.cuda.is_available():\n",
        "    device = torch.device(\"cuda\") # 'cuda' indique le GPU\n",
        "    print(f\"GPU disponible ! Utilisation de : {torch.cuda.get_device_name(0)}\")\n",
        "else:\n",
        "    device = torch.device(\"cpu\") # 'cpu' indique le CPU si pas de GPU\n",
        "    print(\"Pas de GPU disponible, utilisation du CPU.\")\n",
        "\n",
        "print(\"=== Démarrage du programme ===\")\n",
        "\n",
        "# === 1. Chargement du modèle CamemBERT ===\n",
        "print(\"1. Chargement du tokenizer et du modèle CamemBERT...\")\n",
        "tokenizer = AutoTokenizer.from_pretrained(\"camembert-base\")\n",
        "# >>> MODIFICATION IMPORTANTE ICI : Déplacer le modèle sur le périphérique (GPU si disponible)\n",
        "model = AutoModel.from_pretrained(\"camembert-base\").to(device)\n",
        "print(\"   Chargement terminé.\")\n",
        "\n",
        "# === 2. Fonction pour encoder une liste de textes en embeddings BERT par lots ===\n",
        "def get_bert_embeddings_batch(texts, batch_size=64): # Augmentez le batch_size si vous avez un bon GPU Colab\n",
        "    embeddings = []\n",
        "    for i in tqdm(range(0, len(texts), batch_size), desc=\"Encodage des textes par lots\"):\n",
        "        batch_texts = texts[i:i + batch_size]\n",
        "        inputs = tokenizer(batch_texts, return_tensors=\"pt\", truncation=True, padding=True)\n",
        "\n",
        "        # >>> MODIFICATION IMPORTANTE ICI : Déplacer les inputs (tensors) vers le même périphérique que le modèle\n",
        "        inputs = {k: v.to(device) for k, v in inputs.items()}\n",
        "\n",
        "        with torch.no_grad():\n",
        "            outputs = model(**inputs)\n",
        "\n",
        "        # Ramener le tenseur résultant sur le CPU AVANT de le convertir en NumPy\n",
        "        batch_embeddings = outputs.last_hidden_state.mean(dim=1).cpu().numpy()\n",
        "        embeddings.append(batch_embeddings)\n",
        "    return np.vstack(embeddings)\n",
        "\n",
        "# === 3. Données d'exemple ===\n",
        "# Assurez-vous que votre 'liste_2D' est bien définie ici ou importée.\n",
        "# Exemple fictif pour que le code soit exécutable si 'liste_2D' n'est pas définie\n",
        "try:\n",
        "    _ = liste_2D\n",
        "except NameError:\n",
        "    # Pour un exemple réaliste si 'liste_2D' n'est pas définie\n",
        "    liste_2D = [\n",
        "        [0, \"Le succès est une question de persévérance et de travail acharné.\", 0, \"comparison of performance, road to sucess\"],\n",
        "        [0, \"Le soleil brille aujourd'hui, c'est une belle journée.\", 0, \"autre type de texte\"],\n",
        "        [0, \"Elle a atteint ses objectifs grâce à une performance exceptionnelle.\", 0, \"comparison of performance, road to sucess\"],\n",
        "        [0, \"Les oiseaux chantent dans le jardin, c'est très agréable.\", 0, \"autre type de texte\"],\n",
        "        [0, \"Sa progression sur la route du succès est inspirante.\", 0, \"comparison of performance, road to sucess\"],\n",
        "        [0, \"La recette de ce gâteau est délicieuse et facile à faire.\", 0, \"autre type de texte\"],\n",
        "        [0, \"Il a surpassé toutes les attentes par sa détermination.\", 0, \"comparison of performance, road to sucess\"],\n",
        "        [0, \"Le livre est très intéressant, je le recommande.\", 0, \"autre type de texte\"],\n",
        "    ] * 500 # Multiplier pour avoir plus de données et voir la progression\n",
        "\n",
        "print(\"2. Préparation des données d'exemple...\")\n",
        "X_success = [ligne[1] for ligne in liste_2D]\n",
        "y = [\"1\" if ligne[3] == 'comparison of performance, road to sucess' else \"0\" for ligne in liste_2D]\n",
        "print(f\"   Nombre de textes à traiter : {len(X_success)}\")\n",
        "\n",
        "# === 4. Transformer les textes en embeddings ===\n",
        "print(\"3. Début de la transformation des textes en embeddings BERT par lots (cela peut prendre du temps)...\")\n",
        "# >>> MODIFICATION IMPORTANTE ICI : Vous appeliez get_bert_embeddings_batch sur un seul texte, pas sur la liste\n",
        "# La ligne originale: X_embed = [get_bert_embeddings_batch(text) for text in tqdm(X_success, desc=\"Encodage des textes\")]\n",
        "# Ceci est incorrect car get_bert_embeddings_batch attend une LISTE de textes.\n",
        "# De plus, vous avez une tqdm imbriquée qui n'est pas nécessaire.\n",
        "# Utilisez directement la fonction de batching sur votre liste X_success :\n",
        "X_embed_np = get_bert_embeddings_batch(X_success, batch_size=64) # Ajustez batch_size pour votre GPU Colab\n",
        "print(f\"   Transformation des embeddings terminée. Forme : {X_embed_np.shape}\")\n",
        "\n",
        "# === 5. Utilisation dans scikit-learn ===\n",
        "print(\"4. Séparation des données en ensembles d'entraînement et de test...\")\n",
        "X_train, X_test, y_train, y_test = train_test_split(X_embed_np, y, test_size=0.5, random_state=42)\n",
        "print(\"   Données séparées.\")\n",
        "\n",
        "print(\"5. Entraînement du modèle de régression logistique...\")\n",
        "# Scikit-learn (LogisticRegression) utilise le CPU par défaut, et c'est très bien car les données sont déjà sur le CPU (X_embed_np)\n",
        "clf = LogisticRegression(max_iter=1000)\n",
        "clf.fit(X_train, y_train)\n",
        "print(\"   Modèle entraîné.\")\n",
        "\n",
        "print(\"6. Évaluation du modèle...\")\n",
        "y_pred = clf.predict(X_test)\n",
        "print(\"Accuracy :\", accuracy_score(y_test, y_pred))\n",
        "print(\"   Évaluation terminée.\")\n",
        "print(\"=== Programme terminé ===\")"
      ]
    },
    {
      "cell_type": "code",
      "execution_count": null,
      "id": "UEHd0RyB9WB4",
      "metadata": {
        "id": "UEHd0RyB9WB4"
      },
      "outputs": [],
      "source": []
    },
    {
      "cell_type": "code",
      "execution_count": 45,
      "id": "4SiKsVwf8bUj",
      "metadata": {
        "colab": {
          "base_uri": "https://localhost:8080/"
        },
        "id": "4SiKsVwf8bUj",
        "outputId": "ef4087d3-9a6d-4d2e-f18b-7793f115852f"
      },
      "outputs": [
        {
          "name": "stdout",
          "output_type": "stream",
          "text": [
            "['0' '0' '0' '0' '0' '0' '0' '0' '0' '0' '0' '0' '0' '0' '0' '0' '0' '0'\n",
            " '0' '0' '0' '0' '0' '0' '0' '0' '0' '0' '0' '0' '0' '0' '0' '0' '0' '0'\n",
            " '0' '0' '0' '0' '0' '0' '0' '0' '0' '0' '0' '0' '0' '0' '0' '0' '0' '0'\n",
            " '0' '0' '0' '0' '0' '0' '0' '0' '0' '0' '0' '0' '0' '0' '0' '0' '0' '0'\n",
            " '0' '0' '0' '0' '0' '0' '0' '0' '0' '0' '0' '0' '0' '0' '0' '0' '0' '0'\n",
            " '0' '0' '0' '0' '0' '0' '0' '0' '0' '0' '0']\n"
          ]
        }
      ],
      "source": [
        "print(y_pred)"
      ]
    },
    {
      "cell_type": "code",
      "execution_count": 42,
      "id": "672152e0",
      "metadata": {
        "colab": {
          "base_uri": "https://localhost:8080/",
          "height": 85,
          "referenced_widgets": [
            "f58b040bc8414243888eccbd7059b14e",
            "3b8eb2960db0440daeee5e79f8b287d0",
            "159a7519d0f04bb8963b8e149c6458a6",
            "d2ecb3e9ed654ca793d75ba944c067a7",
            "db187676cdaa496cac339ac3ff74f3b6",
            "432fbfb8d3c445798445efe7725a457e",
            "4a413ba299774d6ab93882a3ed9f4403",
            "000d49401d3c431cb622668ec924db52",
            "0d9e5714960e4739b24316f8f5b870e5",
            "7bb356b9680147b6a74932009277e6f6",
            "3ab2c1b26db04c1f9eed9e1a4941e40c"
          ]
        },
        "id": "672152e0",
        "outputId": "d618ed54-398f-4c27-feb6-50f5944d3bc8",
        "scrolled": false
      },
      "outputs": [
        {
          "data": {
            "application/vnd.jupyter.widget-view+json": {
              "model_id": "f58b040bc8414243888eccbd7059b14e",
              "version_major": 2,
              "version_minor": 0
            },
            "text/plain": [
              "Encodage des textes par lots:   0%|          | 0/1 [00:00<?, ?it/s]"
            ]
          },
          "metadata": {},
          "output_type": "display_data"
        },
        {
          "name": "stdout",
          "output_type": "stream",
          "text": [
            "(1, 768)\n"
          ]
        },
        {
          "data": {
            "text/plain": [
              "array(['0'], dtype='<U1')"
            ]
          },
          "execution_count": 42,
          "metadata": {},
          "output_type": "execute_result"
        }
      ],
      "source": [
        "test = [\"Albert was better than Paul in college because _ worked harder\"]\n",
        "test = get_bert_embeddings_batch(test)\n",
        "\n",
        "test = test.reshape(1, -1)\n",
        "print(test.shape)\n",
        "test_pred = clf.predict(test)\n",
        "test_pred"
      ]
    },
    {
      "cell_type": "code",
      "execution_count": null,
      "id": "2daa83f2",
      "metadata": {
        "id": "2daa83f2"
      },
      "outputs": [],
      "source": [
        "from logging import raiseExceptions\n",
        "vrai positifs et négatifs\n",
        "check : prendre plein des fois la même phrase et voir si c'est bien reconnu\n",
        "faire un graphe de la probabilité en fonction des différentes itéraiseExceptions\n",
        "\n",
        "\n",
        "est ce que c'est possible de faire dans l'autre sens ? => partir des embeddings moyens => et arriver à des catégories\n",
        "à grande dimension, on peut mettre un nb exp de vecteurs orthogonaux\n",
        "anisotropie => ragarder papier,\n",
        "on a des connes : car faire des sommes d'objets dans tous les espaces => n'encode rien\n",
        "\n",
        "\n",
        "faire un classifier pour les femmes et les hommes\n",
        "voir les corrélations des dimmensions avec le genre\n",
        "mettre un couche linéaire : 768 dimension => score\n",
        "\n",
        "\n",
        "réunion vendredi mitn llm : rammener des questions de recherche et des hypothèses\n",
        "voir le vocabulaire très genré, ex : diet\n",
        "faire des permutations des prénomask\n",
        "\n",
        "utiliser she ou he\n",
        "refaire tourner\n"
      ]
    },
    {
      "cell_type": "code",
      "execution_count": null,
      "id": "n0BOqrUWh1Ww",
      "metadata": {
        "id": "n0BOqrUWh1Ww"
      },
      "outputs": [],
      "source": []
    },
    {
      "cell_type": "markdown",
      "id": "_4QKE51NBxFG",
      "metadata": {
        "id": "_4QKE51NBxFG"
      },
      "source": []
    },
    {
      "cell_type": "code",
      "execution_count": null,
      "id": "35ee9c42",
      "metadata": {
        "id": "35ee9c42",
        "outputId": "e3f17c07-a354-479a-82fb-ef83850b1b2d"
      },
      "outputs": [
        {
          "ename": "NameError",
          "evalue": "name 'X_success' is not defined",
          "output_type": "error",
          "traceback": [
            "\u001b[1;31m---------------------------------------------------------------------------\u001b[0m",
            "\u001b[1;31mNameError\u001b[0m                                 Traceback (most recent call last)",
            "Cell \u001b[1;32mIn[1], line 1\u001b[0m\n\u001b[1;32m----> 1\u001b[0m \u001b[38;5;28mprint\u001b[39m(\u001b[43mX_success\u001b[49m)\n",
            "\u001b[1;31mNameError\u001b[0m: name 'X_success' is not defined"
          ]
        }
      ],
      "source": [
        "print(X_success)"
      ]
    },
    {
      "cell_type": "code",
      "execution_count": null,
      "id": "gV81EaMQ6urH",
      "metadata": {
        "id": "gV81EaMQ6urH"
      },
      "outputs": [],
      "source": [
        "éviter la comparaison : car c'est trop syntaxique\n",
        "prendre des sujets plus concrets\n",
        "bricolage\n",
        "scolaire\n"
      ]
    }
  ],
  "metadata": {
    "accelerator": "GPU",
    "colab": {
      "gpuType": "T4",
      "provenance": []
    },
    "kernelspec": {
      "display_name": "Python 3",
      "name": "python3"
    },
    "language_info": {
      "codemirror_mode": {
        "name": "ipython",
        "version": 3
      },
      "file_extension": ".py",
      "mimetype": "text/x-python",
      "name": "python",
      "nbconvert_exporter": "python",
      "pygments_lexer": "ipython3",
      "version": "3.10.9"
    },
    "widgets": {
      "application/vnd.jupyter.widget-state+json": {
        "000d49401d3c431cb622668ec924db52": {
          "model_module": "@jupyter-widgets/base",
          "model_module_version": "1.2.0",
          "model_name": "LayoutModel",
          "state": {
            "_model_module": "@jupyter-widgets/base",
            "_model_module_version": "1.2.0",
            "_model_name": "LayoutModel",
            "_view_count": null,
            "_view_module": "@jupyter-widgets/base",
            "_view_module_version": "1.2.0",
            "_view_name": "LayoutView",
            "align_content": null,
            "align_items": null,
            "align_self": null,
            "border": null,
            "bottom": null,
            "display": null,
            "flex": null,
            "flex_flow": null,
            "grid_area": null,
            "grid_auto_columns": null,
            "grid_auto_flow": null,
            "grid_auto_rows": null,
            "grid_column": null,
            "grid_gap": null,
            "grid_row": null,
            "grid_template_areas": null,
            "grid_template_columns": null,
            "grid_template_rows": null,
            "height": null,
            "justify_content": null,
            "justify_items": null,
            "left": null,
            "margin": null,
            "max_height": null,
            "max_width": null,
            "min_height": null,
            "min_width": null,
            "object_fit": null,
            "object_position": null,
            "order": null,
            "overflow": null,
            "overflow_x": null,
            "overflow_y": null,
            "padding": null,
            "right": null,
            "top": null,
            "visibility": null,
            "width": null
          }
        },
        "0629544e08cc45c495296c8a89049b1e": {
          "model_module": "@jupyter-widgets/controls",
          "model_module_version": "1.5.0",
          "model_name": "DescriptionStyleModel",
          "state": {
            "_model_module": "@jupyter-widgets/controls",
            "_model_module_version": "1.5.0",
            "_model_name": "DescriptionStyleModel",
            "_view_count": null,
            "_view_module": "@jupyter-widgets/base",
            "_view_module_version": "1.2.0",
            "_view_name": "StyleView",
            "description_width": ""
          }
        },
        "0d9e5714960e4739b24316f8f5b870e5": {
          "model_module": "@jupyter-widgets/controls",
          "model_module_version": "1.5.0",
          "model_name": "ProgressStyleModel",
          "state": {
            "_model_module": "@jupyter-widgets/controls",
            "_model_module_version": "1.5.0",
            "_model_name": "ProgressStyleModel",
            "_view_count": null,
            "_view_module": "@jupyter-widgets/base",
            "_view_module_version": "1.2.0",
            "_view_name": "StyleView",
            "bar_color": null,
            "description_width": ""
          }
        },
        "159a7519d0f04bb8963b8e149c6458a6": {
          "model_module": "@jupyter-widgets/controls",
          "model_module_version": "1.5.0",
          "model_name": "FloatProgressModel",
          "state": {
            "_dom_classes": [],
            "_model_module": "@jupyter-widgets/controls",
            "_model_module_version": "1.5.0",
            "_model_name": "FloatProgressModel",
            "_view_count": null,
            "_view_module": "@jupyter-widgets/controls",
            "_view_module_version": "1.5.0",
            "_view_name": "ProgressView",
            "bar_style": "success",
            "description": "",
            "description_tooltip": null,
            "layout": "IPY_MODEL_000d49401d3c431cb622668ec924db52",
            "max": 1,
            "min": 0,
            "orientation": "horizontal",
            "style": "IPY_MODEL_0d9e5714960e4739b24316f8f5b870e5",
            "value": 1
          }
        },
        "182345cbbc9c471d9615d789c5d44faf": {
          "model_module": "@jupyter-widgets/controls",
          "model_module_version": "1.5.0",
          "model_name": "FloatProgressModel",
          "state": {
            "_dom_classes": [],
            "_model_module": "@jupyter-widgets/controls",
            "_model_module_version": "1.5.0",
            "_model_name": "FloatProgressModel",
            "_view_count": null,
            "_view_module": "@jupyter-widgets/controls",
            "_view_module_version": "1.5.0",
            "_view_name": "ProgressView",
            "bar_style": "success",
            "description": "",
            "description_tooltip": null,
            "layout": "IPY_MODEL_7d80690387e2465db95e4bb056b498ab",
            "max": 4,
            "min": 0,
            "orientation": "horizontal",
            "style": "IPY_MODEL_572c8b34cce249cca563e247ad348528",
            "value": 4
          }
        },
        "2337f07b79874a1394fe3e69b261d55c": {
          "model_module": "@jupyter-widgets/controls",
          "model_module_version": "1.5.0",
          "model_name": "DescriptionStyleModel",
          "state": {
            "_model_module": "@jupyter-widgets/controls",
            "_model_module_version": "1.5.0",
            "_model_name": "DescriptionStyleModel",
            "_view_count": null,
            "_view_module": "@jupyter-widgets/base",
            "_view_module_version": "1.2.0",
            "_view_name": "StyleView",
            "description_width": ""
          }
        },
        "3ab2c1b26db04c1f9eed9e1a4941e40c": {
          "model_module": "@jupyter-widgets/controls",
          "model_module_version": "1.5.0",
          "model_name": "DescriptionStyleModel",
          "state": {
            "_model_module": "@jupyter-widgets/controls",
            "_model_module_version": "1.5.0",
            "_model_name": "DescriptionStyleModel",
            "_view_count": null,
            "_view_module": "@jupyter-widgets/base",
            "_view_module_version": "1.2.0",
            "_view_name": "StyleView",
            "description_width": ""
          }
        },
        "3b8eb2960db0440daeee5e79f8b287d0": {
          "model_module": "@jupyter-widgets/controls",
          "model_module_version": "1.5.0",
          "model_name": "HTMLModel",
          "state": {
            "_dom_classes": [],
            "_model_module": "@jupyter-widgets/controls",
            "_model_module_version": "1.5.0",
            "_model_name": "HTMLModel",
            "_view_count": null,
            "_view_module": "@jupyter-widgets/controls",
            "_view_module_version": "1.5.0",
            "_view_name": "HTMLView",
            "description": "",
            "description_tooltip": null,
            "layout": "IPY_MODEL_432fbfb8d3c445798445efe7725a457e",
            "placeholder": "​",
            "style": "IPY_MODEL_4a413ba299774d6ab93882a3ed9f4403",
            "value": "Encodage des textes par lots: 100%"
          }
        },
        "432fbfb8d3c445798445efe7725a457e": {
          "model_module": "@jupyter-widgets/base",
          "model_module_version": "1.2.0",
          "model_name": "LayoutModel",
          "state": {
            "_model_module": "@jupyter-widgets/base",
            "_model_module_version": "1.2.0",
            "_model_name": "LayoutModel",
            "_view_count": null,
            "_view_module": "@jupyter-widgets/base",
            "_view_module_version": "1.2.0",
            "_view_name": "LayoutView",
            "align_content": null,
            "align_items": null,
            "align_self": null,
            "border": null,
            "bottom": null,
            "display": null,
            "flex": null,
            "flex_flow": null,
            "grid_area": null,
            "grid_auto_columns": null,
            "grid_auto_flow": null,
            "grid_auto_rows": null,
            "grid_column": null,
            "grid_gap": null,
            "grid_row": null,
            "grid_template_areas": null,
            "grid_template_columns": null,
            "grid_template_rows": null,
            "height": null,
            "justify_content": null,
            "justify_items": null,
            "left": null,
            "margin": null,
            "max_height": null,
            "max_width": null,
            "min_height": null,
            "min_width": null,
            "object_fit": null,
            "object_position": null,
            "order": null,
            "overflow": null,
            "overflow_x": null,
            "overflow_y": null,
            "padding": null,
            "right": null,
            "top": null,
            "visibility": null,
            "width": null
          }
        },
        "4a413ba299774d6ab93882a3ed9f4403": {
          "model_module": "@jupyter-widgets/controls",
          "model_module_version": "1.5.0",
          "model_name": "DescriptionStyleModel",
          "state": {
            "_model_module": "@jupyter-widgets/controls",
            "_model_module_version": "1.5.0",
            "_model_name": "DescriptionStyleModel",
            "_view_count": null,
            "_view_module": "@jupyter-widgets/base",
            "_view_module_version": "1.2.0",
            "_view_name": "StyleView",
            "description_width": ""
          }
        },
        "572c8b34cce249cca563e247ad348528": {
          "model_module": "@jupyter-widgets/controls",
          "model_module_version": "1.5.0",
          "model_name": "ProgressStyleModel",
          "state": {
            "_model_module": "@jupyter-widgets/controls",
            "_model_module_version": "1.5.0",
            "_model_name": "ProgressStyleModel",
            "_view_count": null,
            "_view_module": "@jupyter-widgets/base",
            "_view_module_version": "1.2.0",
            "_view_name": "StyleView",
            "bar_color": null,
            "description_width": ""
          }
        },
        "5975914735aa47f8968b2f399f07584a": {
          "model_module": "@jupyter-widgets/controls",
          "model_module_version": "1.5.0",
          "model_name": "HBoxModel",
          "state": {
            "_dom_classes": [],
            "_model_module": "@jupyter-widgets/controls",
            "_model_module_version": "1.5.0",
            "_model_name": "HBoxModel",
            "_view_count": null,
            "_view_module": "@jupyter-widgets/controls",
            "_view_module_version": "1.5.0",
            "_view_name": "HBoxView",
            "box_style": "",
            "children": [
              "IPY_MODEL_9a66dc672e124dc19d100775b88163ce",
              "IPY_MODEL_182345cbbc9c471d9615d789c5d44faf",
              "IPY_MODEL_f401b838642145ef97f44bf9c9a8edb2"
            ],
            "layout": "IPY_MODEL_dff52e7f044f4510a0d20c01d1f4ed0d"
          }
        },
        "78265cd1c2f44c28a6c76ae1de3ba122": {
          "model_module": "@jupyter-widgets/base",
          "model_module_version": "1.2.0",
          "model_name": "LayoutModel",
          "state": {
            "_model_module": "@jupyter-widgets/base",
            "_model_module_version": "1.2.0",
            "_model_name": "LayoutModel",
            "_view_count": null,
            "_view_module": "@jupyter-widgets/base",
            "_view_module_version": "1.2.0",
            "_view_name": "LayoutView",
            "align_content": null,
            "align_items": null,
            "align_self": null,
            "border": null,
            "bottom": null,
            "display": null,
            "flex": null,
            "flex_flow": null,
            "grid_area": null,
            "grid_auto_columns": null,
            "grid_auto_flow": null,
            "grid_auto_rows": null,
            "grid_column": null,
            "grid_gap": null,
            "grid_row": null,
            "grid_template_areas": null,
            "grid_template_columns": null,
            "grid_template_rows": null,
            "height": null,
            "justify_content": null,
            "justify_items": null,
            "left": null,
            "margin": null,
            "max_height": null,
            "max_width": null,
            "min_height": null,
            "min_width": null,
            "object_fit": null,
            "object_position": null,
            "order": null,
            "overflow": null,
            "overflow_x": null,
            "overflow_y": null,
            "padding": null,
            "right": null,
            "top": null,
            "visibility": null,
            "width": null
          }
        },
        "7bb356b9680147b6a74932009277e6f6": {
          "model_module": "@jupyter-widgets/base",
          "model_module_version": "1.2.0",
          "model_name": "LayoutModel",
          "state": {
            "_model_module": "@jupyter-widgets/base",
            "_model_module_version": "1.2.0",
            "_model_name": "LayoutModel",
            "_view_count": null,
            "_view_module": "@jupyter-widgets/base",
            "_view_module_version": "1.2.0",
            "_view_name": "LayoutView",
            "align_content": null,
            "align_items": null,
            "align_self": null,
            "border": null,
            "bottom": null,
            "display": null,
            "flex": null,
            "flex_flow": null,
            "grid_area": null,
            "grid_auto_columns": null,
            "grid_auto_flow": null,
            "grid_auto_rows": null,
            "grid_column": null,
            "grid_gap": null,
            "grid_row": null,
            "grid_template_areas": null,
            "grid_template_columns": null,
            "grid_template_rows": null,
            "height": null,
            "justify_content": null,
            "justify_items": null,
            "left": null,
            "margin": null,
            "max_height": null,
            "max_width": null,
            "min_height": null,
            "min_width": null,
            "object_fit": null,
            "object_position": null,
            "order": null,
            "overflow": null,
            "overflow_x": null,
            "overflow_y": null,
            "padding": null,
            "right": null,
            "top": null,
            "visibility": null,
            "width": null
          }
        },
        "7d80690387e2465db95e4bb056b498ab": {
          "model_module": "@jupyter-widgets/base",
          "model_module_version": "1.2.0",
          "model_name": "LayoutModel",
          "state": {
            "_model_module": "@jupyter-widgets/base",
            "_model_module_version": "1.2.0",
            "_model_name": "LayoutModel",
            "_view_count": null,
            "_view_module": "@jupyter-widgets/base",
            "_view_module_version": "1.2.0",
            "_view_name": "LayoutView",
            "align_content": null,
            "align_items": null,
            "align_self": null,
            "border": null,
            "bottom": null,
            "display": null,
            "flex": null,
            "flex_flow": null,
            "grid_area": null,
            "grid_auto_columns": null,
            "grid_auto_flow": null,
            "grid_auto_rows": null,
            "grid_column": null,
            "grid_gap": null,
            "grid_row": null,
            "grid_template_areas": null,
            "grid_template_columns": null,
            "grid_template_rows": null,
            "height": null,
            "justify_content": null,
            "justify_items": null,
            "left": null,
            "margin": null,
            "max_height": null,
            "max_width": null,
            "min_height": null,
            "min_width": null,
            "object_fit": null,
            "object_position": null,
            "order": null,
            "overflow": null,
            "overflow_x": null,
            "overflow_y": null,
            "padding": null,
            "right": null,
            "top": null,
            "visibility": null,
            "width": null
          }
        },
        "9a66dc672e124dc19d100775b88163ce": {
          "model_module": "@jupyter-widgets/controls",
          "model_module_version": "1.5.0",
          "model_name": "HTMLModel",
          "state": {
            "_dom_classes": [],
            "_model_module": "@jupyter-widgets/controls",
            "_model_module_version": "1.5.0",
            "_model_name": "HTMLModel",
            "_view_count": null,
            "_view_module": "@jupyter-widgets/controls",
            "_view_module_version": "1.5.0",
            "_view_name": "HTMLView",
            "description": "",
            "description_tooltip": null,
            "layout": "IPY_MODEL_b1fa92f9d4fe4ae5999008ced0eb2316",
            "placeholder": "​",
            "style": "IPY_MODEL_0629544e08cc45c495296c8a89049b1e",
            "value": "Encodage des textes par lots: 100%"
          }
        },
        "b1fa92f9d4fe4ae5999008ced0eb2316": {
          "model_module": "@jupyter-widgets/base",
          "model_module_version": "1.2.0",
          "model_name": "LayoutModel",
          "state": {
            "_model_module": "@jupyter-widgets/base",
            "_model_module_version": "1.2.0",
            "_model_name": "LayoutModel",
            "_view_count": null,
            "_view_module": "@jupyter-widgets/base",
            "_view_module_version": "1.2.0",
            "_view_name": "LayoutView",
            "align_content": null,
            "align_items": null,
            "align_self": null,
            "border": null,
            "bottom": null,
            "display": null,
            "flex": null,
            "flex_flow": null,
            "grid_area": null,
            "grid_auto_columns": null,
            "grid_auto_flow": null,
            "grid_auto_rows": null,
            "grid_column": null,
            "grid_gap": null,
            "grid_row": null,
            "grid_template_areas": null,
            "grid_template_columns": null,
            "grid_template_rows": null,
            "height": null,
            "justify_content": null,
            "justify_items": null,
            "left": null,
            "margin": null,
            "max_height": null,
            "max_width": null,
            "min_height": null,
            "min_width": null,
            "object_fit": null,
            "object_position": null,
            "order": null,
            "overflow": null,
            "overflow_x": null,
            "overflow_y": null,
            "padding": null,
            "right": null,
            "top": null,
            "visibility": null,
            "width": null
          }
        },
        "d2ecb3e9ed654ca793d75ba944c067a7": {
          "model_module": "@jupyter-widgets/controls",
          "model_module_version": "1.5.0",
          "model_name": "HTMLModel",
          "state": {
            "_dom_classes": [],
            "_model_module": "@jupyter-widgets/controls",
            "_model_module_version": "1.5.0",
            "_model_name": "HTMLModel",
            "_view_count": null,
            "_view_module": "@jupyter-widgets/controls",
            "_view_module_version": "1.5.0",
            "_view_name": "HTMLView",
            "description": "",
            "description_tooltip": null,
            "layout": "IPY_MODEL_7bb356b9680147b6a74932009277e6f6",
            "placeholder": "​",
            "style": "IPY_MODEL_3ab2c1b26db04c1f9eed9e1a4941e40c",
            "value": " 1/1 [00:00&lt;00:00, 30.88it/s]"
          }
        },
        "db187676cdaa496cac339ac3ff74f3b6": {
          "model_module": "@jupyter-widgets/base",
          "model_module_version": "1.2.0",
          "model_name": "LayoutModel",
          "state": {
            "_model_module": "@jupyter-widgets/base",
            "_model_module_version": "1.2.0",
            "_model_name": "LayoutModel",
            "_view_count": null,
            "_view_module": "@jupyter-widgets/base",
            "_view_module_version": "1.2.0",
            "_view_name": "LayoutView",
            "align_content": null,
            "align_items": null,
            "align_self": null,
            "border": null,
            "bottom": null,
            "display": null,
            "flex": null,
            "flex_flow": null,
            "grid_area": null,
            "grid_auto_columns": null,
            "grid_auto_flow": null,
            "grid_auto_rows": null,
            "grid_column": null,
            "grid_gap": null,
            "grid_row": null,
            "grid_template_areas": null,
            "grid_template_columns": null,
            "grid_template_rows": null,
            "height": null,
            "justify_content": null,
            "justify_items": null,
            "left": null,
            "margin": null,
            "max_height": null,
            "max_width": null,
            "min_height": null,
            "min_width": null,
            "object_fit": null,
            "object_position": null,
            "order": null,
            "overflow": null,
            "overflow_x": null,
            "overflow_y": null,
            "padding": null,
            "right": null,
            "top": null,
            "visibility": null,
            "width": null
          }
        },
        "dff52e7f044f4510a0d20c01d1f4ed0d": {
          "model_module": "@jupyter-widgets/base",
          "model_module_version": "1.2.0",
          "model_name": "LayoutModel",
          "state": {
            "_model_module": "@jupyter-widgets/base",
            "_model_module_version": "1.2.0",
            "_model_name": "LayoutModel",
            "_view_count": null,
            "_view_module": "@jupyter-widgets/base",
            "_view_module_version": "1.2.0",
            "_view_name": "LayoutView",
            "align_content": null,
            "align_items": null,
            "align_self": null,
            "border": null,
            "bottom": null,
            "display": null,
            "flex": null,
            "flex_flow": null,
            "grid_area": null,
            "grid_auto_columns": null,
            "grid_auto_flow": null,
            "grid_auto_rows": null,
            "grid_column": null,
            "grid_gap": null,
            "grid_row": null,
            "grid_template_areas": null,
            "grid_template_columns": null,
            "grid_template_rows": null,
            "height": null,
            "justify_content": null,
            "justify_items": null,
            "left": null,
            "margin": null,
            "max_height": null,
            "max_width": null,
            "min_height": null,
            "min_width": null,
            "object_fit": null,
            "object_position": null,
            "order": null,
            "overflow": null,
            "overflow_x": null,
            "overflow_y": null,
            "padding": null,
            "right": null,
            "top": null,
            "visibility": null,
            "width": null
          }
        },
        "f401b838642145ef97f44bf9c9a8edb2": {
          "model_module": "@jupyter-widgets/controls",
          "model_module_version": "1.5.0",
          "model_name": "HTMLModel",
          "state": {
            "_dom_classes": [],
            "_model_module": "@jupyter-widgets/controls",
            "_model_module_version": "1.5.0",
            "_model_name": "HTMLModel",
            "_view_count": null,
            "_view_module": "@jupyter-widgets/controls",
            "_view_module_version": "1.5.0",
            "_view_name": "HTMLView",
            "description": "",
            "description_tooltip": null,
            "layout": "IPY_MODEL_78265cd1c2f44c28a6c76ae1de3ba122",
            "placeholder": "​",
            "style": "IPY_MODEL_2337f07b79874a1394fe3e69b261d55c",
            "value": " 4/4 [00:00&lt;00:00,  5.14it/s]"
          }
        },
        "f58b040bc8414243888eccbd7059b14e": {
          "model_module": "@jupyter-widgets/controls",
          "model_module_version": "1.5.0",
          "model_name": "HBoxModel",
          "state": {
            "_dom_classes": [],
            "_model_module": "@jupyter-widgets/controls",
            "_model_module_version": "1.5.0",
            "_model_name": "HBoxModel",
            "_view_count": null,
            "_view_module": "@jupyter-widgets/controls",
            "_view_module_version": "1.5.0",
            "_view_name": "HBoxView",
            "box_style": "",
            "children": [
              "IPY_MODEL_3b8eb2960db0440daeee5e79f8b287d0",
              "IPY_MODEL_159a7519d0f04bb8963b8e149c6458a6",
              "IPY_MODEL_d2ecb3e9ed654ca793d75ba944c067a7"
            ],
            "layout": "IPY_MODEL_db187676cdaa496cac339ac3ff74f3b6"
          }
        }
      }
    }
  },
  "nbformat": 4,
  "nbformat_minor": 5
}
