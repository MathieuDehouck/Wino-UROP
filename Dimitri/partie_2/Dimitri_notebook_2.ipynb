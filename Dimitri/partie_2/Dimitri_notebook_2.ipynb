{
  "cells": [
    {
      "cell_type": "code",
      "execution_count": null,
      "id": "oKMB51yXitjt",
      "metadata": {
        "colab": {
          "base_uri": "https://localhost:8080/",
          "height": 38
        },
        "id": "oKMB51yXitjt",
        "outputId": "c1931ee8-1696-4841-c295-f14b925e1470"
      },
      "outputs": [
        {
          "output_type": "display_data",
          "data": {
            "text/plain": [
              "<IPython.core.display.HTML object>"
            ],
            "text/html": [
              "\n",
              "     <input type=\"file\" id=\"files-91ba04a8-90a4-427d-89fd-bb598f973a9e\" name=\"files[]\" multiple disabled\n",
              "        style=\"border:none\" />\n",
              "     <output id=\"result-91ba04a8-90a4-427d-89fd-bb598f973a9e\">\n",
              "      Upload widget is only available when the cell has been executed in the\n",
              "      current browser session. Please rerun this cell to enable.\n",
              "      </output>\n",
              "      <script>// Copyright 2017 Google LLC\n",
              "//\n",
              "// Licensed under the Apache License, Version 2.0 (the \"License\");\n",
              "// you may not use this file except in compliance with the License.\n",
              "// You may obtain a copy of the License at\n",
              "//\n",
              "//      http://www.apache.org/licenses/LICENSE-2.0\n",
              "//\n",
              "// Unless required by applicable law or agreed to in writing, software\n",
              "// distributed under the License is distributed on an \"AS IS\" BASIS,\n",
              "// WITHOUT WARRANTIES OR CONDITIONS OF ANY KIND, either express or implied.\n",
              "// See the License for the specific language governing permissions and\n",
              "// limitations under the License.\n",
              "\n",
              "/**\n",
              " * @fileoverview Helpers for google.colab Python module.\n",
              " */\n",
              "(function(scope) {\n",
              "function span(text, styleAttributes = {}) {\n",
              "  const element = document.createElement('span');\n",
              "  element.textContent = text;\n",
              "  for (const key of Object.keys(styleAttributes)) {\n",
              "    element.style[key] = styleAttributes[key];\n",
              "  }\n",
              "  return element;\n",
              "}\n",
              "\n",
              "// Max number of bytes which will be uploaded at a time.\n",
              "const MAX_PAYLOAD_SIZE = 100 * 1024;\n",
              "\n",
              "function _uploadFiles(inputId, outputId) {\n",
              "  const steps = uploadFilesStep(inputId, outputId);\n",
              "  const outputElement = document.getElementById(outputId);\n",
              "  // Cache steps on the outputElement to make it available for the next call\n",
              "  // to uploadFilesContinue from Python.\n",
              "  outputElement.steps = steps;\n",
              "\n",
              "  return _uploadFilesContinue(outputId);\n",
              "}\n",
              "\n",
              "// This is roughly an async generator (not supported in the browser yet),\n",
              "// where there are multiple asynchronous steps and the Python side is going\n",
              "// to poll for completion of each step.\n",
              "// This uses a Promise to block the python side on completion of each step,\n",
              "// then passes the result of the previous step as the input to the next step.\n",
              "function _uploadFilesContinue(outputId) {\n",
              "  const outputElement = document.getElementById(outputId);\n",
              "  const steps = outputElement.steps;\n",
              "\n",
              "  const next = steps.next(outputElement.lastPromiseValue);\n",
              "  return Promise.resolve(next.value.promise).then((value) => {\n",
              "    // Cache the last promise value to make it available to the next\n",
              "    // step of the generator.\n",
              "    outputElement.lastPromiseValue = value;\n",
              "    return next.value.response;\n",
              "  });\n",
              "}\n",
              "\n",
              "/**\n",
              " * Generator function which is called between each async step of the upload\n",
              " * process.\n",
              " * @param {string} inputId Element ID of the input file picker element.\n",
              " * @param {string} outputId Element ID of the output display.\n",
              " * @return {!Iterable<!Object>} Iterable of next steps.\n",
              " */\n",
              "function* uploadFilesStep(inputId, outputId) {\n",
              "  const inputElement = document.getElementById(inputId);\n",
              "  inputElement.disabled = false;\n",
              "\n",
              "  const outputElement = document.getElementById(outputId);\n",
              "  outputElement.innerHTML = '';\n",
              "\n",
              "  const pickedPromise = new Promise((resolve) => {\n",
              "    inputElement.addEventListener('change', (e) => {\n",
              "      resolve(e.target.files);\n",
              "    });\n",
              "  });\n",
              "\n",
              "  const cancel = document.createElement('button');\n",
              "  inputElement.parentElement.appendChild(cancel);\n",
              "  cancel.textContent = 'Cancel upload';\n",
              "  const cancelPromise = new Promise((resolve) => {\n",
              "    cancel.onclick = () => {\n",
              "      resolve(null);\n",
              "    };\n",
              "  });\n",
              "\n",
              "  // Wait for the user to pick the files.\n",
              "  const files = yield {\n",
              "    promise: Promise.race([pickedPromise, cancelPromise]),\n",
              "    response: {\n",
              "      action: 'starting',\n",
              "    }\n",
              "  };\n",
              "\n",
              "  cancel.remove();\n",
              "\n",
              "  // Disable the input element since further picks are not allowed.\n",
              "  inputElement.disabled = true;\n",
              "\n",
              "  if (!files) {\n",
              "    return {\n",
              "      response: {\n",
              "        action: 'complete',\n",
              "      }\n",
              "    };\n",
              "  }\n",
              "\n",
              "  for (const file of files) {\n",
              "    const li = document.createElement('li');\n",
              "    li.append(span(file.name, {fontWeight: 'bold'}));\n",
              "    li.append(span(\n",
              "        `(${file.type || 'n/a'}) - ${file.size} bytes, ` +\n",
              "        `last modified: ${\n",
              "            file.lastModifiedDate ? file.lastModifiedDate.toLocaleDateString() :\n",
              "                                    'n/a'} - `));\n",
              "    const percent = span('0% done');\n",
              "    li.appendChild(percent);\n",
              "\n",
              "    outputElement.appendChild(li);\n",
              "\n",
              "    const fileDataPromise = new Promise((resolve) => {\n",
              "      const reader = new FileReader();\n",
              "      reader.onload = (e) => {\n",
              "        resolve(e.target.result);\n",
              "      };\n",
              "      reader.readAsArrayBuffer(file);\n",
              "    });\n",
              "    // Wait for the data to be ready.\n",
              "    let fileData = yield {\n",
              "      promise: fileDataPromise,\n",
              "      response: {\n",
              "        action: 'continue',\n",
              "      }\n",
              "    };\n",
              "\n",
              "    // Use a chunked sending to avoid message size limits. See b/62115660.\n",
              "    let position = 0;\n",
              "    do {\n",
              "      const length = Math.min(fileData.byteLength - position, MAX_PAYLOAD_SIZE);\n",
              "      const chunk = new Uint8Array(fileData, position, length);\n",
              "      position += length;\n",
              "\n",
              "      const base64 = btoa(String.fromCharCode.apply(null, chunk));\n",
              "      yield {\n",
              "        response: {\n",
              "          action: 'append',\n",
              "          file: file.name,\n",
              "          data: base64,\n",
              "        },\n",
              "      };\n",
              "\n",
              "      let percentDone = fileData.byteLength === 0 ?\n",
              "          100 :\n",
              "          Math.round((position / fileData.byteLength) * 100);\n",
              "      percent.textContent = `${percentDone}% done`;\n",
              "\n",
              "    } while (position < fileData.byteLength);\n",
              "  }\n",
              "\n",
              "  // All done.\n",
              "  yield {\n",
              "    response: {\n",
              "      action: 'complete',\n",
              "    }\n",
              "  };\n",
              "}\n",
              "\n",
              "scope.google = scope.google || {};\n",
              "scope.google.colab = scope.google.colab || {};\n",
              "scope.google.colab._files = {\n",
              "  _uploadFiles,\n",
              "  _uploadFilesContinue,\n",
              "};\n",
              "})(self);\n",
              "</script> "
            ]
          },
          "metadata": {}
        }
      ],
      "source": [
        "#importer les ficher non accessibles localement\n",
        "\n",
        "from google.colab import files\n",
        "uploaded = files.upload()"
      ]
    },
    {
      "cell_type": "code",
      "execution_count": null,
      "id": "eeb8c847",
      "metadata": {
        "colab": {
          "base_uri": "https://localhost:8080/"
        },
        "id": "eeb8c847",
        "outputId": "4482cd3d-1d39-4fda-d12b-9178226eb4db"
      },
      "outputs": [
        {
          "output_type": "stream",
          "name": "stdout",
          "text": [
            "                                qID  \\\n",
            "0  3QHITW7OYO7Q6B6ISU2UMJB84ZLAQE-2   \n",
            "1  3QHITW7OYO7Q6B6ISU2UMJB84ZLAQE-1   \n",
            "2  3XWUWJ18TLO2DDRXF83QWLKRJ29UU4-1   \n",
            "3  3XWUWJ18TLO2DDRXF83QWLKRJ29UU4-2   \n",
            "4  3D5G8J4N5CI2K40F4RZLF9OG2CKVTH-2   \n",
            "\n",
            "                                            sentence option1 option2  answer  \n",
            "0  Ian volunteered to eat Dennis's menudo after a...     Ian  Dennis       2  \n",
            "1  Ian volunteered to eat Dennis's menudo after a...     Ian  Dennis       1  \n",
            "2  He never comes to my home, but I always go to ...    home   house       1  \n",
            "3  He never comes to my home, but I always go to ...    home   house       2  \n",
            "4  Kyle doesn't wear leg warmers to bed, while Lo...    Kyle   Logan       2  \n"
          ]
        }
      ],
      "source": [
        "import pandas as pd\n",
        "import matplotlib.pyplot as plt\n",
        "from collections import Counter\n",
        "from pathlib import Path\n",
        "import os\n",
        "from os.path import normpath\n",
        "from pathlib import PureWindowsPath\n",
        "import numpy as np\n",
        "\n",
        "\n",
        "def convert(path):\n",
        "    return PureWindowsPath(normpath(PureWindowsPath(path).as_posix())).as_posix()\n",
        "\n",
        "\n",
        "chemin_du_fichier = convert(\"train_xl.jsonl\")\n",
        "df = pd.read_json(chemin_du_fichier , lines=True)\n",
        "print(df.head())\n",
        "\n",
        "l_option1 = list(df[\"option1\"])\n",
        "l_option2 = list(df[\"option2\"])\n",
        "\n",
        "\n",
        "\n",
        "\n",
        "def frequency1(l):\n",
        "    counter = Counter(l)\n",
        "    # Trie les mots par fréquence décroissante\n",
        "    sorted_words = sorted(counter.items(), key=lambda x: x[1], reverse=True)\n",
        "    sorted_words = [[word, freq] for word, freq in sorted_words]\n",
        "    for i in range(len(sorted_words)):\n",
        "        sorted_words[i][1] /= 2\n",
        "\n",
        "    return sorted_words\n",
        "\n",
        "def frequency2(l):\n",
        "    counter = Counter(l)\n",
        "    # Trie les mots par fréquence décroissante\n",
        "    sorted_words = sorted(counter.items(), key=lambda x: x[1], reverse=True)\n",
        "    sorted_words = [[word, freq] for word, freq in sorted_words]\n",
        "\n",
        "    return sorted_words\n",
        "\n",
        "def frequency3(l):\n",
        "    counter = Counter(l)\n",
        "    # Trie les mots par fréquence décroissante\n",
        "    sorted_words = sorted(counter.items(), key=lambda x: x[1], reverse=True)\n",
        "\n",
        "    sorted_words = [[word, freq] for word, freq in sorted_words]\n",
        "    unsorted_words = {word:freq for word, freq in sorted_words}\n",
        "    return sorted_words, unsorted_words\n",
        "\n",
        "words_and_occurences_sorted_option1 = frequency1(l_option1)\n",
        "#common_words_and_occurences_sorted_option1\n",
        "words_and_occurences_sorted_option2 = frequency1(l_option2)\n",
        "\n",
        "# def common_words_only(l_sorted_occurences):\n",
        "#     for line in l_sorted_occurences:\n",
        "#         if line"
      ]
    },
    {
      "cell_type": "code",
      "execution_count": null,
      "id": "01fdde09",
      "metadata": {
        "colab": {
          "base_uri": "https://localhost:8080/",
          "height": 1000
        },
        "id": "01fdde09",
        "outputId": "e725ea3c-ce8e-47f1-cd17-56009001c4f2"
      },
      "outputs": [
        {
          "output_type": "display_data",
          "data": {
            "text/plain": [
              "<Figure size 640x480 with 1 Axes>"
            ],
            "image/png": "[encoded data removed]"
          },
          "metadata": {}
        },
        {
          "output_type": "display_data",
          "data": {
            "text/plain": [
              "<Figure size 640x480 with 1 Axes>"
            ],
            "image/png": "[encoded data removed]"
          },
          "metadata": {}
        }
      ],
      "source": [
        "from matplotlib import colors\n",
        "\n",
        "def frequency_plot(x,y,plot_name):\n",
        "# Créer un colormap allant du rouge au bleu\n",
        "    cmap = colors.LinearSegmentedColormap.from_list(\"red_to_blue\", [\"yellow\", \"red\"])\n",
        "\n",
        "# Normaliser les fréquences entre 0 et 1 pour les appliquer au colormap\n",
        "    norm = plt.Normalize(min(y), max(y))\n",
        "\n",
        "# Créer une figure et un axe\n",
        "    fig, ax = plt.subplots()\n",
        "\n",
        "# Dessiner l'histogramme avec un dégradé de couleur\n",
        "    for i in range(len(x)):\n",
        "        ax.bar(x[i], y[i], width=0.8, color=cmap(norm(y[i])), align='center')\n",
        "\n",
        "    ax.set_yscale('log')\n",
        "# Titres et labels\n",
        "    plt.title(plot_name)\n",
        "    plt.xlabel(\"Valeurs\")\n",
        "    plt.ylabel(\"Fréquence\")\n",
        "    plt.xticks(rotation=65)\n",
        "    plt.tick_params(axis='x', which='major', labelsize=8)\n",
        "    plt.show()\n",
        "\n",
        "def frequency_COCAvsWINOGRANDE(x,y,plot_name):\n",
        "# Créer un colormap allant du rouge au bleu\n",
        "    cmap = colors.LinearSegmentedColormap.from_list(\"red_to_blue\", [\"yellow\", \"red\"])\n",
        "\n",
        "# Normaliser les fréquences entre 0 et 1 pour les appliquer au colormap\n",
        "    norm = plt.Normalize(min(y), max(y))\n",
        "\n",
        "# Créer une figure et un axe\n",
        "    fig, ax = plt.subplots()\n",
        "\n",
        "# Dessiner l'histogramme avec un dégradé de couleur\n",
        "    for i in range(len(x)):\n",
        "        ax.bar(x[i], y[i], width=0.8, color=cmap(norm(y[i])), align='center')\n",
        "    x = np.arange(0, 26)\n",
        "    plt.plot(x, x, color='green', linewidth=2, label=\"f(x) = x\")\n",
        "\n",
        "# Titres et labels\n",
        "    plt.title(plot_name)\n",
        "    plt.xlabel(\"COCA frequency rank\")\n",
        "    plt.ylabel(\"Winogrande frequency rank\")\n",
        "    plt.xticks(rotation=65)\n",
        "    plt.tick_params(axis='x', which='major', labelsize=8)\n",
        "    plt.legend(loc='upper left')\n",
        "    plt.show()\n",
        "\n",
        "def frequency_plot_linear(x,y,plot_name):\n",
        "# Créer un colormap allant du rouge au bleu\n",
        "    cmap = colors.LinearSegmentedColormap.from_list(\"red_to_blue\", [\"yellow\", \"red\"])\n",
        "\n",
        "# Normaliser les fréquences entre 0 et 1 pour les appliquer au colormap\n",
        "    norm = plt.Normalize(min(y), max(y))\n",
        "\n",
        "# Créer une figure et un axe\n",
        "    fig, ax = plt.subplots(figsize=(12, 6))\n",
        "\n",
        "# Dessiner l'histogramme avec un dégradé de couleur\n",
        "    for i in range(len(x)):\n",
        "        ax.bar(x[i], y[i], width=0.8, color=cmap(norm(y[i])), align='center')\n",
        "\n",
        "    ax.set_yscale('linear')\n",
        "# Titres et labels\n",
        "    plt.title(plot_name)\n",
        "    plt.xlabel(\"Valeurs\")\n",
        "    plt.ylabel(\"Fréquence\")\n",
        "    plt.xticks(rotation=65)\n",
        "    plt.tick_params(axis='x', which='major', labelsize=8)\n",
        "    plt.show()\n",
        "\n",
        "def frequency_plot_log_likelihood(x,y,plot_name):\n",
        "# Créer un colormap allant du rouge au bleu\n",
        "    cmap = colors.LinearSegmentedColormap.from_list(\"red_to_blue\", [\"yellow\", \"red\"])\n",
        "\n",
        "# Normaliser les fréquences entre 0 et 1 pour les appliquer au colormap\n",
        "    norm = plt.Normalize(min(y), max(y))\n",
        "    plt.figure(figsize=(10, 6))\n",
        "# Créer une figure et un axe\n",
        "    fig, ax = plt.subplots()\n",
        "\n",
        "# Dessiner l'histogramme avec un dégradé de couleur\n",
        "    for i in range(len(x)):\n",
        "        ax.bar(x[i], y[i], width=0.8, color=cmap(norm(y[i])), align='center')\n",
        "\n",
        "    ax.set_yscale('log')\n",
        "# Titres et labels\n",
        "    plt.title(plot_name)\n",
        "    plt.xlabel(\"Words (sorted by frequency rank in Winogrande)\")\n",
        "    plt.ylabel(\"Log-likelihood score\")\n",
        "    plt.xticks(rotation=65)\n",
        "    plt.tick_params(axis='x', which='major', labelsize=8)\n",
        "    plt.show()\n",
        "\n",
        "plot_name = \"Words by frequency in option1\"\n",
        "x1 = [row[0] for row in words_and_occurences_sorted_option1]\n",
        "y1 = [row[1] for row in words_and_occurences_sorted_option1]\n",
        "frequency_plot(x1[:20],y1[:20],plot_name)\n",
        "\n",
        "plot_name = \"Words by frequency in option2\"\n",
        "x2 = [row[0] for row in words_and_occurences_sorted_option2]\n",
        "y2 = [row[1] for row in words_and_occurences_sorted_option2]\n",
        "frequency_plot(x2[:20],y2[:20],plot_name)\n",
        "\n"
      ]
    },
    {
      "cell_type": "code",
      "execution_count": null,
      "id": "77b1ee28",
      "metadata": {
        "id": "77b1ee28",
        "outputId": "0dc18bd8-510b-487c-f1d0-1acde521922b",
        "scrolled": true,
        "colab": {
          "base_uri": "https://localhost:8080/",
          "height": 1000
        }
      },
      "outputs": [
        {
          "output_type": "stream",
          "name": "stderr",
          "text": [
            "<ipython-input-51-924689527>:6: RuntimeWarning: overflow encountered in exp\n",
            "  return A * np.exp(-lambda_ * x) + 1\n",
            "<ipython-input-51-924689527>:6: RuntimeWarning: overflow encountered in multiply\n",
            "  return A * np.exp(-lambda_ * x) + 1\n"
          ]
        },
        {
          "output_type": "display_data",
          "data": {
            "text/plain": [
              "<Figure size 640x480 with 1 Axes>"
            ],
            "image/png": "[encoded data removed]"
          },
          "metadata": {}
        },
        {
          "output_type": "stream",
          "name": "stdout",
          "text": [
            "R² : 0.9381\n",
            "Paramètre estimé A : 283.17\n",
            "Paramètre estimé lambda : 0.02\n"
          ]
        },
        {
          "output_type": "display_data",
          "data": {
            "text/plain": [
              "<Figure size 640x480 with 1 Axes>"
            ],
            "image/png": "[encoded data removed]"
          },
          "metadata": {}
        },
        {
          "output_type": "stream",
          "name": "stdout",
          "text": [
            "R² : 0.9356\n",
            "Paramètre estimé A : 282.47\n",
            "Paramètre estimé lambda : 0.02\n"
          ]
        }
      ],
      "source": [
        "from scipy.optimize import curve_fit\n",
        "\n",
        "\n",
        "# Définir la fonction exponentielle pour l'ajustement\n",
        "def exp_func(x, A, lambda_):\n",
        "    return A * np.exp(-lambda_ * x) + 1\n",
        "\n",
        "def exp_model_and_plot(x_values,y_values):\n",
        "    # Ajuster la fonction exponentielle aux données\n",
        "    rangs = np.arange(1, len(x_values) + 1)\n",
        "    params, covariance = curve_fit(exp_func, rangs, y_values, p0=[1, 0.1])\n",
        "\n",
        "# Extraire les paramètres ajustés A et lambda\n",
        "    A_estime = 8\n",
        "    A_estime, lambda_estime = params\n",
        "\n",
        "\n",
        "# Générer les valeurs ajustées\n",
        "    x_fit = np.linspace(min(rangs), max(rangs), len(x_values))\n",
        "    y_fit = exp_func(x_fit, *params)\n",
        "\n",
        "# Visualiser les données et l'ajustement\n",
        "    plt.plot(rangs, y_values, label=\"Données\", color=\"blue\")\n",
        "    plt.plot(x_fit, y_fit, label=f\"Ajustement exponentiel\\nA={A_estime:.2f}, λ={lambda_estime:.2f}\", color=\"red\")\n",
        "    plt.xlabel('rangs')\n",
        "    plt.ylabel('frequency')\n",
        "    plt.legend()\n",
        "    plt.title('Ajustement de la loi exponentielle')\n",
        "    plt.show()\n",
        "\n",
        "    residus = y_values - y_fit\n",
        "\n",
        "# Somme totale des carrés (variance des valeurs réelles autour de leur moyenne)\n",
        "    SS_tot = np.sum((y_values - np.mean(y_values))**2)\n",
        "\n",
        "# Somme des carrés des résidus\n",
        "    SS_res = np.sum(residus**2)\n",
        "\n",
        "# Coefficient de détermination R²\n",
        "    R_squared = 1 - (SS_res / SS_tot)\n",
        "\n",
        "# Affichage du résultat\n",
        "    print(f\"R² : {R_squared:.4f}\")\n",
        "    print(f\"Paramètre estimé A : {A_estime:.2f}\")\n",
        "    print(f\"Paramètre estimé lambda : {lambda_estime:.2f}\")\n",
        "\n",
        "exp_model_and_plot(x1,y1)\n",
        "exp_model_and_plot(x2,y2)"
      ]
    },
    {
      "cell_type": "code",
      "execution_count": null,
      "id": "ad27ef6e",
      "metadata": {
        "id": "ad27ef6e",
        "scrolled": false,
        "colab": {
          "base_uri": "https://localhost:8080/"
        },
        "outputId": "a46772e4-5e9b-483d-a340-1c6b1993c29b"
      },
      "outputs": [
        {
          "output_type": "stream",
          "name": "stderr",
          "text": [
            "/usr/local/lib/python3.11/dist-packages/spacy/cli/_util.py:23: DeprecationWarning: Importing 'parser.split_arg_string' is deprecated, it will only be available in 'shell_completion' in Click 9.0.\n",
            "  from click.parser import split_arg_string\n",
            "/usr/local/lib/python3.11/dist-packages/weasel/util/config.py:8: DeprecationWarning: Importing 'parser.split_arg_string' is deprecated, it will only be available in 'shell_completion' in Click 9.0.\n",
            "  from click.parser import split_arg_string\n"
          ]
        }
      ],
      "source": [
        "import spacy\n",
        "from tqdm import tqdm\n",
        "\n",
        "def cross_frequency(df):\n",
        "    nlp = spacy.load(\"en_core_web_sm\")\n",
        "    pairs = []\n",
        "    for index, row in tqdm(df.iterrows(),total = len(df)):\n",
        "        if row.values[4] == 1:\n",
        "            option = 2\n",
        "        else:\n",
        "            option = 3\n",
        "\n",
        "        if nlp(row.values[option])[0].pos_ == 'PROPN':\n",
        "            for word in row.values[1].split():\n",
        "                pairs += [(row.values[option],word)]\n",
        "        else:\n",
        "            for word in row.values[1].split():\n",
        "                pairs += [(row.values[option],word)]\n",
        "    return frequency2(pairs)\n",
        "\n",
        "# cross_frequency(df)\n",
        "\n",
        "\n",
        "def link_with_adj(df):\n",
        "    adj_pairs = []\n",
        "    pairs = cross_frequency(df)\n",
        "    nlp = spacy.load(\"en_core_web_sm\")\n",
        "    for pair in pairs:\n",
        "        word_sentence = nlp(pair[0][1])\n",
        "        if word_sentence[0].pos_ == \"ADJ\":\n",
        "            adj_pairs += pair\n",
        "            print(pair)\n",
        "\n",
        "def link_with_verbs(df):\n",
        "    adj_pairs = []\n",
        "    pairs = cross_frequency(df)\n",
        "    nlp = spacy.load(\"en_core_web_sm\")\n",
        "    for pair in pairs:\n",
        "        word_sentence = nlp(pair[0][1])\n",
        "        if word_sentence[0].pos_ == \"VERB\":\n",
        "            adj_pairs += pair\n",
        "            print(pair)\n",
        "\n",
        "# link_with_adj(df)\n"
      ]
    },
    {
      "cell_type": "markdown",
      "id": "453d9b04",
      "metadata": {
        "id": "453d9b04"
      },
      "source": [
        "# Compare the word distribution of the dataframe with a classic distribution"
      ]
    },
    {
      "cell_type": "code",
      "execution_count": null,
      "id": "5cc8e215",
      "metadata": {
        "colab": {
          "base_uri": "https://localhost:8080/"
        },
        "id": "5cc8e215",
        "outputId": "a0b4da7a-cf23-484d-9a18-c8605cf7a4ba"
      },
      "outputs": [
        {
          "output_type": "stream",
          "name": "stderr",
          "text": [
            "100%|██████████| 40398/40398 [00:02<00:00, 16372.98it/s]\n"
          ]
        }
      ],
      "source": [
        "from tqdm import tqdm\n",
        "# Create a list of frequences for dt words\n",
        "def frequency_list(df):\n",
        "    tot_word_list = []\n",
        "    for index, row in tqdm(df.iterrows(),total = len(df)):\n",
        "        for word in row.values[1].split():\n",
        "                if not (word == '_' or word[0].isupper()):\n",
        "                    tot_word_list.append(word)\n",
        "    return *frequency3(tot_word_list), len(tot_word_list)\n",
        "\n",
        "frequency_list_df1, dict_frequency_list_df1, size_frequency_list_df1 = frequency_list(df)"
      ]
    },
    {
      "cell_type": "markdown",
      "id": "2fd463fa",
      "metadata": {
        "id": "2fd463fa"
      },
      "source": [
        "récupérer les 2 fréquences relatives : cacluler la diff normalisée par la fréquence du corpus de référécen\n",
        "    on s'attend à une distribution en cloche\n",
        "    \n",
        "faire la méthode de vraissemblance que si la fréquence des mots (nb) est suffisament grande\n",
        "plus le log est grand, plus\n",
        "=> le seuil de fréquence minimal est de 5 => on ne calcule pas leurs valeurs\n",
        "\n",
        "fonction de calcul de spécificité\n",
        "TXM, i tramer, ..."
      ]
    },
    {
      "cell_type": "code",
      "execution_count": null,
      "id": "1d046ff8",
      "metadata": {
        "id": "1d046ff8",
        "scrolled": false,
        "colab": {
          "base_uri": "https://localhost:8080/",
          "height": 404
        },
        "outputId": "b95d616c-5d23-405d-c414-b8b6a6129a98"
      },
      "outputs": [
        {
          "output_type": "error",
          "ename": "FileNotFoundError",
          "evalue": "[Errno 2] No such file or directory: 'wordFrequency.xlsx'",
          "traceback": [
            "\u001b[0;31m---------------------------------------------------------------------------\u001b[0m",
            "\u001b[0;31mFileNotFoundError\u001b[0m                         Traceback (most recent call last)",
            "\u001b[0;32m<ipython-input-54-3014679193>\u001b[0m in \u001b[0;36m<cell line: 0>\u001b[0;34m()\u001b[0m\n\u001b[1;32m      2\u001b[0m \u001b[0;34m\u001b[0m\u001b[0m\n\u001b[1;32m      3\u001b[0m \u001b[0;31m# Charger le fichier Excel\u001b[0m\u001b[0;34m\u001b[0m\u001b[0;34m\u001b[0m\u001b[0m\n\u001b[0;32m----> 4\u001b[0;31m \u001b[0mdf2\u001b[0m \u001b[0;34m=\u001b[0m \u001b[0mpd\u001b[0m\u001b[0;34m.\u001b[0m\u001b[0mread_excel\u001b[0m\u001b[0;34m(\u001b[0m\u001b[0;34m\"wordFrequency.xlsx\"\u001b[0m\u001b[0;34m,\u001b[0m \u001b[0msheet_name\u001b[0m\u001b[0;34m=\u001b[0m\u001b[0;34m\"4 forms (219k)\"\u001b[0m\u001b[0;34m)\u001b[0m  \u001b[0;31m# Remplace avec le vrai nom du fichier et de la feuille\u001b[0m\u001b[0;34m\u001b[0m\u001b[0;34m\u001b[0m\u001b[0m\n\u001b[0m\u001b[1;32m      5\u001b[0m \u001b[0;34m\u001b[0m\u001b[0m\n\u001b[1;32m      6\u001b[0m \u001b[0;31m# Sélectionner deux colonnes\u001b[0m\u001b[0;34m\u001b[0m\u001b[0;34m\u001b[0m\u001b[0m\n",
            "\u001b[0;32m/usr/local/lib/python3.11/dist-packages/pandas/io/excel/_base.py\u001b[0m in \u001b[0;36mread_excel\u001b[0;34m(io, sheet_name, header, names, index_col, usecols, dtype, engine, converters, true_values, false_values, skiprows, nrows, na_values, keep_default_na, na_filter, verbose, parse_dates, date_parser, date_format, thousands, decimal, comment, skipfooter, storage_options, dtype_backend, engine_kwargs)\u001b[0m\n\u001b[1;32m    493\u001b[0m     \u001b[0;32mif\u001b[0m \u001b[0;32mnot\u001b[0m \u001b[0misinstance\u001b[0m\u001b[0;34m(\u001b[0m\u001b[0mio\u001b[0m\u001b[0;34m,\u001b[0m \u001b[0mExcelFile\u001b[0m\u001b[0;34m)\u001b[0m\u001b[0;34m:\u001b[0m\u001b[0;34m\u001b[0m\u001b[0;34m\u001b[0m\u001b[0m\n\u001b[1;32m    494\u001b[0m         \u001b[0mshould_close\u001b[0m \u001b[0;34m=\u001b[0m \u001b[0;32mTrue\u001b[0m\u001b[0;34m\u001b[0m\u001b[0;34m\u001b[0m\u001b[0m\n\u001b[0;32m--> 495\u001b[0;31m         io = ExcelFile(\n\u001b[0m\u001b[1;32m    496\u001b[0m             \u001b[0mio\u001b[0m\u001b[0;34m,\u001b[0m\u001b[0;34m\u001b[0m\u001b[0;34m\u001b[0m\u001b[0m\n\u001b[1;32m    497\u001b[0m             \u001b[0mstorage_options\u001b[0m\u001b[0;34m=\u001b[0m\u001b[0mstorage_options\u001b[0m\u001b[0;34m,\u001b[0m\u001b[0;34m\u001b[0m\u001b[0;34m\u001b[0m\u001b[0m\n",
            "\u001b[0;32m/usr/local/lib/python3.11/dist-packages/pandas/io/excel/_base.py\u001b[0m in \u001b[0;36m__init__\u001b[0;34m(self, path_or_buffer, engine, storage_options, engine_kwargs)\u001b[0m\n\u001b[1;32m   1548\u001b[0m                 \u001b[0mext\u001b[0m \u001b[0;34m=\u001b[0m \u001b[0;34m\"xls\"\u001b[0m\u001b[0;34m\u001b[0m\u001b[0;34m\u001b[0m\u001b[0m\n\u001b[1;32m   1549\u001b[0m             \u001b[0;32melse\u001b[0m\u001b[0;34m:\u001b[0m\u001b[0;34m\u001b[0m\u001b[0;34m\u001b[0m\u001b[0m\n\u001b[0;32m-> 1550\u001b[0;31m                 ext = inspect_excel_format(\n\u001b[0m\u001b[1;32m   1551\u001b[0m                     \u001b[0mcontent_or_path\u001b[0m\u001b[0;34m=\u001b[0m\u001b[0mpath_or_buffer\u001b[0m\u001b[0;34m,\u001b[0m \u001b[0mstorage_options\u001b[0m\u001b[0;34m=\u001b[0m\u001b[0mstorage_options\u001b[0m\u001b[0;34m\u001b[0m\u001b[0;34m\u001b[0m\u001b[0m\n\u001b[1;32m   1552\u001b[0m                 )\n",
            "\u001b[0;32m/usr/local/lib/python3.11/dist-packages/pandas/io/excel/_base.py\u001b[0m in \u001b[0;36minspect_excel_format\u001b[0;34m(content_or_path, storage_options)\u001b[0m\n\u001b[1;32m   1400\u001b[0m         \u001b[0mcontent_or_path\u001b[0m \u001b[0;34m=\u001b[0m \u001b[0mBytesIO\u001b[0m\u001b[0;34m(\u001b[0m\u001b[0mcontent_or_path\u001b[0m\u001b[0;34m)\u001b[0m\u001b[0;34m\u001b[0m\u001b[0;34m\u001b[0m\u001b[0m\n\u001b[1;32m   1401\u001b[0m \u001b[0;34m\u001b[0m\u001b[0m\n\u001b[0;32m-> 1402\u001b[0;31m     with get_handle(\n\u001b[0m\u001b[1;32m   1403\u001b[0m         \u001b[0mcontent_or_path\u001b[0m\u001b[0;34m,\u001b[0m \u001b[0;34m\"rb\"\u001b[0m\u001b[0;34m,\u001b[0m \u001b[0mstorage_options\u001b[0m\u001b[0;34m=\u001b[0m\u001b[0mstorage_options\u001b[0m\u001b[0;34m,\u001b[0m \u001b[0mis_text\u001b[0m\u001b[0;34m=\u001b[0m\u001b[0;32mFalse\u001b[0m\u001b[0;34m\u001b[0m\u001b[0;34m\u001b[0m\u001b[0m\n\u001b[1;32m   1404\u001b[0m     ) as handle:\n",
            "\u001b[0;32m/usr/local/lib/python3.11/dist-packages/pandas/io/common.py\u001b[0m in \u001b[0;36mget_handle\u001b[0;34m(path_or_buf, mode, encoding, compression, memory_map, is_text, errors, storage_options)\u001b[0m\n\u001b[1;32m    880\u001b[0m         \u001b[0;32melse\u001b[0m\u001b[0;34m:\u001b[0m\u001b[0;34m\u001b[0m\u001b[0;34m\u001b[0m\u001b[0m\n\u001b[1;32m    881\u001b[0m             \u001b[0;31m# Binary mode\u001b[0m\u001b[0;34m\u001b[0m\u001b[0;34m\u001b[0m\u001b[0m\n\u001b[0;32m--> 882\u001b[0;31m             \u001b[0mhandle\u001b[0m \u001b[0;34m=\u001b[0m \u001b[0mopen\u001b[0m\u001b[0;34m(\u001b[0m\u001b[0mhandle\u001b[0m\u001b[0;34m,\u001b[0m \u001b[0mioargs\u001b[0m\u001b[0;34m.\u001b[0m\u001b[0mmode\u001b[0m\u001b[0;34m)\u001b[0m\u001b[0;34m\u001b[0m\u001b[0;34m\u001b[0m\u001b[0m\n\u001b[0m\u001b[1;32m    883\u001b[0m         \u001b[0mhandles\u001b[0m\u001b[0;34m.\u001b[0m\u001b[0mappend\u001b[0m\u001b[0;34m(\u001b[0m\u001b[0mhandle\u001b[0m\u001b[0;34m)\u001b[0m\u001b[0;34m\u001b[0m\u001b[0;34m\u001b[0m\u001b[0m\n\u001b[1;32m    884\u001b[0m \u001b[0;34m\u001b[0m\u001b[0m\n",
            "\u001b[0;31mFileNotFoundError\u001b[0m: [Errno 2] No such file or directory: 'wordFrequency.xlsx'"
          ]
        }
      ],
      "source": [
        "# we import data from COCA :\n",
        "\n",
        "# Charger le fichier Excel\n",
        "df2 = pd.read_excel(\"wordFrequency.xlsx\", sheet_name=\"4 forms (219k)\")  # Remplace avec le vrai nom du fichier et de la feuille\n",
        "\n",
        "# Sélectionner deux colonnes\n",
        "frequency_list_df2 = df2[[\"word\", \"freq\"]].values.tolist()\n",
        "frequency_list_df2_rank = df2[[\"word\", \"rank\"]].values.tolist()\n",
        "size_frequency_list_df2 = 50033612/0.05\n",
        "\n",
        "my_dict_coca = {key:value for key,value in frequency_list_df2 }\n",
        "my_dict_coca2 = {key:value for key,value in frequency_list_df2_rank }\n",
        "\n"
      ]
    },
    {
      "cell_type": "code",
      "execution_count": null,
      "id": "b249d1d3",
      "metadata": {
        "id": "b249d1d3",
        "scrolled": true
      },
      "outputs": [],
      "source": [
        "plot_name = \"Words by frequency in Winogrande\"\n",
        "x1 = [row[0] for row in frequency_list_df1]\n",
        "y1 = [row[1] for row in frequency_list_df1]\n",
        "frequency_plot(x1[:20],y1[:20],plot_name)\n",
        "print(size_frequency_list_df1)\n",
        "plot_name = \"Words by frequency in COCA\"\n",
        "x1 = [row[0] for row in frequency_list_df2]\n",
        "y1 = [row[1] for row in frequency_list_df2]\n",
        "frequency_plot(x1[:20],y1[:20],plot_name)"
      ]
    },
    {
      "cell_type": "code",
      "execution_count": null,
      "id": "0747d75d",
      "metadata": {
        "id": "0747d75d"
      },
      "outputs": [],
      "source": [
        "plot_name = \"Words by frequency in Winogrande\"\n",
        "x1 = [row[0] for row in frequency_list_df1]\n",
        "y1 = [row[1] for row in frequency_list_df1]\n",
        "frequency_plot(x1[:20],y1[:20],plot_name)\n",
        "\n",
        "plot_name = \"Words by frequency in COCA\"\n",
        "y1 = [my_dict_coca[key] if key in my_dict_coca else 0 for key in x1  ]\n",
        "frequency_plot(x1[:20],y1[:20],plot_name)\n",
        "\n",
        "plot_name = \"Frequency rank comparison between Winogrande and COCA\"\n",
        "y1 = [my_dict_coca2[key] if key in my_dict_coca2 else 0 for key in x1  ]\n",
        "frequency_COCAvsWINOGRANDE(x1[:25],y1[:25],plot_name)"
      ]
    },
    {
      "cell_type": "code",
      "execution_count": null,
      "id": "efc7cd34",
      "metadata": {
        "id": "efc7cd34"
      },
      "outputs": [],
      "source": [
        "# on fait la méthode du log vraissemblance :\n",
        "import math\n",
        "\n",
        "def log_likelihood(a,b,c,d):\n",
        "    E1 = c*(a+b)/(c+d)\n",
        "    E2 = d*(a+b)/(c+d)\n",
        "    return 2*(a*math.log(a/E1) + b*math.log(b/E2))\n",
        "\n",
        "# we calculate for each word :\n",
        "def log_for_40_values(frequency_list_df1, my_dict_coca,size_frequency_list_df1,size_frequency_list_df2):\n",
        "    list_likelihood = []\n",
        "    i = 0\n",
        "    while frequency_list_df1[i][1] >= 10:\n",
        "        if frequency_list_df1[i][0] in  my_dict_coca:\n",
        "            a,b,c,d = frequency_list_df1[i][1],my_dict_coca[frequency_list_df1[i][0]],size_frequency_list_df1,size_frequency_list_df2\n",
        "            if a/c > b/d:\n",
        "                list_likelihood.append((frequency_list_df1[i][0],log_likelihood(a,b,c,d)))\n",
        "\n",
        "#             if frequency_list_df1[i][0] == 'i':\n",
        "#                 print(\"_________\")\n",
        "#             print(\"frequency list df1 i :\", frequency_list_df1[i][0], frequency_list_df1[i][1], my_dict_coca[frequency_list_df1[i][0]],size_frequency_list_df1,size_frequency_list_df2, list_likelihood[-1][-1], sep = '\\t')\n",
        "\n",
        "        i += 1\n",
        "    return list_likelihood\n",
        "\n",
        "list_likelihood = log_for_40_values(frequency_list_df1,my_dict_coca,size_frequency_list_df1, size_frequency_list_df2)\n",
        "\n",
        "L = sorted(list_likelihood,key = lambda x: x[1], reverse = True)\n"
      ]
    },
    {
      "cell_type": "code",
      "execution_count": null,
      "id": "87c2c67e",
      "metadata": {
        "id": "87c2c67e"
      },
      "outputs": [],
      "source": [
        "plot_name = \"Log-likelihood analysis : Winogrande vs COCA\"\n",
        "x1 = [row[0] for row in L]\n",
        "y1 = [row[1] for row in L]\n",
        "frequency_plot_log_likelihood(x1[:20],y1[:20],plot_name)"
      ]
    },
    {
      "cell_type": "markdown",
      "id": "6cf14009",
      "metadata": {
        "id": "6cf14009"
      },
      "source": [
        "connecteurs discursifs\n",
        "(lien entre les phrases)\n",
        "\n",
        "appoline\n",
        "arbres de parsing\n",
        "fonctions syntaxiques\n",
        "\n",
        "bcp de phrases ont à la fois but et because\n",
        "=> analyser les connecteurs qui sont fréquement ensembles\n",
        "éventuellemnt regarder les triplet et lier aux schémas (afficher les phrases)\n",
        "\n",
        "bcp de schéma : pb de conteneur/contenant\n",
        "classifieur qui détermine si un pb est de ce type (fitting problem)\n",
        "90% de certitude\n",
        "si on prive un modèle de ce type de pb, quel serait le succès\n",
        "on fait notre problème fine tunning, modèle de sagaguchi\n",
        "\n",
        "les prénons d'hommes et de femmes ne sont pas associés aux même schémas (s'entrainer = masculin, demander conseil = féminin)\n",
        "quasi exclusivité\n",
        "\n",
        "but = legitimer la négation"
      ]
    },
    {
      "cell_type": "code",
      "execution_count": null,
      "id": "7e7cb043",
      "metadata": {
        "id": "7e7cb043"
      },
      "outputs": [],
      "source": [
        "def cooccurrence(w1, w2):\n",
        "    counter = 0\n",
        "    for sentence in df[\"sentence\"] :\n",
        "        s = sentence.split()\n",
        "        if w1 != w2 :\n",
        "            if w1 in s and w2 in s :\n",
        "                counter +=1\n",
        "        else:\n",
        "            if sentence.count(w1) >= 2:\n",
        "                counter += 1\n",
        "    return counter\n",
        "\n",
        "def occurrence(w):\n",
        "    counter = 0\n",
        "    for sentence in df[\"sentence\"] :\n",
        "        s = sentence.split()\n",
        "        if w in s :\n",
        "            counter +=1\n",
        "    return counter\n",
        "\n",
        "n = 20\n",
        "co_matrix = np.zeros((n, n), dtype=int)\n",
        "nb_sentences = len(df[\"sentence\"])\n",
        "\n",
        "a = 0.1\n",
        "\n",
        "for i in tqdm(range(20)):\n",
        "    for j in range(20):\n",
        "        co_matrix[i][j] = cooccurrence(L[i][0],L[j][0])\n",
        "        # co_matrix[i][j] = (co_matrix[i][j] + a) / (nb_sentences +  a * len(frequency_list_df1))\n",
        "\n",
        "\n",
        "\n",
        "n = 20\n",
        "co_matrix_diag = np.zeros((n, n), dtype=int)\n",
        "\n",
        "for i in range(20):\n",
        "        co_matrix_diag[i][i] = occurrence(L[i][0])\n",
        "\n",
        "\n",
        "\n",
        "# co_matrix = co_matrix / nb_sentences\n",
        "co_matrix_diag = co_matrix_diag / nb_sentences\n"
      ]
    },
    {
      "cell_type": "markdown",
      "id": "f9a0546c",
      "metadata": {
        "id": "f9a0546c"
      },
      "source": [
        "faire le PMI avec les 20 mots mais avec tous les autres mots qui ne sont pas nécessairement dans cette liste\n",
        "faire avec les mots qui ont une fréquence minimale\n",
        "prendre les valeurs extrêmes (2 et -2)\n",
        "\n",
        "fin tunning sur le winogrande\n",
        "voir comment le score évolue en fonction des données qu'on lui donne\n",
        "faire des phrases :\n",
        "- interchenger des mots qui ont une faible association\n",
        "aurélien/appoline : représentaiton par des graphes"
      ]
    },
    {
      "cell_type": "code",
      "execution_count": null,
      "id": "69ca68a4",
      "metadata": {
        "id": "69ca68a4"
      },
      "outputs": [],
      "source": [
        "import seaborn as sns\n",
        "import matplotlib.pyplot as plt\n",
        "import numpy as np\n",
        "\n",
        "labels = L[:20]\n",
        "labels = [x[0] for x in labels]\n",
        "\n",
        "plt.figure(figsize=(15, 8))\n",
        "sns.heatmap(co_matrix, annot=True, fmt=\".0f\", cmap=\"Blues\",xticklabels= labels, yticklabels= labels)\n",
        "plt.gca().xaxis.set_ticks_position('top')\n",
        "plt.xticks(rotation=45)\n",
        "plt.title(\"Cooccurrence table\")\n",
        "\n",
        "\n",
        "# labels = L[:20]\n",
        "# labels = [x[0] for x in labels]\n",
        "\n",
        "# plt.figure(figsize=(15, 8))\n",
        "# sns.heatmap(co_matrix_diag, annot=True, fmt=\"0.2f\", cmap=\"Blues\",xticklabels= labels, yticklabels= labels)\n",
        "# plt.gca().xaxis.set_ticks_position('top')\n",
        "# plt.xticks(rotation=45)\n",
        "# plt.title(\"Frequency table\")\n",
        "\n",
        "# plt.show()\n"
      ]
    },
    {
      "cell_type": "code",
      "execution_count": null,
      "id": "01056b0b",
      "metadata": {
        "id": "01056b0b",
        "scrolled": true
      },
      "outputs": [],
      "source": [
        "# Pointwise mutal information\n",
        "import math\n",
        "n = 20\n",
        "\n",
        "PMI_matrix = np.zeros_like(co_matrix, dtype=float)\n",
        "\n",
        "\n",
        "for i in range(20):\n",
        "    for j in range(20):\n",
        "        if co_matrix[i][j] == 0 or  co_matrix_diag[j][j] * co_matrix_diag[i][i] == 0:\n",
        "            PMI_matrix[i][j] = float('-inf')\n",
        "        else:\n",
        "            PMI_matrix[i][j] = math.log(co_matrix[i][j]/(co_matrix_diag[j][j]*co_matrix_diag[i][i]))\n",
        "# print(PMI_matrix)"
      ]
    },
    {
      "cell_type": "code",
      "execution_count": null,
      "id": "17b99d8b",
      "metadata": {
        "id": "17b99d8b",
        "scrolled": false
      },
      "outputs": [],
      "source": [
        "labels = L[:20]\n",
        "labels = [x[0] for x in labels]\n",
        "finite_mask = np.isfinite(PMI_matrix)\n",
        "max_val = np.max(np.abs(PMI_matrix[finite_mask]))\n",
        "\n",
        "\n",
        "plt.figure(figsize=(15, 8))\n",
        "sns.heatmap(PMI_matrix, annot=True, fmt=\"0.1f\",vmin=-max_val, vmax=max_val, cmap=\"coolwarm\",xticklabels= labels, yticklabels= labels)\n",
        "plt.gca().xaxis.set_ticks_position('top')\n",
        "plt.xticks(rotation=45)\n",
        "plt.title(\"Pointwise mutal information analysis\")\n",
        "\n",
        "plt.show()"
      ]
    },
    {
      "cell_type": "markdown",
      "id": "6a97eb5b",
      "metadata": {
        "id": "6a97eb5b"
      },
      "source": [
        "schémas :\n",
        "- comparaison\n",
        "\n",
        "marc and peter were friends, but unlike marc, peter was really into sport, thus he often/never goes to matchs"
      ]
    },
    {
      "cell_type": "code",
      "execution_count": null,
      "id": "MLhkkNFkiAaW",
      "metadata": {
        "id": "MLhkkNFkiAaW"
      },
      "outputs": [],
      "source": [
        "male_names = [\n",
        "    'Ian', 'Dennis', 'Kyle', 'Logan', 'Craig', 'Derrick', 'Robert', 'Donald', 'Leslie', 'William', 'Neil',\n",
        "    'Kenneth', 'Eric', 'Kevin', 'Jason', 'Benjamin', 'Joseph', 'John', 'Aaron', 'Nick', 'Adam', 'Matthew',\n",
        "    'Justin', 'Michael', 'Joel', 'Christopher', 'Steven', 'Brett', 'Jeffrey', 'Jim', 'Byron', 'Brian', 'Samuel',\n",
        "    'Cricket', 'Jack', 'Lawrence', 'Randy', 'Ryan', 'Avid', 'Bill', 'Bob', 'Hunter', 'Jordan', 'Jay', 'Jeremy',\n",
        "    'George', 'Ricky', 'Jake', 'David', 'Patrick', 'Joe', 'Don', 'Ken', 'Kenny', 'G', 'Mike', 'California',\n",
        "    'Shane', 'Josh', 'Tim', 'Earl', 'Kim', 'Casper', 'Josh', 'Tim', 'Jay', 'Jeremy', 'Gavin', 'Samsung', 'Master',\n",
        "    'Jay', 'Jeremy', 'David', 'Peter', 'Kendall', 'Jacob', 'Josh', 'Tim', 'Gordon', 'Daniel', 'Potato', 'Max',\n",
        "    'Matt', 'Tim', 'Ken', 'Kevin', 'Joseph', 'Paul', 'George', 'Jeremy', 'Joseph', 'Brian', 'Nick', 'Nick', 'Ken',\n",
        "    'Jake', 'Steve', 'Tom', 'Frank', 'Mike', 'Peter', 'Henry', 'Larry', 'John', 'James', 'Kyle', 'Tim', 'Michael',\n",
        "    'Dave', 'Matt', 'Ben', 'Dustin', 'Oliver', 'Matt', 'Andy', 'Pete', 'Jake', 'Aaron', 'Brennan', 'Jason', 'James',\n",
        "    'Thomas', 'Charles', 'Richard', 'Walter', 'Barry', 'Tom', 'Greg', 'Jerry', 'Mark', 'Johnny', 'Todd', 'Bobby',\n",
        "    'Joe', 'Daniel', 'Sam', 'Chris', 'Josh', 'Will', 'Timothy', 'Samuel', 'Jack', 'Dustin', 'Johnny', 'Peter', 'Jerry',\n",
        "    'Nelson'\n",
        "]\n",
        "\n",
        "female_names = [\n",
        "    'Patricia', 'Megan', 'Jessica', 'Elena', 'Tanya', 'Amy', 'Jennifer', 'Sue', 'Natalie', 'Betty', 'Kayla', 'Emily',\n",
        "    'Felicia', 'Sarah', 'Jane', 'Christine', 'Victoria', 'Samantha', 'Katrina', 'Mary', 'University', 'Laura',\n",
        "    'Rachel', 'Monica', 'Maria', 'Joan', 'Carrie', 'Angela', 'Cynthia', 'Tea', 'Avid', 'Rebecca', 'Jill', 'Michelle',\n",
        "    'Jen', 'Sunday', 'Brenda', 'Nancy', 'Tina', 'Pam', 'Margot', 'Donna', 'Paris', 'Glenda', 'Sheila', 'Callie',\n",
        "    'Dina', 'Heather', 'Cathy', 'Susan', 'Fred', 'Thailand', 'China', 'Erins', 'Jenny', 'Kenny', 'Jenny', 'Lauren',\n",
        "    'Erin', 'Sandy', 'Misty', 'Erica', 'Sandy', 'Valentine', 'Sherry', 'Beth', 'Carla', 'Daphne', 'Rebecca', 'Tina',\n",
        "    'Helen', 'Margaret', 'Emily', 'Rachel', 'Laura', 'Joanna', 'Jill', 'Lucy', 'Nina', 'Kimberly', 'Kate', 'Sally',\n",
        "    'Zoe', 'Maggie', 'Olivia', 'Stephanie', 'Selma', 'Ruby', 'Ginger', 'Rita', 'Penny', 'Olga', 'Katie', 'Maggie',\n",
        "    'Claire', 'Paula', 'Fiona', 'Marie', 'Monica', 'Hannah', 'Gabrielle', 'Jessica', 'Rita', 'Gina', 'Helen', 'Anna',\n",
        "    'Elizabeth', 'Sophia', 'Isabel', 'Charlotte', 'Olivia', 'Emily', 'Pippa', 'Jessica', 'Naomi', 'Kristen', 'Melanie',\n",
        "    'Amanda', 'Ruth', 'Leah', 'Tiffany', 'Mia', 'Eva', 'Dina', 'Christina', 'Mira', 'Maggie', 'Rachel', 'Lauren',\n",
        "    'Lena', 'Sarah', 'Tasha', 'Amelia', 'Sophia', 'Rachel', 'Katie', 'Hannah', 'Juliette', 'Sandra', 'Melanie',\n",
        "    'Rosie', 'Helen', 'Emma', 'Julia', 'Emma', 'Anna', 'Barbara', 'Mandy', 'Claudia', 'Jasmine', 'Sasha', 'Julia',\n",
        "    'Zoe', 'Faith', 'Adriana', 'Sophie', 'Alice', 'Vera', 'Emily', 'Betty', 'Nicole', 'Ava', 'Diana', 'Maria', 'Charlotte',\n",
        "    'Lindsey'\n",
        "]\n"
      ]
    },
    {
      "cell_type": "code",
      "execution_count": null,
      "id": "65050339",
      "metadata": {
        "id": "65050339"
      },
      "outputs": [],
      "source": [
        "def cooccurrence_gender(frequency_list_df1,female_names,male_names):\n",
        "    co_matrix = np.zeros((2, 20), dtype=int)\n",
        "\n",
        "    counter_female, counter_male = (0,0)\n",
        "    for sentence in tqdm(df[\"sentence\"]) :\n",
        "        s = sentence.split()\n",
        "\n",
        "        if any(mot in female_names for mot in s):\n",
        "            counter_female +=1\n",
        "            for i in range(20):\n",
        "                if frequency_list_df1[i][0] in s:\n",
        "                    co_matrix[0][i] = co_matrix[0][i] + 1\n",
        "\n",
        "        if any(mot in male_names for mot in s):\n",
        "            counter_male +=1\n",
        "            for i in range(20):\n",
        "                if frequency_list_df1[i][0] in s:\n",
        "                    co_matrix[1][i] = co_matrix[1][i] + 1\n",
        "    return counter_female, counter_male, co_matrix\n",
        "\n",
        "a,b, co_matrix_gender = cooccurrence_gender(frequency_list_df1,female_names,male_names)\n",
        "a /= len(df[\"sentence\"])\n",
        "b /= len(df[\"sentence\"])"
      ]
    },
    {
      "cell_type": "code",
      "execution_count": null,
      "id": "74b79cfe",
      "metadata": {
        "id": "74b79cfe"
      },
      "outputs": [],
      "source": [
        "co_matrix_gender = co_matrix_gender / len(df[\"sentence\"])"
      ]
    },
    {
      "cell_type": "code",
      "execution_count": null,
      "id": "2f332869",
      "metadata": {
        "id": "2f332869"
      },
      "outputs": [],
      "source": [
        "labels = L[:20]\n",
        "labels = [x[0] for x in labels]\n",
        "\n",
        "plt.figure(figsize=(16, 2))\n",
        "sns.heatmap(co_matrix_gender, annot=True, fmt=\"0.2f\", cmap=\"Blues\",xticklabels= labels, yticklabels= [\"Woman\",\"Man\"])\n",
        "plt.gca().xaxis.set_ticks_position('top')\n",
        "plt.xticks(rotation=45)\n",
        "plt.title(\"Cooccurrence table : Gender\")\n",
        "\n",
        "plt.show()"
      ]
    },
    {
      "cell_type": "code",
      "execution_count": null,
      "id": "f2dddb3d",
      "metadata": {
        "id": "f2dddb3d",
        "scrolled": true
      },
      "outputs": [],
      "source": [
        "n = 20\n",
        "\n",
        "PMI_matrix_gender = np.zeros_like(co_matrix_gender, dtype=float)\n",
        "\n",
        "for j in range(20):\n",
        "    PMI_matrix_gender[0][j] = math.log(co_matrix_gender[0][j]/(a*co_matrix_diag[j][j]))\n",
        "for j in range(20):\n",
        "    PMI_matrix_gender[1][j] = math.log(co_matrix_gender[1][j]/(b*co_matrix_diag[j][j]))"
      ]
    },
    {
      "cell_type": "code",
      "execution_count": null,
      "id": "eb13b827",
      "metadata": {
        "id": "eb13b827"
      },
      "outputs": [],
      "source": [
        "labels = L[:20]\n",
        "labels = [x[0] for x in labels]\n",
        "\n",
        "max_val = np.max(np.abs(PMI_matrix_gender))\n",
        "\n",
        "plt.figure(figsize=(15, 2))\n",
        "sns.heatmap(PMI_matrix_gender, annot=True, fmt=\"0.2f\",vmin=-max_val, vmax=max_val, cmap=\"coolwarm\",xticklabels= labels, yticklabels= [\"Woman\",\"Man\"])\n",
        "plt.gca().xaxis.set_ticks_position('top')\n",
        "plt.xticks(rotation=45)\n",
        "plt.title(\"Pointwise mutal information analysis\")\n",
        "\n",
        "plt.show()"
      ]
    },
    {
      "cell_type": "code",
      "execution_count": null,
      "id": "a8458e62",
      "metadata": {
        "id": "a8458e62"
      },
      "outputs": [],
      "source": [
        "# faire 2 corpus : filtrer les phrases de wingrande\n",
        "# refaire le log likelihood"
      ]
    },
    {
      "cell_type": "code",
      "execution_count": null,
      "id": "4964307a",
      "metadata": {
        "id": "4964307a",
        "scrolled": true
      },
      "outputs": [],
      "source": []
    },
    {
      "cell_type": "code",
      "execution_count": null,
      "id": "0be26cb8",
      "metadata": {
        "id": "0be26cb8"
      },
      "outputs": [],
      "source": [
        "df_female = pd.DataFrame(columns=['Sentence'])\n",
        "for i in  tqdm(range(len(df))):\n",
        "    s = df.iloc[i,1].split()\n",
        "    if any(mot in female_names for mot in s):\n",
        "        df_female.loc[len(df_female)] = [df.iloc[i,1]]\n",
        "\n",
        "df_male = pd.DataFrame(columns=['Sentence'])\n",
        "for i in  tqdm(range(len(df))):\n",
        "    s = df.iloc[i,1].split()\n",
        "    if any(mot in male_names for mot in s):\n",
        "        df_male.loc[len(df_male)] = [df.iloc[i,1]]"
      ]
    },
    {
      "cell_type": "code",
      "execution_count": null,
      "id": "2c7ccc8b",
      "metadata": {
        "id": "2c7ccc8b",
        "scrolled": true
      },
      "outputs": [],
      "source": [
        "pd.set_option('display.max_rows', 5)\n",
        "pd.set_option('display.max_columns', 20)\n",
        "pd.set_option('display.width', 100000)\n",
        "pd.set_option('display.max_colwidth', None)\n",
        "\n",
        "print(df_male.head(50))"
      ]
    },
    {
      "cell_type": "code",
      "execution_count": null,
      "id": "d0c815a1",
      "metadata": {
        "id": "d0c815a1"
      },
      "outputs": [],
      "source": [
        "def frequency_list_gender(df):\n",
        "    tot_word_list = []\n",
        "    for i in tqdm(range(len(df))):\n",
        "        for word in df.iloc[i,0].split():\n",
        "                if not (word == '_' or word[0].isupper()):\n",
        "                    tot_word_list.append(word)\n",
        "    return *frequency3(tot_word_list), len(tot_word_list)"
      ]
    },
    {
      "cell_type": "code",
      "execution_count": null,
      "id": "d7ef6dfc",
      "metadata": {
        "id": "d7ef6dfc"
      },
      "outputs": [],
      "source": [
        "frequency_list_df_female, dict_frequency_list_df_female, size_frequency_list_df_female = frequency_list_gender(df_female)\n",
        "frequency_list_df_male, dict_frequency_list_df_male, size_frequency_list_df_male = frequency_list_gender(df_male)\n",
        "\n",
        "list_likelihood_female = log_for_40_values(frequency_list_df_female,my_dict_coca,size_frequency_list_df_female, size_frequency_list_df2)\n",
        "list_likelihood_male = log_for_40_values(frequency_list_df_male,my_dict_coca,size_frequency_list_df_male, size_frequency_list_df2)\n",
        "\n",
        "L_female = sorted(list_likelihood_female,key = lambda x: x[1], reverse = True)\n",
        "L_male = sorted(list_likelihood_male,key = lambda x: x[1], reverse = True)"
      ]
    },
    {
      "cell_type": "code",
      "execution_count": null,
      "id": "70d27481",
      "metadata": {
        "id": "70d27481",
        "scrolled": false
      },
      "outputs": [],
      "source": [
        "plot_name = \"Log-likelihood analysis : Winogrande (woman) vs COCA\"\n",
        "x1 = [row[0] for row in L_female]\n",
        "y1 = [row[1] for row in L_female]\n",
        "frequency_plot_log_likelihood(x1[:20],y1[:20],plot_name)\n",
        "\n",
        "plot_name = \"Log-likelihood analysis : Winogrande (man) vs COCA\"\n",
        "x1 = [row[0] for row in L_male]\n",
        "y1 = [row[1] for row in L_male]\n",
        "frequency_plot_log_likelihood(x1[:20],y1[:20],plot_name)"
      ]
    },
    {
      "cell_type": "code",
      "execution_count": null,
      "id": "2feabd9b",
      "metadata": {
        "id": "2feabd9b"
      },
      "outputs": [],
      "source": [
        "L_female_n = []\n",
        "L_male_n = []\n",
        "\n",
        "\n",
        "for i in range(len(L_female)):\n",
        "    temp = list(L_female[i])     # tuple -> liste\n",
        "    temp[1] /= size_frequency_list_df2 + size_frequency_list_df_female\n",
        "    L_female_n.append(temp)    # remettre en tuple\n",
        "\n",
        "for i in range(len(L_male)):\n",
        "    temp = list(L_male[i])     # tuple -> liste\n",
        "    temp[1] /= size_frequency_list_df2 + size_frequency_list_df_male\n",
        "    L_male_n.append(temp)    # remettre en tuple\n",
        "\n",
        "L_comparison_n = []\n",
        "\n",
        "for el in L_female_n:\n",
        "    if any(el[0] in L_temp for L_temp in L_male_n):\n",
        "        valeur_trouvee = next(v[1] for v in L_male_n if v[0] == el[0])\n",
        "\n",
        "        if el[1] > valeur_trouvee:\n",
        "            L_comparison_n.append((el[0], (el[1] - valeur_trouvee)/el[1]))\n",
        "        else:\n",
        "            L_comparison_n.append((el[0], (el[1] - valeur_trouvee)/valeur_trouvee))\n",
        "\n",
        "L_comparison_n_sorted = sorted(L_comparison_n, key=lambda x: x[1])"
      ]
    },
    {
      "cell_type": "code",
      "execution_count": null,
      "id": "fdfc9287",
      "metadata": {
        "id": "fdfc9287"
      },
      "outputs": [],
      "source": [
        "plot_name = \"Words more frequent in the man winogrande corpus (Log-likelihood differential analysis)\"\n",
        "x1 = [row[0] for row in L_comparison_n_sorted]\n",
        "y1 = [row[1] for row in L_comparison_n_sorted]\n",
        "frequency_plot_linear(x1[:30],y1[:30],plot_name)\n",
        "\n",
        "plot_name = \"Words more frequent in the woman winogrande corpus (Log-likelihood differential analysis)\"\n",
        "x1 = [row[0] for row in L_comparison_n_sorted]\n",
        "y1 = [row[1] for row in L_comparison_n_sorted]\n",
        "frequency_plot_linear(x1[-40:],y1[-40:],plot_name)"
      ]
    },
    {
      "cell_type": "markdown",
      "source": [
        "#Modif du corpus"
      ],
      "metadata": {
        "id": "4n5LyBwzb6NH"
      },
      "id": "4n5LyBwzb6NH"
    },
    {
      "cell_type": "code",
      "source": [
        "from tqdm import tqdm\n",
        "import re\n",
        "import random\n",
        "\n",
        "\n",
        "# Résultat attendu : ['mot1', 'mot2', 'mot3', 'mot4']\n",
        "def inv_genre(df):\n",
        "  df_mod = df.copy()\n",
        "  sent = ''\n",
        "  for i in tqdm(range(len(df))):\n",
        "    sent = df.iloc[i,1]\n",
        "    j = 0\n",
        "    for word in re.split(r\"['\\s]+\", sent):\n",
        "      if word in (female_names or male_names):\n",
        "        j++\n",
        "        new = \"Noum\" + str(j)\n",
        "        sent = sent.replace(word, new)\n",
        "        # Assuming 'option1' and 'option2' are the column names for options\n",
        "        if word in df.iloc[i]['option1']:\n",
        "          df_mod.iloc[i, df.columns.get_loc('option1')] = new\n",
        "        elif word in df.iloc[i]['option2']:\n",
        "          df_mod.iloc[i, df.columns.get_loc('option2')] = new\n",
        "    df_mod.iloc[i,1] = sent\n",
        "  return df_mod\n",
        "\n",
        "\n",
        "\n",
        "modif_df_X = modif_df(df, 'X', 'X')\n",
        "\n",
        "\n"
      ],
      "metadata": {
        "colab": {
          "base_uri": "https://localhost:8080/",
          "height": 109
        },
        "id": "7cumDQkucHLM",
        "outputId": "cc8a7263-782a-4152-d6c1-b4e2efd04614"
      },
      "id": "7cumDQkucHLM",
      "execution_count": null,
      "outputs": [
        {
          "output_type": "error",
          "ename": "SyntaxError",
          "evalue": "invalid syntax (<ipython-input-56-955572248>, line 15)",
          "traceback": [
            "\u001b[0;36m  File \u001b[0;32m\"<ipython-input-56-955572248>\"\u001b[0;36m, line \u001b[0;32m15\u001b[0m\n\u001b[0;31m    j++\u001b[0m\n\u001b[0m       ^\u001b[0m\n\u001b[0;31mSyntaxError\u001b[0m\u001b[0;31m:\u001b[0m invalid syntax\n"
          ]
        }
      ]
    },
    {
      "cell_type": "code",
      "source": [
        "def inv_genre(df):\n",
        "  df_mod = df.copy()\n",
        "  sent = ''\n",
        "  for i in range(6): # tqdm(range(0, len(df), 2)):\n",
        "    sent = df.iloc[i,1]\n",
        "    j = 1\n",
        "    for word in re.split(r\"['\\s]+\", sent):\n",
        "      if j == 1:\n",
        "        j+=1\n",
        "        if word in female_names:\n",
        "          replaced1 = word\n",
        "          new1 = random.choice(male_names)\n",
        "          sent = sent.replace(word, new1)\n",
        "          # Assuming 'option1' and 'option2' are the column names for options\n",
        "          if word in df.iloc[i]['option1']:\n",
        "            df_mod.iloc[i, df.columns.get_loc('option1')] = new1\n",
        "          elif word in df.iloc[i]['option2']:\n",
        "            df_mod.iloc[i, df.columns.get_loc('option2')] = new1\n",
        "        if word in male_names:\n",
        "          replaced1 = word\n",
        "          new1 = random.choice(female_names)\n",
        "\n",
        "          sent = sent.replace(word, new1)\n",
        "          # Assuming 'option1' and 'option2' are the column names for options\n",
        "          if word in df.iloc[i]['option1']:\n",
        "            print(df_mod.iloc[i, df.columns.get_loc('option1')])\n",
        "\n",
        "            df_mod.iloc[i, df.columns.get_loc('option1')] = new1\n",
        "          elif word in df.iloc[i]['option2']:\n",
        "            df_mod.iloc[i, df.columns.get_loc('option2')] = new1\n",
        "\n",
        "      if j == 2:\n",
        "        if word in female_names:\n",
        "          new2 = random.choice(male_names)\n",
        "          replaced2 = word\n",
        "          sent = sent.replace(word, new2)\n",
        "          # Assuming 'option1' and 'option2' are the column names for options\n",
        "          if word in df.iloc[i]['option1']:\n",
        "            df_mod.iloc[i, df.columns.get_loc('option1')] = new2\n",
        "\n",
        "          elif word in df.iloc[i]['option2']:\n",
        "            df_mod.iloc[i, df.columns.get_loc('option2')] = new2\n",
        "        if word in male_names:\n",
        "          new2 = random.choice(female_names)\n",
        "          replaced2 = word\n",
        "          sent = sent.replace(word, new2)\n",
        "          # Assuming 'option1' and 'option2' are the column names for options\n",
        "          if word in df.iloc[i]['option1']:\n",
        "            df_mod.iloc[i, df.columns.get_loc('option1')] = new2\n",
        "          elif word in df.iloc[i]['option2']:\n",
        "            df_mod.iloc[i, df.columns.get_loc('option2')] = new2\n",
        "    df_mod.iloc[i,1] = sent\n",
        "\n",
        "    sent = df.iloc[i + 1,1]\n",
        "    sent = sent.replace(replaced1, new1)\n",
        "    if j == 2:\n",
        "      sent = sent.replace(replaced2, new2)\n",
        "\n",
        "    df_mod.iloc[i + 1,1] = sent\n",
        "  return df_mod\n",
        "\n",
        "modif_df_inv_genre = inv_genre(df)"
      ],
      "metadata": {
        "colab": {
          "base_uri": "https://localhost:8080/",
          "height": 308
        },
        "id": "3eGIPH9Eevmt",
        "outputId": "5989c121-09dd-4daa-c6bd-2473cb1c73a1"
      },
      "id": "3eGIPH9Eevmt",
      "execution_count": null,
      "outputs": [
        {
          "output_type": "error",
          "ename": "UnboundLocalError",
          "evalue": "cannot access local variable 'replaced1' where it is not associated with a value",
          "traceback": [
            "\u001b[0;31m---------------------------------------------------------------------------\u001b[0m",
            "\u001b[0;31mUnboundLocalError\u001b[0m                         Traceback (most recent call last)",
            "\u001b[0;32m<ipython-input-61-128516377>\u001b[0m in \u001b[0;36m<cell line: 0>\u001b[0;34m()\u001b[0m\n\u001b[1;32m     60\u001b[0m   \u001b[0;32mreturn\u001b[0m \u001b[0mdf_mod\u001b[0m\u001b[0;34m\u001b[0m\u001b[0;34m\u001b[0m\u001b[0m\n\u001b[1;32m     61\u001b[0m \u001b[0;34m\u001b[0m\u001b[0m\n\u001b[0;32m---> 62\u001b[0;31m \u001b[0mmodif_df_inv_genre\u001b[0m \u001b[0;34m=\u001b[0m \u001b[0minv_genre\u001b[0m\u001b[0;34m(\u001b[0m\u001b[0mdf\u001b[0m\u001b[0;34m)\u001b[0m\u001b[0;34m\u001b[0m\u001b[0;34m\u001b[0m\u001b[0m\n\u001b[0m",
            "\u001b[0;32m<ipython-input-61-128516377>\u001b[0m in \u001b[0;36minv_genre\u001b[0;34m(df)\u001b[0m\n\u001b[1;32m     53\u001b[0m \u001b[0;34m\u001b[0m\u001b[0m\n\u001b[1;32m     54\u001b[0m     \u001b[0msent\u001b[0m \u001b[0;34m=\u001b[0m \u001b[0mdf\u001b[0m\u001b[0;34m.\u001b[0m\u001b[0miloc\u001b[0m\u001b[0;34m[\u001b[0m\u001b[0mi\u001b[0m \u001b[0;34m+\u001b[0m \u001b[0;36m1\u001b[0m\u001b[0;34m,\u001b[0m\u001b[0;36m1\u001b[0m\u001b[0;34m]\u001b[0m\u001b[0;34m\u001b[0m\u001b[0;34m\u001b[0m\u001b[0m\n\u001b[0;32m---> 55\u001b[0;31m     \u001b[0msent\u001b[0m \u001b[0;34m=\u001b[0m \u001b[0msent\u001b[0m\u001b[0;34m.\u001b[0m\u001b[0mreplace\u001b[0m\u001b[0;34m(\u001b[0m\u001b[0mreplaced1\u001b[0m\u001b[0;34m,\u001b[0m \u001b[0mnew1\u001b[0m\u001b[0;34m)\u001b[0m\u001b[0;34m\u001b[0m\u001b[0;34m\u001b[0m\u001b[0m\n\u001b[0m\u001b[1;32m     56\u001b[0m     \u001b[0;32mif\u001b[0m \u001b[0mj\u001b[0m \u001b[0;34m==\u001b[0m \u001b[0;36m2\u001b[0m\u001b[0;34m:\u001b[0m\u001b[0;34m\u001b[0m\u001b[0;34m\u001b[0m\u001b[0m\n\u001b[1;32m     57\u001b[0m       \u001b[0msent\u001b[0m \u001b[0;34m=\u001b[0m \u001b[0msent\u001b[0m\u001b[0;34m.\u001b[0m\u001b[0mreplace\u001b[0m\u001b[0;34m(\u001b[0m\u001b[0mreplaced2\u001b[0m\u001b[0;34m,\u001b[0m \u001b[0mnew2\u001b[0m\u001b[0;34m)\u001b[0m\u001b[0;34m\u001b[0m\u001b[0;34m\u001b[0m\u001b[0m\n",
            "\u001b[0;31mUnboundLocalError\u001b[0m: cannot access local variable 'replaced1' where it is not associated with a value"
          ]
        }
      ]
    },
    {
      "cell_type": "code",
      "source": [],
      "metadata": {
        "colab": {
          "base_uri": "https://localhost:8080/"
        },
        "id": "QQGqq8fCryd5",
        "outputId": "a550ff78-0ea7-42aa-d2a4-df53ef132b1c"
      },
      "id": "QQGqq8fCryd5",
      "execution_count": null,
      "outputs": [
        {
          "output_type": "stream",
          "name": "stdout",
          "text": [
            "\n",
            "DataFrame original :\n",
            "                                qID  \\\n",
            "0  3QHI7W7OYO7Q6B6ISU2UMJB84ZLAQE-2   \n",
            "\n",
            "                                            sentence option1 option2  answer  \n",
            "0  Paris volunteered to eat Ginger's menudo after...  Lauren  Ginger       2  \n",
            "\n",
            "DataFrame après inversion de genre :\n",
            "                                qID  \\\n",
            "0  3QHI7W7OYO7Q6B6ISU2UMJB84ZLAQE-2   \n",
            "\n",
            "                                           sentence option1 option2  answer  \n",
            "0  Emma volunteered to eat Sophie's menudo after...  Lauren  Sophie       2  \n"
          ]
        }
      ]
    },
    {
      "cell_type": "code",
      "source": [
        "modif_df_inv_genre"
      ],
      "metadata": {
        "colab": {
          "base_uri": "https://localhost:8080/",
          "height": 98
        },
        "id": "hzUIx1HRqH39",
        "outputId": "50f4c12b-c468-43ab-ddf1-7a5a219a47ff"
      },
      "id": "hzUIx1HRqH39",
      "execution_count": null,
      "outputs": [
        {
          "output_type": "execute_result",
          "data": {
            "text/plain": [
              "                                qID  \\\n",
              "0  3QHI7W7OYO7Q6B6ISU2UMJB84ZLAQE-2   \n",
              "\n",
              "                                           sentence option1 option2  answer  \n",
              "0  Emma volunteered to eat Sophie's menudo after...  Lauren  Sophie       2  "
            ],
            "text/html": [
              "\n",
              "  <div id=\"df-204f7586-82b9-4355-aa93-bab505d9ee9a\" class=\"colab-df-container\">\n",
              "    <div>\n",
              "<style scoped>\n",
              "    .dataframe tbody tr th:only-of-type {\n",
              "        vertical-align: middle;\n",
              "    }\n",
              "\n",
              "    .dataframe tbody tr th {\n",
              "        vertical-align: top;\n",
              "    }\n",
              "\n",
              "    .dataframe thead th {\n",
              "        text-align: right;\n",
              "    }\n",
              "</style>\n",
              "<table border=\"1\" class=\"dataframe\">\n",
              "  <thead>\n",
              "    <tr style=\"text-align: right;\">\n",
              "      <th></th>\n",
              "      <th>qID</th>\n",
              "      <th>sentence</th>\n",
              "      <th>option1</th>\n",
              "      <th>option2</th>\n",
              "      <th>answer</th>\n",
              "    </tr>\n",
              "  </thead>\n",
              "  <tbody>\n",
              "    <tr>\n",
              "      <th>0</th>\n",
              "      <td>3QHI7W7OYO7Q6B6ISU2UMJB84ZLAQE-2</td>\n",
              "      <td>Emma volunteered to eat Sophie's menudo after...</td>\n",
              "      <td>Lauren</td>\n",
              "      <td>Sophie</td>\n",
              "      <td>2</td>\n",
              "    </tr>\n",
              "  </tbody>\n",
              "</table>\n",
              "</div>\n",
              "    <div class=\"colab-df-buttons\">\n",
              "\n",
              "  <div class=\"colab-df-container\">\n",
              "    <button class=\"colab-df-convert\" onclick=\"convertToInteractive('df-204f7586-82b9-4355-aa93-bab505d9ee9a')\"\n",
              "            title=\"Convert this dataframe to an interactive table.\"\n",
              "            style=\"display:none;\">\n",
              "\n",
              "  <svg xmlns=\"http://www.w3.org/2000/svg\" height=\"24px\" viewBox=\"0 -960 960 960\">\n",
              "    <path d=\"M120-120v-720h720v720H120Zm60-500h600v-160H180v160Zm220 220h160v-160H400v160Zm0 220h160v-160H400v160ZM180-400h160v-160H180v160Zm440 0h160v-160H620v160ZM180-180h160v-160H180v160Zm440 0h160v-160H620v160Z\"/>\n",
              "  </svg>\n",
              "    </button>\n",
              "\n",
              "  <style>\n",
              "    .colab-df-container {\n",
              "      display:flex;\n",
              "      gap: 12px;\n",
              "    }\n",
              "\n",
              "    .colab-df-convert {\n",
              "      background-color: #E8F0FE;\n",
              "      border: none;\n",
              "      border-radius: 50%;\n",
              "      cursor: pointer;\n",
              "      display: none;\n",
              "      fill: #1967D2;\n",
              "      height: 32px;\n",
              "      padding: 0 0 0 0;\n",
              "      width: 32px;\n",
              "    }\n",
              "\n",
              "    .colab-df-convert:hover {\n",
              "      background-color: #E2EBFA;\n",
              "      box-shadow: 0px 1px 2px rgba(60, 64, 67, 0.3), 0px 1px 3px 1px rgba(60, 64, 67, 0.15);\n",
              "      fill: #174EA6;\n",
              "    }\n",
              "\n",
              "    .colab-df-buttons div {\n",
              "      margin-bottom: 4px;\n",
              "    }\n",
              "\n",
              "    [theme=dark] .colab-df-convert {\n",
              "      background-color: #3B4455;\n",
              "      fill: #D2E3FC;\n",
              "    }\n",
              "\n",
              "    [theme=dark] .colab-df-convert:hover {\n",
              "      background-color: #434B5C;\n",
              "      box-shadow: 0px 1px 3px 1px rgba(0, 0, 0, 0.15);\n",
              "      filter: drop-shadow(0px 1px 2px rgba(0, 0, 0, 0.3));\n",
              "      fill: #FFFFFF;\n",
              "    }\n",
              "  </style>\n",
              "\n",
              "    <script>\n",
              "      const buttonEl =\n",
              "        document.querySelector('#df-204f7586-82b9-4355-aa93-bab505d9ee9a button.colab-df-convert');\n",
              "      buttonEl.style.display =\n",
              "        google.colab.kernel.accessAllowed ? 'block' : 'none';\n",
              "\n",
              "      async function convertToInteractive(key) {\n",
              "        const element = document.querySelector('#df-204f7586-82b9-4355-aa93-bab505d9ee9a');\n",
              "        const dataTable =\n",
              "          await google.colab.kernel.invokeFunction('convertToInteractive',\n",
              "                                                    [key], {});\n",
              "        if (!dataTable) return;\n",
              "\n",
              "        const docLinkHtml = 'Like what you see? Visit the ' +\n",
              "          '<a target=\"_blank\" href=https://colab.research.google.com/notebooks/data_table.ipynb>data table notebook</a>'\n",
              "          + ' to learn more about interactive tables.';\n",
              "        element.innerHTML = '';\n",
              "        dataTable['output_type'] = 'display_data';\n",
              "        await google.colab.output.renderOutput(dataTable, element);\n",
              "        const docLink = document.createElement('div');\n",
              "        docLink.innerHTML = docLinkHtml;\n",
              "        element.appendChild(docLink);\n",
              "      }\n",
              "    </script>\n",
              "  </div>\n",
              "\n",
              "\n",
              "  <div id=\"id_394bc668-5b85-43be-bece-15456fcb99df\">\n",
              "    <style>\n",
              "      .colab-df-generate {\n",
              "        background-color: #E8F0FE;\n",
              "        border: none;\n",
              "        border-radius: 50%;\n",
              "        cursor: pointer;\n",
              "        display: none;\n",
              "        fill: #1967D2;\n",
              "        height: 32px;\n",
              "        padding: 0 0 0 0;\n",
              "        width: 32px;\n",
              "      }\n",
              "\n",
              "      .colab-df-generate:hover {\n",
              "        background-color: #E2EBFA;\n",
              "        box-shadow: 0px 1px 2px rgba(60, 64, 67, 0.3), 0px 1px 3px 1px rgba(60, 64, 67, 0.15);\n",
              "        fill: #174EA6;\n",
              "      }\n",
              "\n",
              "      [theme=dark] .colab-df-generate {\n",
              "        background-color: #3B4455;\n",
              "        fill: #D2E3FC;\n",
              "      }\n",
              "\n",
              "      [theme=dark] .colab-df-generate:hover {\n",
              "        background-color: #434B5C;\n",
              "        box-shadow: 0px 1px 3px 1px rgba(0, 0, 0, 0.15);\n",
              "        filter: drop-shadow(0px 1px 2px rgba(0, 0, 0, 0.3));\n",
              "        fill: #FFFFFF;\n",
              "      }\n",
              "    </style>\n",
              "    <button class=\"colab-df-generate\" onclick=\"generateWithVariable('modif_df_inv_genre')\"\n",
              "            title=\"Generate code using this dataframe.\"\n",
              "            style=\"display:none;\">\n",
              "\n",
              "  <svg xmlns=\"http://www.w3.org/2000/svg\" height=\"24px\"viewBox=\"0 0 24 24\"\n",
              "       width=\"24px\">\n",
              "    <path d=\"M7,19H8.4L18.45,9,17,7.55,7,17.6ZM5,21V16.75L18.45,3.32a2,2,0,0,1,2.83,0l1.4,1.43a1.91,1.91,0,0,1,.58,1.4,1.91,1.91,0,0,1-.58,1.4L9.25,21ZM18.45,9,17,7.55Zm-12,3A5.31,5.31,0,0,0,4.9,8.1,5.31,5.31,0,0,0,1,6.5,5.31,5.31,0,0,0,4.9,4.9,5.31,5.31,0,0,0,6.5,1,5.31,5.31,0,0,0,8.1,4.9,5.31,5.31,0,0,0,12,6.5,5.46,5.46,0,0,0,6.5,12Z\"/>\n",
              "  </svg>\n",
              "    </button>\n",
              "    <script>\n",
              "      (() => {\n",
              "      const buttonEl =\n",
              "        document.querySelector('#id_394bc668-5b85-43be-bece-15456fcb99df button.colab-df-generate');\n",
              "      buttonEl.style.display =\n",
              "        google.colab.kernel.accessAllowed ? 'block' : 'none';\n",
              "\n",
              "      buttonEl.onclick = () => {\n",
              "        google.colab.notebook.generateWithVariable('modif_df_inv_genre');\n",
              "      }\n",
              "      })();\n",
              "    </script>\n",
              "  </div>\n",
              "\n",
              "    </div>\n",
              "  </div>\n"
            ],
            "application/vnd.google.colaboratory.intrinsic+json": {
              "type": "dataframe",
              "variable_name": "modif_df_inv_genre",
              "summary": "{\n  \"name\": \"modif_df_inv_genre\",\n  \"rows\": 1,\n  \"fields\": [\n    {\n      \"column\": \"qID\",\n      \"properties\": {\n        \"dtype\": \"string\",\n        \"num_unique_values\": 1,\n        \"samples\": [\n          \"3QHI7W7OYO7Q6B6ISU2UMJB84ZLAQE-2\"\n        ],\n        \"semantic_type\": \"\",\n        \"description\": \"\"\n      }\n    },\n    {\n      \"column\": \"sentence\",\n      \"properties\": {\n        \"dtype\": \"string\",\n        \"num_unique_values\": 1,\n        \"samples\": [\n          \"Emma volunteered to eat Sophie's menudo after...\"\n        ],\n        \"semantic_type\": \"\",\n        \"description\": \"\"\n      }\n    },\n    {\n      \"column\": \"option1\",\n      \"properties\": {\n        \"dtype\": \"string\",\n        \"num_unique_values\": 1,\n        \"samples\": [\n          \"Lauren\"\n        ],\n        \"semantic_type\": \"\",\n        \"description\": \"\"\n      }\n    },\n    {\n      \"column\": \"option2\",\n      \"properties\": {\n        \"dtype\": \"string\",\n        \"num_unique_values\": 1,\n        \"samples\": [\n          \"Sophie\"\n        ],\n        \"semantic_type\": \"\",\n        \"description\": \"\"\n      }\n    },\n    {\n      \"column\": \"answer\",\n      \"properties\": {\n        \"dtype\": \"number\",\n        \"std\": null,\n        \"min\": 2,\n        \"max\": 2,\n        \"num_unique_values\": 1,\n        \"samples\": [\n          2\n        ],\n        \"semantic_type\": \"\",\n        \"description\": \"\"\n      }\n    }\n  ]\n}"
            }
          },
          "metadata": {},
          "execution_count": 60
        }
      ]
    },
    {
      "cell_type": "code",
      "source": [
        "modif_df_X.to_json(\n",
        "    'names_X.json',\n",
        "    orient='records',\n",
        "    indent=4,\n",
        "    force_ascii=False, # Pour que les accents s'affichent correctement\n",
        "    date_format='iso'\n",
        ")\n",
        "\n",
        "from google.colab import files\n",
        "\n",
        "# ... (ton code pour créer et exporter le DataFrame en CSV) ...\n",
        "\n",
        "# Télécharge le fichier sur ton ordinateur local\n",
        "files.download('names_X.json')"
      ],
      "metadata": {
        "id": "LOlfNhj_cdRb"
      },
      "id": "LOlfNhj_cdRb",
      "execution_count": null,
      "outputs": []
    },
    {
      "cell_type": "code",
      "source": [],
      "metadata": {
        "id": "bhHcdndRZ6Qz"
      },
      "id": "bhHcdndRZ6Qz",
      "execution_count": null,
      "outputs": []
    },
    {
      "cell_type": "markdown",
      "source": [
        "utiliser le prompting en donnant des exemples à BERT\n",
        "on utilise le tchat car il prendre mieux en compte le prompt => \"instruction tunned\"\n",
        "\n",
        "on peut peut utiliser roberta : on récupère les vecteur des phrases et des options\n",
        "\n",
        "on a 2 paires et faire 4 scores et entrainer le modèle à donner les bonnes paires\n",
        "\n",
        "faire tourner roberta de sakaguchi\n",
        "\n",
        "classifier : tester sur le winogrande\n",
        "=> faire une k fold\n",
        "\n",
        "faire la même pmi dans le sous corpus de la nourriture\n",
        "au lieu de comparer à coca, comparer à winogrande\n",
        "faire supprimer les mots peu fréquents\n",
        "\n",
        "=> voir les mots qui ressortent par les biais sexistes\n",
        "=> refaire un pmi\n",
        "faire une stat des phrases qui contiennt des mots féminins et masculins\n",
        "\n",
        "doit on faire des tests statistiques ? faire un qhi carré => après le classifieur, voir thématique (positifs et négatifs) et homme/femme\n",
        "\n",
        "hypthèses sur instead et while, en emmettre des autres\n",
        "ex : vérifier si while est associé à la comparaison\n",
        "\n",
        "jeudi à 11h : réunion"
      ],
      "metadata": {
        "id": "2puubYAyZ8pk"
      },
      "id": "2puubYAyZ8pk"
    }
  ],
  "metadata": {
    "accelerator": "GPU",
    "colab": {
      "gpuType": "T4",
      "provenance": []
    },
    "kernelspec": {
      "display_name": "Python 3",
      "name": "python3"
    },
    "language_info": {
      "codemirror_mode": {
        "name": "ipython",
        "version": 3
      },
      "file_extension": ".py",
      "mimetype": "text/x-python",
      "name": "python",
      "nbconvert_exporter": "python",
      "pygments_lexer": "ipython3",
      "version": "3.10.9"
    }
  },
  "nbformat": 4,
  "nbformat_minor": 5
}