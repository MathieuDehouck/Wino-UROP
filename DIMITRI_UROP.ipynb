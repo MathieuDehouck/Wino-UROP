{
 "cells": [
  {
   "cell_type": "code",
   "execution_count": 3,
   "id": "eeb8c847",
   "metadata": {},
   "outputs": [
    {
     "data": {
      "image/png": "[encoded data removed]",
      "text/plain": [
       "<Figure size 432x288 with 1 Axes>"
      ]
     },
     "metadata": {
      "needs_background": "light"
     },
     "output_type": "display_data"
    }
   ],
   "source": [
    "import json\n",
    "import matplotlib.pyplot as plt\n",
    "from collections import Counter\n",
    "from pathlib import Path\n",
    "import os\n",
    "from os.path import normpath\n",
    "from pathlib import PureWindowsPath\n",
    "\n",
    "\n",
    "def convert(path):\n",
    "    return PureWindowsPath(normpath(PureWindowsPath(path).as_posix())).as_posix()\n",
    "\n",
    "\n",
    "# import spacy\n",
    "\n",
    "chemin_du_fichier = convert(r\"winogrande_1.1\\train_s.jsonl\")\n",
    "l_option1 = []\n",
    "\n",
    "with open(chemin_du_fichier, \"r\", encoding=\"utf-8\") as fichier:\n",
    "    for ligne in fichier:\n",
    "        try:\n",
    "            # Charger chaque ligne comme un objet JSON\n",
    "            data = json.loads(ligne)\n",
    "           \n",
    "            l_option1.append(data[\"option1\"])\n",
    "\n",
    "             # Traite ou affiche l'objet JSON\n",
    "        except json.JSONDecodeError as e:\n",
    "            print(f\"Erreur de décodage JSON dans la ligne : {ligne}\")\n",
    "            print(e)\n",
    "\n",
    "\n",
    "\n",
    "\n",
    "# Compter les occurrences avec Counter\n",
    "compte = Counter(l_option1)\n",
    "\n",
    "# Extraire les clés et les valeurs\n",
    "mots = list(compte.keys())\n",
    "occurences = list(compte.values())\n",
    "\n",
    "# Création du graphe d'occurrence\n",
    "plt.bar(mots, occurences)\n",
    "\n",
    "# Ajouter un titre et des labels\n",
    "plt.title(\"Graphe d'Occurences\")\n",
    "plt.xlabel(\"Mots\")\n",
    "plt.ylabel(\"Occurrences\")\n",
    "\n",
    "# Afficher le graphe\n",
    "plt.show()\n"
   ]
  },
  {
   "cell_type": "code",
   "execution_count": 14,
   "id": "54c40a7a",
   "metadata": {},
   "outputs": [
    {
     "name": "stdout",
     "output_type": "stream",
     "text": [
      "0.146875\n"
     ]
    }
   ],
   "source": [
    "len_mots = len(mots)\n",
    "len_l_option1 = len(l_option1)\n",
    "\n",
    "ratio = len(mots) / (len(l_option1) * 2)\n",
    "print(ratio)\n"
   ]
  }
 ],
 "metadata": {
  "kernelspec": {
   "display_name": "Python 3",
   "language": "python",
   "name": "python3"
  },
  "language_info": {
   "codemirror_mode": {
    "name": "ipython",
    "version": 3
   },
   "file_extension": ".py",
   "mimetype": "text/x-python",
   "name": "python",
   "nbconvert_exporter": "python",
   "pygments_lexer": "ipython3",
   "version": "3.8.18"
  }
 },
 "nbformat": 4,
 "nbformat_minor": 5
}
