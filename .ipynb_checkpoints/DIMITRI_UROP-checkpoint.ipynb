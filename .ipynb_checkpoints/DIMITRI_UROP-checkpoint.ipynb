{
 "cells": [
  {
   "cell_type": "code",
   "execution_count": 2,
   "id": "8a1c762a",
   "metadata": {},
   "outputs": [
    {
     "ename": "FileNotFoundError",
     "evalue": "[Errno 2] No such file or directory: '/Users/olga/Documents/Stages/UROP/Wino-UROP/winogrande_1.1\\train_s.jsonl'",
     "output_type": "error",
     "traceback": [
      "\u001b[0;31m---------------------------------------------------------------------------\u001b[0m",
      "\u001b[0;31mFileNotFoundError\u001b[0m                         Traceback (most recent call last)",
      "\u001b[0;32m<ipython-input-2-419b764433d5>\u001b[0m in \u001b[0;36m<module>\u001b[0;34m\u001b[0m\n\u001b[1;32m     10\u001b[0m \u001b[0ml_option1\u001b[0m \u001b[0;34m=\u001b[0m \u001b[0;34m[\u001b[0m\u001b[0;34m]\u001b[0m\u001b[0;34m\u001b[0m\u001b[0;34m\u001b[0m\u001b[0m\n\u001b[1;32m     11\u001b[0m \u001b[0;34m\u001b[0m\u001b[0m\n\u001b[0;32m---> 12\u001b[0;31m \u001b[0;32mwith\u001b[0m \u001b[0mopen\u001b[0m\u001b[0;34m(\u001b[0m\u001b[0mchemin_du_fichier\u001b[0m\u001b[0;34m,\u001b[0m \u001b[0;34m\"r\"\u001b[0m\u001b[0;34m,\u001b[0m \u001b[0mencoding\u001b[0m\u001b[0;34m=\u001b[0m\u001b[0;34m\"utf-8\"\u001b[0m\u001b[0;34m)\u001b[0m \u001b[0;32mas\u001b[0m \u001b[0mfichier\u001b[0m\u001b[0;34m:\u001b[0m\u001b[0;34m\u001b[0m\u001b[0;34m\u001b[0m\u001b[0m\n\u001b[0m\u001b[1;32m     13\u001b[0m     \u001b[0;32mfor\u001b[0m \u001b[0mligne\u001b[0m \u001b[0;32min\u001b[0m \u001b[0mfichier\u001b[0m\u001b[0;34m:\u001b[0m\u001b[0;34m\u001b[0m\u001b[0;34m\u001b[0m\u001b[0m\n\u001b[1;32m     14\u001b[0m         \u001b[0;32mtry\u001b[0m\u001b[0;34m:\u001b[0m\u001b[0;34m\u001b[0m\u001b[0;34m\u001b[0m\u001b[0m\n",
      "\u001b[0;31mFileNotFoundError\u001b[0m: [Errno 2] No such file or directory: '/Users/olga/Documents/Stages/UROP/Wino-UROP/winogrande_1.1\\train_s.jsonl'"
     ]
    }
   ],
   "source": [
    "import json\n",
    "import matplotlib.pyplot as plt\n",
    "from collections import Counter\n",
    "from pathlib import Path\n",
    "import os\n",
    "from os.path import normpath\n",
    "from pathlib import PureWindowsPath\n",
    "\n",
    "\n",
    "def convert(path):\n",
    "    return PureWindowsPath(normpath(PureWindowsPath(path).as_posix())).as_posix()\n",
    "\n",
    "\n",
    "# import spacy\n",
    "\n",
    "chemin_du_fichier = convert(r\"winogrande_1.1\\train_s.jsonl\")\n",
    "l_option1 = []\n",
    "\n",
    "with open(chemin_du_fichier, \"r\", encoding=\"utf-8\") as fichier:\n",
    "    for ligne in fichier:\n",
    "        try:\n",
    "            # Charger chaque ligne comme un objet JSON\n",
    "            data = json.loads(ligne)\n",
    "           \n",
    "            l_option1.append(data[\"option1\"])\n",
    "\n",
    "             # Traite ou affiche l'objet JSON\n",
    "        except json.JSONDecodeError as e:\n",
    "            print(f\"Erreur de décodage JSON dans la ligne : {ligne}\")\n",
    "            print(e)\n",
    "\n",
    "\n",
    "\n",
    "\n",
    "# Compter les occurrences avec Counter\n",
    "compte = Counter(l_option1)\n",
    "\n",
    "# Extraire les clés et les valeurs\n",
    "mots = list(compte.keys())\n",
    "occurences = list(compte.values())\n",
    "\n",
    "# Création du graphe d'occurrence\n",
    "plt.bar(mots, occurences)\n",
    "\n",
    "# Ajouter un titre et des labels\n",
    "plt.title(\"Graphe d'Occurences\")\n",
    "plt.xlabel(\"Mots\")\n",
    "plt.ylabel(\"Occurrences\")\n",
    "\n",
    "# Afficher le graphe\n",
    "plt.show()\n"
   ]
  },
  {
   "cell_type": "code",
   "execution_count": 14,
   "id": "29169efc",
   "metadata": {},
   "outputs": [
    {
     "name": "stdout",
     "output_type": "stream",
     "text": [
      "0.146875\n"
     ]
    }
   ],
   "source": [
    "len_mots = len(mots)\n",
    "len_l_option1 = len(l_option1)\n",
    "\n",
    "ratio = len(mots) / (len(l_option1) * 2)\n",
    "print(ratio)\n"
   ]
  }
 ],
 "metadata": {
  "kernelspec": {
   "display_name": "Python 3",
   "language": "python",
   "name": "python3"
  },
  "language_info": {
   "codemirror_mode": {
    "name": "ipython",
    "version": 3
   },
   "file_extension": ".py",
   "mimetype": "text/x-python",
   "name": "python",
   "nbconvert_exporter": "python",
   "pygments_lexer": "ipython3",
   "version": "3.8.18"
  }
 },
 "nbformat": 4,
 "nbformat_minor": 5
}
