{
 "cells": [
  {
   "cell_type": "markdown",
   "metadata": {
    "id": "93p2ry9ZIHlj"
   },
   "source": [
    "# Import libraries"
   ]
  },
  {
   "cell_type": "code",
   "execution_count": 2,
   "metadata": {
    "id": "gADjL6MDH_D9"
   },
   "outputs": [
    {
     "ename": "ModuleNotFoundError",
     "evalue": "No module named 'google'",
     "output_type": "error",
     "traceback": [
      "\u001b[1;31m---------------------------------------------------------------------------\u001b[0m",
      "\u001b[1;31mModuleNotFoundError\u001b[0m                       Traceback (most recent call last)",
      "Cell \u001b[1;32mIn[2], line 5\u001b[0m\n\u001b[0;32m      2\u001b[0m \u001b[38;5;28;01mimport\u001b[39;00m \u001b[38;5;21;01mseaborn\u001b[39;00m \u001b[38;5;28;01mas\u001b[39;00m \u001b[38;5;21;01msns\u001b[39;00m\n\u001b[0;32m      4\u001b[0m \u001b[38;5;28;01mimport\u001b[39;00m \u001b[38;5;21;01mrequests\u001b[39;00m\n\u001b[1;32m----> 5\u001b[0m \u001b[38;5;28;01mfrom\u001b[39;00m \u001b[38;5;21;01mgoogle\u001b[39;00m\u001b[38;5;21;01m.\u001b[39;00m\u001b[38;5;21;01mcolab\u001b[39;00m \u001b[38;5;28;01mimport\u001b[39;00m files\n\u001b[0;32m      6\u001b[0m \u001b[38;5;28;01mimport\u001b[39;00m \u001b[38;5;21;01mio\u001b[39;00m\n\u001b[0;32m      7\u001b[0m \u001b[38;5;28;01mimport\u001b[39;00m \u001b[38;5;21;01mpandas\u001b[39;00m \u001b[38;5;28;01mas\u001b[39;00m \u001b[38;5;21;01mpd\u001b[39;00m\n",
      "\u001b[1;31mModuleNotFoundError\u001b[0m: No module named 'google'"
     ]
    }
   ],
   "source": [
    "import matplotlib.pyplot as plt\n",
    "import seaborn as sns\n",
    "\n",
    "import requests\n",
    "from google.colab import files\n",
    "import io\n",
    "import pandas as pd\n",
    "from difflib import Differ\n",
    "import string\n"
   ]
  },
  {
   "cell_type": "markdown",
   "metadata": {
    "id": "MOlTULzVIN3y"
   },
   "source": [
    "#Import data"
   ]
  },
  {
   "cell_type": "code",
   "execution_count": null,
   "metadata": {
    "colab": {
     "base_uri": "https://localhost:8080/",
     "height": 73
    },
    "id": "eBe9TvkfIQDh",
    "outputId": "80ed1080-5a93-47fd-9cba-7c12eef64432"
   },
   "outputs": [],
   "source": [
    "# Après exécution de cette cellule, vous devez charger le jeu de données précédemment téléchargé\n",
    "uploaded = files.upload()"
   ]
  },
  {
   "cell_type": "code",
   "execution_count": null,
   "metadata": {
    "colab": {
     "base_uri": "https://localhost:8080/",
     "height": 424
    },
    "id": "w_zR3UmjIV4C",
    "outputId": "fd023211-e7cc-4eda-f6a5-5ec2ed0575c0"
   },
   "outputs": [],
   "source": [
    "df = pd.read_json(io.BytesIO(uploaded['train_l.jsonl']), lines=True)\n",
    "df"
   ]
  },
  {
   "cell_type": "markdown",
   "metadata": {
    "id": "u1QIuF6MLEUV"
   },
   "source": [
    "#Regroup pairs"
   ]
  },
  {
   "cell_type": "code",
   "execution_count": null,
   "metadata": {
    "colab": {
     "base_uri": "https://localhost:8080/",
     "height": 424
    },
    "id": "voZF0eQALF-H",
    "outputId": "fc417ebe-2d4a-4642-8b8d-1668109bdecf"
   },
   "outputs": [],
   "source": [
    "df[\"GroupID\"] = df[\"qID\"].str[:-2]\n",
    "df"
   ]
  },
  {
   "cell_type": "markdown",
   "metadata": {
    "id": "ClzAFONxJ9_v"
   },
   "source": [
    "#1. Special case / alternate"
   ]
  },
  {
   "cell_type": "code",
   "execution_count": null,
   "metadata": {
    "id": "BOUPjlUMJCjR"
   },
   "outputs": [],
   "source": [
    "# Fonction de nettoyage des mots (minuscules et suppression de la ponctuation)\n",
    "def clean_word(word):\n",
    "    # Convertir en minuscules\n",
    "    word = word.lower()\n",
    "    # Supprimer la ponctuation\n",
    "    word = word.translate(str.maketrans('', '', string.punctuation))\n",
    "    return word"
   ]
  },
  {
   "cell_type": "code",
   "execution_count": null,
   "metadata": {
    "colab": {
     "base_uri": "https://localhost:8080/",
     "height": 652
    },
    "id": "xoize0BzRVcH",
    "outputId": "b0498c70-e8ec-4c3e-bebb-1f515ff81733"
   },
   "outputs": [],
   "source": [
    "def find_differences(group):\n",
    "    if len(group) == 2:  # Si le groupe a exactement 2 phrases\n",
    "        sentence1, sentence2 = group.iloc[0][\"sentence\"], group.iloc[1][\"sentence\"]\n",
    "\n",
    "        words1 = set(sentence1.split())  # Découpe la phrase en mots\n",
    "        words2 = set(sentence2.split())  # Découpe l'autre phrase en mots\n",
    "\n",
    "        diff1 = words1 - words2  # Mots dans phrase1 mais pas dans phrase2\n",
    "        diff2 = words2 - words1  # Mots dans phrase2 mais pas dans phrase1\n",
    "\n",
    "        # Nettoyer les différences\n",
    "        cleaned_diff1 = {clean_word(word) for word in diff1}\n",
    "        cleaned_diff2 = {clean_word(word) for word in diff2}\n",
    "\n",
    "        # Retourner les différences sous forme de chaînes de caractères distinctes\n",
    "        return pd.Series([\", \".join(cleaned_diff1), \", \".join(cleaned_diff2)], index=['diff1', 'diff2'])\n",
    "\n",
    "    elif len(group) == 1:  # Si une seule phrase dans le groupe\n",
    "        return pd.Series([None, None], index=['diff1', 'diff2'])\n",
    "\n",
    "    return pd.Series([None, None], index=['diff1', 'diff2'])\n",
    "\n",
    "# Appliquer la fonction aux groupes\n",
    "df_diff = df.groupby(\"GroupID\").apply(find_differences).reset_index()\n",
    "\n",
    "# Étape 3 : Ajouter les différences dans le DataFrame original\n",
    "df = pd.merge(df, df_diff, on=\"GroupID\", how=\"left\")\n",
    "df\n"
   ]
  },
  {
   "cell_type": "code",
   "execution_count": null,
   "metadata": {
    "colab": {
     "base_uri": "https://localhost:8080/"
    },
    "id": "bLtA8fuMLucJ",
    "outputId": "535a0251-e25f-450b-9c22-3b3a99b397be"
   },
   "outputs": [],
   "source": [
    "df['sorted_pair'] = df.apply(lambda row: tuple(sorted([row['diff1'], row['diff2']])), axis=1)\n",
    "\n",
    "# Utiliser groupby pour compter les occurrences des paires\n",
    "pair_counts = df.groupby('sorted_pair').size().reset_index(name='count')\n",
    "pair_counts['count'] = pair_counts['count'] / 2\n",
    "\n",
    "# Trier pour afficher le classement\n",
    "ranked_pairs = pair_counts.sort_values(by='count', ascending=False).reset_index(drop=True)\n",
    "\n",
    "print(ranked_pairs)"
   ]
  },
  {
   "cell_type": "code",
   "execution_count": null,
   "metadata": {
    "colab": {
     "base_uri": "https://localhost:8080/",
     "height": 826
    },
    "id": "sQxJsNWASWnK",
    "outputId": "ec3c691a-dfa0-42b2-9deb-b504e625d403"
   },
   "outputs": [],
   "source": [
    "# Convertir les tuples de sorted_pair en chaînes de caractères\n",
    "ranked_pairs['sorted_pair_str'] = ranked_pairs['sorted_pair'].apply(lambda x: ', '.join(map(str, x)))\n",
    "\n",
    "# Réinitialiser l'index pour éviter les problèmes avec MultiIndex\n",
    "ranked_pairs = ranked_pairs.reset_index(drop=True)\n",
    "\n",
    "# Créer un graphique à barres des paires les plus fréquentes\n",
    "plt.figure(figsize=(12, 8))\n",
    "\n",
    "# Tracer le graphique avec seaborn\n",
    "sns.barplot(x='count', y='sorted_pair_str', data=ranked_pairs.head(15), palette='viridis')\n",
    "\n",
    "# Ajouter les titres et les labels\n",
    "plt.title('Top 15 des Paires les Plus Fréquentes')\n",
    "plt.xlabel('Nombre d\\'Occurrences')\n",
    "plt.ylabel('Paires Triées')\n",
    "\n",
    "# Afficher le graphique\n",
    "plt.show()"
   ]
  },
  {
   "cell_type": "markdown",
   "metadata": {
    "id": "zcBRaE7d8jRu"
   },
   "source": [
    "# 2. Name"
   ]
  },
  {
   "cell_type": "code",
   "execution_count": null,
   "metadata": {
    "colab": {
     "base_uri": "https://localhost:8080/",
     "height": 1000
    },
    "id": "KCLZEshA_y3C",
    "outputId": "8f7d36a2-5c36-4ce1-b676-e115d92c1742"
   },
   "outputs": [],
   "source": [
    "def classify_word(word):\n",
    "    # Vérifier si le mot est un nom propre ou un nom commun\n",
    "    if word[0].isupper():\n",
    "        return \"proper name\"\n",
    "    else:\n",
    "        return \"common name\"\n",
    "\n",
    "# Appliquer la fonction aux colonnes option1 et option2\n",
    "df['option1_type'] = df['option1'].apply(classify_word)\n",
    "df['option2_type'] = df['option2'].apply(classify_word)\n",
    "\n",
    "# Ajouter une colonne qui combine les deux informations\n",
    "df['options_type'] = df.apply(\n",
    "    lambda row: f\"{row['option1_type']} / {row['option2_type']}\", axis=1\n",
    ")\n",
    "\n",
    "df"
   ]
  },
  {
   "cell_type": "code",
   "execution_count": null,
   "metadata": {
    "colab": {
     "base_uri": "https://localhost:8080/",
     "height": 573
    },
    "id": "-xluehuMs07N",
    "outputId": "dbb018d2-0f64-4abb-a1fc-5609b8960d3a"
   },
   "outputs": [],
   "source": [
    "sns.countplot(y='options_type', data=df, order=df['options_type'].value_counts().index, palette='viridis')"
   ]
  }
 ],
 "metadata": {
  "colab": {
   "provenance": []
  },
  "kernelspec": {
   "display_name": "Python 3 (ipykernel)",
   "language": "python",
   "name": "python3"
  },
  "language_info": {
   "codemirror_mode": {
    "name": "ipython",
    "version": 3
   },
   "file_extension": ".py",
   "mimetype": "text/x-python",
   "name": "python",
   "nbconvert_exporter": "python",
   "pygments_lexer": "ipython3",
   "version": "3.10.9"
  }
 },
 "nbformat": 4,
 "nbformat_minor": 1
}
